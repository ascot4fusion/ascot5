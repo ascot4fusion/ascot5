{
 "cells": [
  {
   "cell_type": "markdown",
   "metadata": {},
   "source": [
    "# Estimating wall loads\n",
    "\n",
    "<img src='../../figures/wallload.png' alt='thumbnail' width='200'/>\n",
    "\n",
    "This example shows how to estimate and visualize wall loads.\n",
    "\n",
    "Accurate modelling of the wall loads is one of the most computationally expensive operations one can use ASCOT5 for because it can require millions of markers.\n",
    "Therefore it is worthwhile to invest in marker generation and pre-selection, but those topics are discussed in a separate example.\n",
    "\n",
    "In this example we focus just on the wall loads.\n",
    "Therefore we generate neutral markers which obviously are lost instantly."
   ]
  },
  {
   "cell_type": "code",
   "execution_count": null,
   "metadata": {},
   "outputs": [],
   "source": [
    "import numpy as np\n",
    "import unyt\n",
    "from a5py import Ascot\n",
    "\n",
    "a5 = Ascot(\"ascot.h5\", create=True)\n",
    "\n",
    "a5.data.create_input(\"bfield analytical iter circular\")\n",
    "a5.data.create_input(\"plasma flat\")\n",
    "a5.data.create_input(\"E_TC\")\n",
    "a5.data.create_input(\"N0_1D\")\n",
    "a5.data.create_input(\"Boozer\")\n",
    "a5.data.create_input(\"MHD_STAT\")\n",
    "a5.data.create_input(\"asigma_loc\")\n",
    "\n",
    "# Neutrals with a random velocity vector\n",
    "power = 1.0e7 * unyt.W\n",
    "from a5py.ascot5io.marker import Marker\n",
    "nmrk = 10**5\n",
    "mrk = Marker.generate(\"gc\", n=nmrk, species=\"alpha\")\n",
    "mrk[\"charge\"][:] = 0\n",
    "mrk[\"energy\"][:] = 3.5e6\n",
    "mrk[\"pitch\"][:]  = 0.999 - 1.998 * np.random.rand(nmrk,)\n",
    "mrk[\"zeta\"][:]   = 2*np.pi * np.random.rand(nmrk,)\n",
    "mrk[\"r\"][:]      = 8.5\n",
    "mrk[\"z\"][:]      = 0.0\n",
    "mrk[\"phi\"][:]    = 180\n",
    "mrk[\"weight\"][:] = (power / (nmrk * mrk[\"energy\"] * unyt.eV)).to(\"particles/s\")\n",
    "a5.data.create_input(\"gc\", **mrk)\n",
    "\n",
    "print(\"Inputs created\")"
   ]
  },
  {
   "cell_type": "markdown",
   "metadata": {},
   "source": [
    "The other relevant input is the 3D wall as the wall loads can't be estimated with a 2D wall (whose linear elements have no area!).\n",
    "Experience has shown that while the magnetic field perturbations governs how much and where particles are lost, the wall shape has a huge impact on the values of the wall loads and where exactly the hot spots form.\n",
    "Hence an accurate wall geometry is essential for accurate results.\n",
    "\n",
    "But since we are simulating neutral particles born on-axis and immune to ionization, we clearly don't care about accuracy and our 3D wall is just a 2D contour that is revolved toroidally: "
   ]
  },
  {
   "cell_type": "code",
   "execution_count": null,
   "metadata": {},
   "outputs": [],
   "source": [
    "from a5py.ascot5io.wall import wall_3D\n",
    "\n",
    "rad  = 2.0\n",
    "pol  = np.linspace(0, 2*np.pi, 181)[:-1]\n",
    "w2d = {\"nelements\":180,\n",
    "       \"r\":7.0 + rad*np.cos(pol), \"z\":rad*np.sin(pol)}\n",
    "w3d = wall_3D.convert_wall_2D(180, **w2d)\n",
    "a5.data.create_input(\"wall_3D\", **w3d, desc=\"REVOLVED\")"
   ]
  },
  {
   "cell_type": "markdown",
   "metadata": {},
   "source": [
    "While engineers weep, we set up the simulation options and run the code.\n",
    "In options the only noteworthy parameters are that the wall hit end condition is enabled, and that we use gyro-orbit simulation mode.\n",
    "Guiding-center simulations also produce wall hits but they might underestimate the loads or hit \"wrong\" spots if the Larmor radius is large."
   ]
  },
  {
   "cell_type": "code",
   "execution_count": null,
   "metadata": {},
   "outputs": [],
   "source": [
    "from a5py.ascot5io.options import Opt\n",
    "\n",
    "opt = Opt.get_default()\n",
    "opt.update({\n",
    "    # Simulation mode\n",
    "    \"SIM_MODE\":1, \"FIXEDSTEP_USE_USERDEFINED\":1, \"FIXEDSTEP_USERDEFINED\":1e-8,\n",
    "    # Setting max mileage above slowing-down time is a good safeguard to ensure\n",
    "    # simulation finishes even with faulty inputs. Same with the CPU time limit.\n",
    "    \"ENDCOND_WALLHIT\":1,\n",
    "    # Physics\n",
    "    \"ENABLE_ORBIT_FOLLOWING\":1,\n",
    "})\n",
    "a5.data.create_input(\"opt\", **opt, desc=\"WALLHITS\")"
   ]
  },
  {
   "cell_type": "code",
   "execution_count": null,
   "metadata": {},
   "outputs": [],
   "source": [
    "import subprocess\n",
    "subprocess.run([\"./../../build/ascot5_main\", \"--d=\\\"GREATESTHITS\\\"\"])\n",
    "print(\"Simulation completed\")"
   ]
  },
  {
   "cell_type": "markdown",
   "metadata": {},
   "source": [
    "Now to visualize wall loads.\n",
    "First we want to print the 0D quantities and then plot the wall load histogram."
   ]
  },
  {
   "cell_type": "code",
   "execution_count": null,
   "metadata": {},
   "outputs": [],
   "source": [
    "a5 = Ascot(\"ascot.h5\") # Refresh data\n",
    "\n",
    "warea, peak = a5.data.active.getwall_figuresofmerit()\n",
    "print(\"Wetted area: \" + str(warea))\n",
    "print(\"Peak power load: \" + str(peak.to(\"MW/m**2\")))\n",
    "a5.data.active.plotwall_loadvsarea()"
   ]
  },
  {
   "cell_type": "markdown",
   "metadata": {},
   "source": [
    "Note that the histogram shows \n",
    "\n",
    "Now where on the wall the particles ended and are there any hot-spots?\n",
    "This plot uses the magnetic axis to calculate the poloidal angle, which is why the magnetic field data has to be initialized."
   ]
  },
  {
   "cell_type": "code",
   "execution_count": null,
   "metadata": {},
   "outputs": [],
   "source": [
    "a5.input_init(bfield=True)\n",
    "a5.data.active.plotwall_torpol()\n",
    "a5.input_free()"
   ]
  },
  {
   "cell_type": "markdown",
   "metadata": {},
   "source": [
    "While previous plot is good for giving a sense of how the loads are distributed, it skews the areas.\n",
    "The way to properly visualize the wall loads is with a 3D plot.\n",
    "Plotting in 3D requires ``Visualization Toolkit (VTK)`` and this doesn't work that well in Jupyter notebooks, which is why the command below might give a warning and the figure might appear twice (this issue only affects notebooks and not normal work with ASCOT5)."
   ]
  },
  {
   "cell_type": "code",
   "execution_count": null,
   "metadata": {},
   "outputs": [],
   "source": [
    "a5.data.active.plotwall_3dstill(cpos=(0,6.9,0), cfoc=(0,7.0,0), cang=(120,0,-90), data=\"eload\", log=True)"
   ]
  },
  {
   "cell_type": "markdown",
   "metadata": {},
   "source": [
    "You can also make an interactive plot with ``a5.data.active.plotwall_3dinteractive()``.\n",
    "The most convenient way to investigate a 3D plot is to use ``a5gui`` where one can record the camera position in an interactive plot, and use it in stills."
   ]
  },
  {
   "cell_type": "markdown",
   "metadata": {},
   "source": []
  }
 ],
 "metadata": {
  "kernelspec": {
   "display_name": "feature9",
   "language": "python",
   "name": "feature9"
  },
  "language_info": {
   "codemirror_mode": {
    "name": "ipython",
    "version": 3
   },
   "file_extension": ".py",
   "mimetype": "text/x-python",
   "name": "python",
   "nbconvert_exporter": "python",
   "pygments_lexer": "ipython3",
   "version": "3.10.8"
  }
 },
 "nbformat": 4,
 "nbformat_minor": 4
}
