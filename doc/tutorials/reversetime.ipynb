{
 "cells": [
  {
   "cell_type": "markdown",
   "metadata": {},
   "source": [
    "# Tracing markers backwards in time\n",
    "\n",
    "<img src='../../figures/reversetime.png' alt='thumbnail' width='200'/>\n",
    "\n",
    "This example shows how to trace markers backwards in time.\n",
    "\n",
    "For starters it is worth emphasizing that **this tutorial is only for tracing marker orbits backwards in time and not for reverting the physical process**.\n",
    "Activating the time reversal option, ``REVERSE_TIME=1``, makes the time run backwards in simulations so that one can e.g. see the orbit at which a marker hit the wall or FILD.\n",
    "However, it does not reverse collisional or other stochastic process so these must be disabled.\n",
    "Use BMC for proper backwards Monte Carlo modelling that include these processess and can properly run a slowing-down simulation in reverse.\n",
    "\n",
    "First set up the test data."
   ]
  },
  {
   "cell_type": "code",
   "execution_count": null,
   "metadata": {},
   "outputs": [],
   "source": [
    "import numpy as np\n",
    "import matplotlib.pyplot as plt\n",
    "from a5py import Ascot\n",
    "\n",
    "a5 = Ascot(\"ascot.h5\", create=True)\n",
    "a5.data.create_input(\"bfield analytical iter circular\")\n",
    "a5.data.create_input(\"plasma flat\")\n",
    "a5.data.create_input(\"E_TC\")\n",
    "a5.data.create_input(\"N0_1D\")\n",
    "a5.data.create_input(\"Boozer\")\n",
    "a5.data.create_input(\"MHD_STAT\")\n",
    "a5.data.create_input(\"asigma_loc\")\n",
    "\n",
    "print(\"Inputs created\")"
   ]
  },
  {
   "cell_type": "markdown",
   "metadata": {},
   "source": [
    "As for the wall, any wall data would do but we wish to do some nice visualizations in 3D so we choose a 3D wall for this exercise."
   ]
  },
  {
   "cell_type": "code",
   "execution_count": null,
   "metadata": {},
   "outputs": [],
   "source": [
    "from a5py.ascot5io.wall import wall_3D\n",
    "\n",
    "rad  = 2.0\n",
    "pol  = np.linspace(0, 2*np.pi, 181)[:-1]\n",
    "w2d = {\"nelements\":180,\n",
    "       \"r\":6.4 + rad*np.cos(pol), \"z\":rad*np.sin(pol)}\n",
    "w3d = wall_3D.convert_wall_2D(180, **w2d)\n",
    "a5.data.create_input(\"wall_3D\", **w3d, desc=\"REVOLVED\")"
   ]
  },
  {
   "cell_type": "markdown",
   "metadata": {},
   "source": [
    "Now let's create a few markers which we trace for a few moments as if we were modelling the slowing-down process.\n",
    "This is an ordinary forward in time simulation, we will use the results to run the reversed simulation (although there is nothing preventing from running the reversed simulation without the forward simulation)."
   ]
  },
  {
   "cell_type": "code",
   "execution_count": null,
   "metadata": {},
   "outputs": [],
   "source": [
    "from a5py.ascot5io.marker import Marker\n",
    "nmrk = 10\n",
    "mrk = Marker.generate(\"gc\", n=nmrk, species=\"alpha\")\n",
    "mrk[\"energy\"][:] = 3.5e6\n",
    "mrk[\"pitch\"][:]  = 0.6\n",
    "mrk[\"r\"][:]      = np.linspace(7.6,8.0,nmrk)\n",
    "a5.data.create_input(\"gc\", **mrk, activate=True)\n",
    "\n",
    "from a5py.ascot5io.options import Opt\n",
    "\n",
    "opt = Opt.get_default()\n",
    "opt.update({\n",
    "    # Reversed time does not work well with the adaptive step at the moment so disable it\n",
    "    \"SIM_MODE\":2, \"ENABLE_ADAPTIVE\":0,\n",
    "    \"ENDCOND_SIMTIMELIM\":1, \"ENDCOND_LIM_SIMTIME\":1.0e-4, \"ENDCOND_WALLHIT\":1,\n",
    "    \"ENABLE_ORBIT_FOLLOWING\":1, \"ENABLE_COULOMB_COLLISIONS\":1,\n",
    "    \"ENABLE_ORBITWRITE\":1, \"ORBITWRITE_MODE\":1, \"ORBITWRITE_INTERVAL\":0,\n",
    "    \"ORBITWRITE_NPOINT\":10**4,\n",
    "})\n",
    "a5.data.create_input(\"opt\", **opt, desc=\"TIMEFORWARD\", activate=True)"
   ]
  },
  {
   "cell_type": "markdown",
   "metadata": {},
   "source": [
    "Run the simulation"
   ]
  },
  {
   "cell_type": "code",
   "execution_count": null,
   "metadata": {},
   "outputs": [],
   "source": [
    "import subprocess\n",
    "subprocess.run([\"./../../build/ascot5_main\", \"--d=\\\"GREATESTHITSVOL2\\\"\"])\n",
    "print(\"Simulation completed\")"
   ]
  },
  {
   "cell_type": "markdown",
   "metadata": {},
   "source": [
    "Few markers hit the wall.\n",
    "We select one of them and run the orbit backwards in time."
   ]
  },
  {
   "cell_type": "code",
   "execution_count": null,
   "metadata": {},
   "outputs": [],
   "source": [
    "a5 = Ascot(\"ascot.h5\")\n",
    "\n",
    "# Pick one of the markers that hit the wall\n",
    "ids = a5.data.active.getstate(\"ids\", endcond=\"wall\")[0]\n",
    "\n",
    "# When converting endstate to marker input, the input type and the simulation\n",
    "# mode that was used should preferably match\n",
    "mrk = a5.data.active.getstate_markers(\"gc\", ids=ids)\n",
    "\n",
    "opt = a5.data.active.options.read()\n",
    "opt.update({\n",
    "    # Reverse time and turn off the collisions\n",
    "    \"REVERSE_TIME\":1, \"ENABLE_COULOMB_COLLISIONS\":1,\n",
    "    # When using the reversed time, the simulation is stopped if time < LIM_SIMTIME.\n",
    "    # To follow marker back to its original position, we set LIM_SIMTIME=0 which was\n",
    "    # the marker time at the start of the forward simulation.\n",
    "    # Note that MAX_MILEAGE works same way both in forward and reversed simulations.\n",
    "    \"ENDCOND_LIM_SIMTIME\":0.0,\n",
    "    \"ENDCOND_WALLHIT\":0\n",
    "})"
   ]
  },
  {
   "cell_type": "markdown",
   "metadata": {},
   "source": [
    "Since we are only tracing a single marker, and we are only interested in its orbit, the reversed simulation can be done conveniently using the virtual run (but ordinary run would work as well).\n",
    "\n",
    "Run the simulation and plot both the forward orbit and the reversed orbit."
   ]
  },
  {
   "cell_type": "code",
   "execution_count": null,
   "metadata": {},
   "outputs": [],
   "source": [
    "a5.simulation_initinputs()\n",
    "a5.simulation_initmarkers(**mrk)\n",
    "a5.simulation_initoptions(**opt)\n",
    "vrun = a5.simulation_run(printsummary=False)\n",
    "\n",
    "fig = plt.figure()\n",
    "ax1 = fig.add_subplot(1,2,1)\n",
    "ax2 = fig.add_subplot(1,2,2)\n",
    "\n",
    "a5.data.active.plotorbit_trajectory(\"r\", \"z\", ids=mrk[\"ids\"], axes=ax1)\n",
    "a5.input_plotwallcontour(axes=ax1)\n",
    "\n",
    "vrun.plotorbit_trajectory(\"r\", \"z\", axes=ax2)\n",
    "a5.input_plotwallcontour(axes=ax2)\n",
    "\n",
    "plt.show()"
   ]
  },
  {
   "cell_type": "markdown",
   "metadata": {},
   "source": [
    "This is how time reversed simulations are done.\n",
    "They can be used to map the phase-space region where losses originate (for collisionless losses) or to make nice visualizations of marker orbits when they hit the wall or FILD."
   ]
  },
  {
   "cell_type": "code",
   "execution_count": null,
   "metadata": {},
   "outputs": [],
   "source": [
   "fig, ax = plt.subplots()\n",
    "vrun.plotwall_3dstill(cpos=(-7.0,0.0,0.5), cfoc=(-3.8,-3.5,1.5), cang=(0,-20,-90), orbit=mrk[\"ids\"], axes=ax)\n",
    "a5.simulation_free()"
   ]
  },
  {
   "cell_type": "markdown",
   "metadata": {},
   "source": []
  }
 ],
 "metadata": {
  "language_info": {
   "name": "python"
  }
 },
 "nbformat": 4,
 "nbformat_minor": 4
}
