{
 "cells": [
  {
   "cell_type": "markdown",
   "metadata": {},
   "source": [
    "# Simulating test particle response to MHD\n",
    "\n",
    "<img src='../../figures/mhd.png' alt='thumbnail' width='200'/>\n",
    "\n",
    "It is possible to include rotating helical perturbations to simulations to e.g. study fast ion response to Alfvén eigenmodes and this tutorial shows how to do it.\n",
    "\n",
    "We begin by generating a test case consisting of a 2D tokamak."
   ]
  },
  {
   "cell_type": "code",
   "execution_count": null,
   "metadata": {},
   "outputs": [],
   "source": [
    "import numpy as np\n",
    "import unyt\n",
    "import matplotlib.pyplot as plt\n",
    "from a5py import Ascot\n",
    "\n",
    "a5 = Ascot(\"ascot.h5\", create=True)\n",
    "\n",
    "# The magnetic input has to be B_2DS format so we use splines=True to convert\n",
    "# the analytical field to splines\n",
    "a5.data.create_input(\"bfield analytical iter circular\", splines=True)\n",
    "a5.data.create_input(\"wall_2D\")\n",
    "a5.data.create_input(\"plasma_1D\")\n",
    "a5.data.create_input(\"E_TC\")\n",
    "a5.data.create_input(\"N0_1D\")\n",
    "a5.data.create_input(\"asigma_loc\")\n",
    "\n",
    "print(\"Inputs created\")"
   ]
  },
  {
   "cell_type": "markdown",
   "metadata": {},
   "source": [
    "The MHD modes are defined in straight-field-line coordinates, which is why we need to construct mapping from cylindrical coordinates to Boozer coordinates.\n",
    "While MHD can be included in all tokamak simulations, i.e. even those that have 3D field, the axisymmetric input is required to construct Boozer coordinates for the field and in a simulation the 3D field can be used.\n",
    "This mapping is a separate input called ``boozer`` (it is user's responsibility to ensure ``bfield`` and ``boozer`` inputs are consistent), and there is a template to construct it automatically:\n"
   ]
  },
  {
   "cell_type": "code",
   "execution_count": null,
   "metadata": {},
   "outputs": [],
   "source": [
    "a5.input_init(bfield=True)\n",
    "a5.data.create_input(\"boozer tokamak\", rhomin=0.05, rhomax=0.99)\n",
    "a5.input_init(boozer=True) # Initialize also the Boozer data for plotting"
   ]
  },
  {
   "cell_type": "markdown",
   "metadata": {},
   "source": [
    "We can plot the coordinates to make sure everything looks alright.\n",
    "The defining feature of the Boozer coordinates is that the Jacobian, $J$, times the magnetic field squared, $JB^2$, is a flux quantity, so it is a good idea to check that as well."
   ]
  },
  {
   "cell_type": "code",
   "execution_count": null,
   "metadata": {},
   "outputs": [],
   "source": [
    "rgrid = np.linspace(4.3,8.3,100) * unyt.m\n",
    "zgrid = np.linspace(-2,2,100) * unyt.m\n",
    "\n",
    "fig = plt.figure()\n",
    "ax1 = fig.add_subplot(2,2,1)\n",
    "ax2 = fig.add_subplot(2,2,2)\n",
    "ax3 = fig.add_subplot(2,2,3)\n",
    "ax4 = fig.add_subplot(2,2,4)\n",
    "a5.input_plotrz(rgrid, zgrid, \"rho\", axes=ax1)\n",
    "a5.input_plotrz(rgrid, zgrid, \"theta\", axes=ax2)\n",
    "# zeta changes from 0 to 2pi at phi=0 so we plot it at phi=180 instead\n",
    "a5.input_plotrz(rgrid, zgrid, \"zeta\", axes=ax3, phi=180*unyt.deg)\n",
    "a5.input_plotrz(rgrid, zgrid, \"bjacxb2\", axes=ax4)\n",
    "plt.show()"
   ]
  },
  {
   "cell_type": "markdown",
   "metadata": {},
   "source": [
    "Generating the Boozer coordinates near axis or separatrix may encounter issues, which is why it is a good idea to use the limits ``rhomin`` and ``rhomax`` to control what area the coordinates cover.\n",
    "Outside this area the MHD input is not evaluated so this it only needs to cover the region where the modes are active, and limiting the region decreases the CPU time needed to run the simulation.\n",
    "\n",
    "Now let's plot the $q$-profile before generating the MHD input."
   ]
  },
  {
   "cell_type": "code",
   "execution_count": null,
   "metadata": {},
   "outputs": [],
   "source": [
    "rho = np.linspace(0,1,100)\n",
    "q, I, g = a5.input_eval_safetyfactor(rho)\n",
    "plt.plot(rho, q)"
   ]
  },
  {
   "cell_type": "markdown",
   "metadata": {},
   "source": [
    "Notice that the q-profile is ill-defined close to the axis, which is caused by the same issue that prevents creation of the Boozer coordinates at that point.\n",
    "\n",
    "There is rational $q=2$ surface around $\\rho=0.8$, which is where we initialize our MHD mode.\n",
    "Multiple modes can be included in a simulation and they can have time-dependent eigenmodes (though those increase CPU cost considerably).\n",
    "However, for this tutorial we initialize justa a single $(n=1,m=2)$ mode that peaks at the rational surface."
   ]
  },
  {
   "cell_type": "code",
   "execution_count": null,
   "metadata": {},
   "outputs": [],
   "source": [
    "mhd = {\n",
    "    \"nmode\" : 1, # Number of modes\n",
    "    \"nmodes\" : np.array([1]), \"mmodes\" : np.array([2]), # Mode tor and pol numbers\n",
    "    \"amplitude\" : np.array([1.0]), \"omega\" : np.array([50.0e3]), \"phase\" : np.array([0.0]),\n",
    "    \"nrho\" : 200, \"rhomin\" : 0.0, \"rhomax\" : 1.0\n",
    "   }\n",
    "\n",
    "# Eigenmodes are given in the usual sqrt of normalized poloidal flux grid\n",
    "rhogrid = np.linspace(mhd[\"rhomin\"], mhd[\"rhomax\"], mhd[\"nrho\"])\n",
    "alpha   = np.exp( -(rhogrid-0.8)**2/0.005 ) # Magnetic potential\n",
    "phi     = alpha*0 # Electric perturbation potential, we will come back to this\n",
    "\n",
    "mhd[\"phi\"]   = np.tile(phi,   (mhd[\"nmode\"],1)).T\n",
    "mhd[\"alpha\"] = np.tile(alpha, (mhd[\"nmode\"],1)).T\n",
    "a5.data.create_input(\"MHD_STAT\", **mhd, desc=\"UNSCALED\")\n",
    "\n",
    "plt.figure()\n",
    "plt.plot(rhogrid, alpha)\n",
    "plt.show()"
   ]
  },
  {
   "cell_type": "markdown",
   "metadata": {},
   "source": [
    "We used the tag \"UNSCALED\" for this input to notify that it is not suitable for a simulation yet.\n",
    "When using data provided by other codes, the MHD input is usually unscaled meaning that the eigenmodes are otherwise fine, but they have to be scaled by the ``amplitude`` parameter so that we get the desired perturbation level $\\delta B/B$.\n",
    "\n",
    "So now let's initialize the MHD input and plot the perturbation level."
   ]
  },
  {
   "cell_type": "code",
   "execution_count": null,
   "metadata": {},
   "outputs": [],
   "source": [
    "# Note that plotting MHD requires that both bfield and boozer are also initialized\n",
    "# but those we have initialized earlier in this tutorial.\n",
    "a5.input_init(mhd=a5.data.mhd.UNSCALED.get_qid())\n",
    "a5.input_plotrz(rgrid, zgrid, \"db/b (mhd)\")\n",
    "a5.input_free(mhd=True)"
   ]
  },
  {
   "cell_type": "markdown",
   "metadata": {},
   "source": [
    "For this tutorial, we desire something like $\\delta B/B \\approx 10^{-3}$.\n",
    "So let's read the input and fix the amplitude."
   ]
  },
  {
   "cell_type": "code",
   "execution_count": null,
   "metadata": {},
   "outputs": [],
   "source": [
    "mhd = a5.data.mhd.UNSCALED.read()\n",
    "mhd[\"amplitude\"][:] = 1e-3 / 8.1\n",
    "\n",
    "a5.data.create_input(\"MHD_STAT\", **mhd, desc=\"SCALED\")\n",
    "a5.input_init(mhd=a5.data.mhd.SCALED.get_qid())\n",
    "a5.input_plotrz(rgrid, zgrid, \"db/b (mhd)\")"
   ]
  },
  {
   "cell_type": "code",
   "execution_count": null,
   "metadata": {},
   "outputs": [],
   "source": []
  },
  {
   "cell_type": "markdown",
   "metadata": {},
   "source": []
  }
 ],
 "metadata": {
  "language_info": {
   "name": "python"
  }
 },
 "nbformat": 4,
 "nbformat_minor": 4
}
