{
 "cells": [
  {
   "cell_type": "markdown",
   "metadata": {},
   "source": [
    "# Simulating test particle response to MHD\n",
    "\n",
    "<img src='../../figures/mhd.png' alt='thumbnail' width='200'/>\n",
    "\n",
    "It is possible to include rotating helical perturbations to simulations to e.g. study fast ion response to Alfvén eigenmodes and this tutorial shows how to do it.\n",
    "\n",
    "We begin by generating a test case consisting of a 2D tokamak."
   ]
  },
  {
   "cell_type": "code",
   "execution_count": null,
   "metadata": {},
   "outputs": [],
   "source": [
    "import numpy as np\n",
    "import unyt\n",
    "import matplotlib.pyplot as plt\n",
    "from a5py import Ascot\n",
    "\n",
    "a5 = Ascot(\"ascot.h5\", create=True)\n",
    "\n",
    "# The magnetic input has to be B_2DS format so we use splines=True to convert\n",
    "# the analytical field to splines\n",
    "a5.data.create_input(\"bfield analytical iter circular\", splines=True)\n",
    "a5.data.create_input(\"wall_2D\")\n",
    "a5.data.create_input(\"plasma_1D\")\n",
    "a5.data.create_input(\"E_TC\")\n",
    "a5.data.create_input(\"N0_1D\")\n",
    "a5.data.create_input(\"asigma_loc\")\n",
    "\n",
    "print(\"Inputs created\")"
   ]
  },
  {
   "cell_type": "markdown",
   "metadata": {},
   "source": [
    "The MHD modes are defined in straight-field-line coordinates, which is why we need to construct mapping from cylindrical coordinates to Boozer coordinates.\n",
    "While MHD can be included in all tokamak simulations, i.e. even those that have 3D field, the axisymmetric input is required to construct Boozer coordinates for the field and in a simulation the 3D field can be used.\n",
    "This mapping is a separate input called ``boozer`` (it is user's responsibility to ensure ``bfield`` and ``boozer`` inputs are consistent), and there is a template to construct it automatically:\n"
   ]
  },
  {
   "cell_type": "code",
   "execution_count": null,
   "metadata": {},
   "outputs": [],
   "source": [
    "a5.input_init(bfield=True)\n",
    "a5.data.create_input(\"boozer tokamak\", rhomin=0.05, rhomax=0.99, nint=100000)\n",
    "a5.input_init(boozer=True) # Initialize also the Boozer data for plotting"
   ]
  },
  {
   "cell_type": "markdown",
   "metadata": {},
   "source": [
    "We can plot the coordinates to make sure everything looks alright.\n",
    "The defining feature of the Boozer coordinates is that the Jacobian, $J$, times the magnetic field squared, $JB^2$, is a flux quantity, so it is a good idea to check that as well."
   ]
  },
  {
   "cell_type": "code",
   "execution_count": null,
   "metadata": {},
   "outputs": [],
   "source": [
    "rgrid = np.linspace(4.3,8.3,100) * unyt.m\n",
    "zgrid = np.linspace(-2,2,100) * unyt.m\n",
    "\n",
    "fig = plt.figure()\n",
    "ax1 = fig.add_subplot(2,2,1)\n",
    "ax2 = fig.add_subplot(2,2,2)\n",
    "ax3 = fig.add_subplot(2,2,3)\n",
    "ax4 = fig.add_subplot(2,2,4)\n",
    "a5.input_plotrz(rgrid, zgrid, \"rho\", axes=ax1)\n",
    "a5.input_plotrz(rgrid, zgrid, \"theta\", axes=ax2)\n",
    "# zeta changes from 0 to 2pi at phi=0 so we plot it at phi=180 instead\n",
    "a5.input_plotrz(rgrid, zgrid, \"zeta\", axes=ax3, phi=180*unyt.deg)\n",
    "a5.input_plotrz(rgrid, zgrid, \"bjacxb2\", axes=ax4)\n",
    "plt.show()"
   ]
  },
  {
   "cell_type": "markdown",
   "metadata": {},
   "source": [
    "Generating the Boozer coordinates near axis or separatrix may encounter issues, which is why it is a good idea to use the limits ``rhomin`` and ``rhomax`` to control what area the coordinates cover.\n",
    "Outside this area the MHD input is not evaluated so this it only needs to cover the region where the modes are active, and limiting the region decreases the CPU time needed to run the simulation.\n",
    "\n",
    "Now let's plot the $q$-profile before generating the MHD input."
   ]
  },
  {
   "cell_type": "code",
   "execution_count": null,
   "metadata": {},
   "outputs": [],
   "source": [
    "rho = np.linspace(0,1,100)\n",
    "q, I, g = a5.input_eval_safetyfactor(rho)\n",
    "plt.plot(rho, q)\n",
    "\n",
    "np.interp(7/4,q,rho)"
   ]
  },
  {
   "cell_type": "markdown",
   "metadata": {},
   "source": [
    "Notice that the q-profile is ill-defined close to the axis, which is caused by the same issue that prevents creation of the Boozer coordinates at that point.\n",
    "\n",
    "There is rational $q=7/4$ surface around $\\rho=0.4$, which is where we initialize our MHD mode.\n",
    "Multiple modes can be included in a simulation and they can have time-dependent eigenmodes (though those increase CPU cost considerably).\n",
    "However, for this tutorial we initialize justa a single $(n=4,m=7)$ mode that peaks at the rational surface."
   ]
  },
  {
   "cell_type": "code",
   "execution_count": null,
   "metadata": {},
   "outputs": [],
   "source": [
    "mhd = {\n",
    "    \"nmode\" : 1, # Number of modes\n",
    "    \"nmodes\" : np.array([4]), \"mmodes\" : np.array([7]), # Mode tor and pol numbers\n",
    "    \"amplitude\" : np.array([1.0]), \"omega\" : np.array([50.0e6]), \"phase\" : np.array([0.0]),\n",
    "    \"nrho\" : 500, \"rhomin\" : 0.1, \"rhomax\" : 0.9\n",
    "   }\n",
    "\n",
    "# Eigenmodes are given in the usual sqrt of normalized poloidal flux grid\n",
    "rhogrid = np.linspace(mhd[\"rhomin\"], mhd[\"rhomax\"], mhd[\"nrho\"])\n",
    "alpha   = np.exp( -(rhogrid-0.4)**2/0.005 ) # Magnetic potential\n",
    "phi     = alpha*0 # Electric perturbation potential, we will come back to this\n",
    "\n",
    "mhd[\"phi\"]   = np.tile(phi,   (mhd[\"nmode\"],1)).T\n",
    "mhd[\"alpha\"] = np.tile(alpha, (mhd[\"nmode\"],1)).T\n",
    "a5.data.create_input(\"MHD_STAT\", **mhd, desc=\"UNSCALED\")\n",
    "\n",
    "plt.figure()\n",
    "plt.plot(rhogrid, alpha)\n",
    "plt.show()"
   ]
  },
  {
   "cell_type": "markdown",
   "metadata": {},
   "source": [
    "We used the tag \"UNSCALED\" for this input to notify that it is not suitable for a simulation yet.\n",
    "When using data provided by other codes, the MHD input is usually unscaled meaning that the eigenmodes are otherwise fine, but they have to be scaled by the ``amplitude`` parameter so that we get the desired perturbation level $\\delta B/B$.\n",
    "\n",
    "So now let's initialize the MHD input and plot the perturbation level."
   ]
  },
  {
   "cell_type": "code",
   "execution_count": null,
   "metadata": {},
   "outputs": [],
   "source": [
    "# Note that plotting MHD requires that both bfield and boozer are also initialized\n",
    "# but those we have initialized earlier in this tutorial.\n",
    "a5.input_init(mhd=a5.data.mhd.UNSCALED.get_qid())\n",
    "a5.input_plotrz(rgrid, zgrid, \"db/b (mhd)\")\n",
    "a5.input_free(mhd=True)"
   ]
  },
  {
   "cell_type": "markdown",
   "metadata": {},
   "source": [
    "For this tutorial, we desire something like $\\delta B/B \\approx 10^{-3}$.\n",
    "Let's read the input and fix the amplitude:"
   ]
  },
  {
   "cell_type": "code",
   "execution_count": null,
   "metadata": {},
   "outputs": [],
   "source": [
    "mhd = a5.data.mhd.UNSCALED.read()\n",
    "mhd[\"amplitude\"][:] = 1e-3 / 8.1\n",
    "\n",
    "a5.data.create_input(\"MHD_STAT\", **mhd, desc=\"SCALED\")\n",
    "a5.input_init(mhd=a5.data.mhd.SCALED.get_qid())\n",
    "a5.input_plotrz(rgrid, zgrid, \"db/b (mhd)\")"
   ]
  },
  {
   "cell_type": "markdown",
   "metadata": {},
   "source": [
    "Better!\n",
    "\n",
    "The electric perturbation potential $\\Phi$ will be scaled by the same amplitude.\n",
    "So far in this tutorial we have had $\\Phi=0$, which of course is usually not the case in real life, though ASCOT5 can be run with just the magnetic perturbation or vice versa.\n",
    "\n",
    "Sometimes the physics dictate that $E_\\parallel=0$, which makes $\\alpha_{nm}$ and $\\Phi_{nm}$ codependent:\n",
    "\n",
    "$$\\omega_{nm}\\alpha_{nm} = \\frac{nq-m}{I+gq}\\Phi_{nm}.$$\n",
    "\n",
    "There is an existing tool that uses this relation to compute $\\Phi_{nm}$ from $\\alpha_{nm}$ (or vice-versa).\n",
    "However, since $\\alpha$ in this tutorial is arbitrary, calculating $\\Phi$ from it would have divergence issues on a rational surface (where $nq-m=0$ but $\\alpha_nm \\neq 0$).\n",
    "What we do instead is that we first choose a $\\Phi$ profile, then calculate $\\alpha$ as this way the divergence is not an issue, and then scale the modes."
   ]
  },
  {
   "cell_type": "code",
   "execution_count": null,
   "metadata": {},
   "outputs": [],
   "source": [
    "# Switch Phi and alpha profiles and calculate new alpha from Phi assuming Epar=0\n",
    "mhd = a5.data.mhd.SCALED.read()\n",
    "mhd[\"phi\"] = mhd[\"alpha\"]\n",
    "mhd = a5.data.create_input(\"mhd consistent potentials\", mhd=mhd,\n",
    "        which=\"alpha\", desc=\"ZEROEPARUNSCALED\", dryrun=True)\n",
    "\n",
    "# Scale amplitudes to obtain dB/B ~ 1e-3\n",
    "mhd[\"amplitude\"][:] = 2e6\n",
    "\n",
    "# Plot dB/B\n",
    "a5.data.create_input(\"MHD_STAT\", **mhd, activate=True, desc=\"ZEROEPAR\")\n",
    "a5.input_init(mhd=True, switch=True)\n",
    "a5.input_plotrz(rgrid, zgrid, \"db/b (mhd)\")"
   ]
  },
  {
   "cell_type": "markdown",
   "metadata": {},
   "source": [
    "One can of course provide $\\Phi_{nm}$ explicitly, even when $E_\\parallel=0$, and it is advised to do so when both are available.\n",
    "\n",
    "Now to verify that $E_\\parallel=0$, which should be done when the potentials are provided by a code that enforces this condition to ensure the data was imported (and Boozer coordinates constructed) succesfully:"
   ]
  },
  {
   "cell_type": "code",
   "execution_count": null,
   "metadata": {},
   "outputs": [],
   "source": [
    "a5.input_plotrz(rgrid, zgrid, \"phieig\")\n",
    "\n",
    "phi   = 0*unyt.deg\n",
    "t     = 0*unyt.s\n",
    "br, bphi, bz, er, ephi, ez = a5.input_eval(\n",
    "    rgrid, phi, zgrid, t, \"br\", \"bphi\", \"bz\", \"mhd_er\", \"mhd_ephi\", \"mhd_ez\", grid=True)\n",
    "\n",
    "bnorm = np.squeeze(np.sqrt(br**2 + bphi**2 + bz**2))\n",
    "enorm = np.squeeze(np.sqrt(er**2 + ephi**2 + ez**2))\n",
    "epar  = np.squeeze(br*er + bphi*ephi + bz*ez) / bnorm\n",
    "\n",
    "fig = plt.figure()\n",
    "ax = fig.add_subplot(1,2,1)\n",
    "h = ax.pcolormesh(rgrid, zgrid, enorm.T)\n",
    "plt.colorbar(h, ax=ax)\n",
    "ax = fig.add_subplot(1,2,2)\n",
    "h = ax.pcolormesh(rgrid, zgrid, epar.T)\n",
    "plt.colorbar(h, ax=ax)\n",
    "plt.show()"
   ]
  },
  {
   "cell_type": "markdown",
   "metadata": {},
   "source": [
    "The following visualizes all components of the MHD perturbation:"
   ]
  },
  {
   "cell_type": "code",
   "execution_count": null,
   "metadata": {},
   "outputs": [],
   "source": [
    "fig = plt.figure()\n",
    "ax = fig.add_subplot(2,3,1)\n",
    "a5.input_plotrz(rgrid, zgrid, \"mhd_br\", axes=ax)\n",
    "ax = fig.add_subplot(2,3,2)\n",
    "a5.input_plotrz(rgrid, zgrid, \"mhd_bphi\", axes=ax)\n",
    "ax = fig.add_subplot(2,3,3)\n",
    "a5.input_plotrz(rgrid, zgrid, \"mhd_bz\", axes=ax)\n",
    "ax = fig.add_subplot(2,3,4)\n",
    "a5.input_plotrz(rgrid, zgrid, \"mhd_er\", axes=ax)\n",
    "ax = fig.add_subplot(2,3,5)\n",
    "a5.input_plotrz(rgrid, zgrid, \"mhd_ephi\", axes=ax)\n",
    "ax = fig.add_subplot(2,3,6)\n",
    "a5.input_plotrz(rgrid, zgrid, \"mhd_ez\", axes=ax)\n",
    "plt.show()"
   ]
  },
  {
   "cell_type": "markdown",
   "metadata": {},
   "source": [
    "As a final check, we generate Poincaré plots for this data.\n",
    "(The details of generating Poincaré plots are covered in a separate tutorial.)\n",
    "When setting Poincaré options, we need to switch ``mhd=True`` which activates ``ENABLE_MHD`` in the simulation options, which in turn includes the MHD contribution to the orbit-following.\n",
    "\n",
    "Poincaré plots can be generated for both field lines and particles.\n",
    "There are two notable differences on how these include MHD:\n",
    "\n",
    "1. Field-line simulations are performed for a frozen perturbation; the mode doesn't rotate during the simulation so the Poincaré is a snapshot of the field structure.\n",
    "For particle simulations the mode rotates as usual.\n",
    "\n",
    "2. Field-line (and gyro-orbit) simulations evaluate the perturbed components $\\delta B$ and $\\delta E$ explicitly when integrating the equations of motion.\n",
    "The guiding-center simulations on the other hand evaluates just the potentials $\\alpha$ and $\\Phi$ which are directly included into equations of motion.\n",
    "\n",
    "The second bullet should have no practical differences, but if gyro-orbit and guiding-center results differ, this information might help in investigating the cause if the result is unexpected.\n",
    "\n",
    "The first bullet explains why for a single mode there are islands in the Poincaré plot and for the particles there is a ergodic region in the same are where the mode has a rational surface:"
   ]
  },
  {
   "cell_type": "code",
   "execution_count": null,
   "metadata": {},
   "outputs": [],
   "source": [
    "# Field line Poincare\n",
    "a5.simulation_initinputs()\n",
    "mrk = a5.data.create_input(\"marker poincare\", dryrun=True)\n",
    "opt = a5.data.create_input(\"options poincare\", maxrho=True, mhd=True, dryrun=True)\n",
    "a5.simulation_initmarkers(**mrk)\n",
    "a5.simulation_initoptions(**opt)\n",
    "vrun = a5.simulation_run()\n",
    "vrun.plotorbit_poincare(\"tor 1\")\n",
    "a5.simulation_free(markers=True, diagnostics=True)\n",
    "\n",
    "# Alpha particle Poincare\n",
    "mrk = a5.data.create_input(\"marker poincare\", species=\"alpha\", energy=3.5e6, pitch=0.9,\n",
    "                           dryrun=True)\n",
    "opt = a5.data.create_input(\"options poincare\", maxrho=True, mhd=True, simmode=2,\n",
    "                           dryrun=True)\n",
    "a5.simulation_initmarkers(**mrk)\n",
    "a5.simulation_initoptions(**opt)\n",
    "vrun = a5.simulation_run()\n",
    "vrun.plotorbit_poincare(\"tor 1\")\n",
    "a5.simulation_free(markers=True, diagnostics=True)"
   ]
  },
  {
   "cell_type": "markdown",
   "metadata": {},
   "source": [
    "Now that the MHD input is thoroughly reviewed, we can run an actual simulation.\n",
    "Once both Boozer and MHD input is present, it is sufficient to toggle ``ENABLE_MHD`` in the simulation options.\n",
    "For this tutorial we just trace a single marker without collisions for a few orbits so that we can perform one final check."
   ]
  },
  {
   "cell_type": "code",
   "execution_count": null,
   "metadata": {},
   "outputs": [],
   "source": [
    "from a5py.ascot5io.options import Opt\n",
    "opt = Opt.get_default()\n",
    "opt.update({\n",
    "    \"SIM_MODE\":2, \"FIXEDSTEP_USE_USERDEFINED\":1, \"FIXEDSTEP_USERDEFINED\":1e-8,\n",
    "    \"ENDCOND_SIMTIMELIM\":1, \"ENDCOND_MAX_MILEAGE\":1e-5,\n",
    "    \"ENABLE_ORBIT_FOLLOWING\":1, \"ENABLE_MHD\":1,\n",
    "    \"ENABLE_ORBITWRITE\":1, \"ORBITWRITE_MODE\":1,\n",
    "    \"ORBITWRITE_INTERVAL\":1e-8, \"ORBITWRITE_NPOINT\":10**3,\n",
    "})\n",
    "\n",
    "from a5py.ascot5io.marker import Marker\n",
    "mrk = Marker.generate(\"gc\", n=2, species=\"alpha\")\n",
    "mrk[\"energy\"][:] = 3.5e6\n",
    "mrk[\"pitch\"][:]  = [0.5, 0.9]\n",
    "mrk[\"zeta\"][:]   = 0.0\n",
    "mrk[\"r\"][:]      = [7.2, 7.3]\n",
    "mrk[\"z\"][:]      = 0.0\n",
    "mrk[\"phi\"][:]    = 0.0"
   ]
  },
  {
   "cell_type": "markdown",
   "metadata": {},
   "source": [
    "When collisions are disabled and the perturbation consists of a single mode, there is a quantity $K=H-\\omega P / n$, where $H$ is the  Hamiltonian and $P$ is the toroidal canonical angular momentum, which is conserved.\n",
    "This is true even though the conservation of $H$ and $P$ are independently violated.\n",
    "Since we had orbit-diagnostics enabled, we can plot the change in time but for a large number of markers it is sufficient to check this\n",
    "Of course actual simulations may consists of several toroidal modes, but performing this check for the dominant mode increases the confidence that the data was imported succesfully."
   ]
  },
  {
   "cell_type": "code",
   "execution_count": null,
   "metadata": {},
   "outputs": [],
   "source": [
    "a5.simulation_initmarkers(**mrk)\n",
    "a5.simulation_initoptions(**opt)\n",
    "vrun = a5.simulation_run()\n",
    "\n",
    "mhd = a5.data.mhd.ZEROEPAR.read()\n",
    "ekin, charge, ptor, bphi, r, phi, z, t, ids, rho = vrun.getorbit(\n",
    "    \"ekin\", \"charge\", \"ptor\", \"bphi\", \"r\", \"phi\", \"z\", \"time\", \"ids\", \"rho\")\n",
    "a5.simulation_free()\n",
    "\n",
    "Phi, alpha = a5.input_eval(r, phi, z, t, \"phieig\", \"alphaeig\")\n",
    "\n",
    "# Can. tor. ang. momentum and Hamiltonian including MHD perturbation\n",
    "Ptor = ptor + r * charge * alpha * bphi\n",
    "H = ekin + Phi * charge\n",
    "P = ( (mhd[\"omega\"]/unyt.s) * Ptor / mhd[\"nmodes\"] ).to(\"eV\")\n",
    "K = H - P\n",
    "\n",
    "fig = plt.figure()\n",
    "ax1 = fig.add_subplot(4,1,1)\n",
    "ax2 = fig.add_subplot(4,1,2)\n",
    "ax3 = fig.add_subplot(4,1,3)\n",
    "ax4 = fig.add_subplot(4,1,4)\n",
    "\n",
    "ax1.plot(t[ids==1], rho[ids==1], color=\"C0\")\n",
    "ax1.plot(t[ids==2], rho[ids==2], color=\"C1\")\n",
    "\n",
    "ax2.plot(t[ids==1], K[ids==1] - K[ids==1][0], color=\"C0\")\n",
    "ax2.plot(t[ids==2], K[ids==2] - K[ids==2][0], color=\"C1\")\n",
    "\n",
    "ax3.plot(t[ids==1], H[ids==1] - H[ids==1][0], color=\"C0\")\n",
    "ax3.plot(t[ids==2], H[ids==2] - H[ids==2][0], color=\"C1\")\n",
    "\n",
    "ax4.plot(t[ids==1], P[ids==1] - P[ids==1][0], color=\"C0\")\n",
    "ax4.plot(t[ids==2], P[ids==2] - P[ids==2][0], color=\"C1\")\n",
    "plt.show()"
   ]
  },
  {
   "cell_type": "markdown",
   "metadata": {},
   "source": []
  }
 ],
 "metadata": {
  "language_info": {
   "name": "python"
  }
 },
 "nbformat": 4,
 "nbformat_minor": 4
}
