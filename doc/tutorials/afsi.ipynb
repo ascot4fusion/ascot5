{
 "cells": [
  {
   "cell_type": "markdown",
   "metadata": {},
   "source": [
    "# Creating fusion source with AFSI\n",
    "\n",
    "This example shows how to create a fusion source with AFSI in various cases.\n",
    "\n",
    "AFSI (Ascot Fusion Source Integrator) calculates the 5D distributions of fusion reaction products based on the 5D distributions of the reactants.\n",
    "The algorithm iterates over all cells in cylindrical coordinates, and on each location creates fusion products via Monte Carlo sampling.\n",
    "First, a pair of markers is sampled from the reactant (velocity) distributions and the velocities of the fusion products for a given reaction are calculated using the initial velocities.\n",
    "The reaction probability, which depends on the relative velocity between the reactants, is used to weight the products which in turn are used to calculate the 5D distributions for the output.\n",
    "Several pairs are created before the algorithm proceeds to the next cylindrical cell.\n",
    "\n",
    "The Monte Carlo sampling makes AFSI capable of not only calculating reactions for thermal (Maxwellian) species but for arbitrary distributions.\n",
    "In practice this often means NBI slowing-down distributions and, hence, the arbitrary distribution is referred to as ``beam`` when working with AFSI.\n",
    "\n",
    "Note that AFSI calculates the distributions for both products, i.e., one can use AFSI to calculate the neutron source as well.\n",
    "\n",
    "AFSI has three modes of operation based on what the inputs are:\n",
    "\n",
    "- ``thermal`` calculates the fusion products for two Maxwellian species.\n",
    "  The population can also react itself as is the case with D-D fusion.\n",
    "- ``beam-thermal`` calculates the fusion products for a Maxwellian species that is interacting with an arbitrary distribution.\n",
    "- ``beam-beam`` calculates the fusion products for two arbitrary distributions.\n",
    "  A distribution can interact with itself, e.g. if there is a single deuterium beam.\n",
    " \n",
    "AFSI requires only the magnetic field and plasma data for it to work, but we also need to get the beam ion distribution somewhere for this tutorial.\n",
    "The following cell initializes the inputs and runs a short slowing-down simulation for a deuterium beam.\n",
    "Its contents are not relevant for this tutorial."
   ]
  },
  {
   "cell_type": "code",
   "execution_count": null,
   "metadata": {},
   "outputs": [],
   "source": [
    "import numpy as np\n",
    "import matplotlib.pyplot as plt\n",
    "from a5py import Ascot\n",
    "\n",
    "a5 = Ascot(\"ascot.h5\", create=True)\n",
    "\n",
    "a5.data.create_input(\"bfield analytical iter circular\", desc=\"ANALYTICAL\")\n",
    "\n",
    "# DT-plasma\n",
    "nrho  = 101\n",
    "rho   = np.linspace(0, 2, nrho).T\n",
    "prof  = (rho<=1)*(1.0 - rho**(3.0/2))**3 + 1e-6\n",
    "edens = 2e21 * prof\n",
    "etemp = 1e4  * np.ones((nrho, 1))\n",
    "idens = 1e21 * np.tile(prof,(2,1)).T\n",
    "itemp = 1e4  * np.ones((nrho, 1))\n",
    "\n",
    "edens[rho>=1]   = 1\n",
    "idens[rho>=1,:] = 1\n",
    "\n",
    "pls = {\n",
    "    \"nrho\" : nrho, \"nion\" : 2, \"rho\" : rho,\n",
    "    \"anum\" : np.array([2, 3]), \"znum\" : np.array([1, 1]),\n",
    "    \"mass\" : np.array([2.014, 3.016]), \"charge\" : np.array([1, 1]),\n",
    "    \"edensity\" : edens, \"etemperature\" : etemp,\n",
    "    \"idensity\" : idens, \"itemperature\" : itemp}\n",
    "a5.data.create_input(\"plasma_1D\", **pls, desc=\"DT\")\n",
    "\n",
    "# These inputs are not relevant for AFSI\n",
    "a5.data.create_input(\"wall rectangular\")\n",
    "a5.data.create_input(\"E_TC\")\n",
    "a5.data.create_input(\"N0_1D\")\n",
    "a5.data.create_input(\"Boozer\")\n",
    "a5.data.create_input(\"MHD_STAT\")\n",
    "a5.data.create_input(\"asigma_loc\")\n",
    "\n",
    "# Generate deuterium markers with Ekin=1MeV and run a short slowing down simulation.\n",
    "from a5py.ascot5io.marker import Marker\n",
    "mrk = Marker.generate(\"gc\", n=100, species=\"deuterium\")\n",
    "mrk[\"energy\"][:] = 1.0e6\n",
    "mrk[\"pitch\"][:]  = 0.99 - 0.2 * np.random.rand(100,)\n",
    "mrk[\"r\"][:]      = np.linspace(6.2, 7.2, 100)\n",
    "a5.data.create_input(\"gc\", **mrk)\n",
    "\n",
    "from a5py.ascot5io.options import Opt\n",
    "opt = Opt.get_default()\n",
    "opt.update({\n",
    "    \"SIM_MODE\":2, \"ENABLE_ADAPTIVE\":1,\n",
    "    \"ENDCOND_SIMTIMELIM\":1, \"ENDCOND_MAX_MILEAGE\":0.05,\n",
    "    \"ENABLE_ORBIT_FOLLOWING\":1, \"ENABLE_COULOMB_COLLISIONS\":1,\n",
    "    \"ENABLE_DIST_5D\":1,\n",
    "    \"DIST_MIN_R\":4.3,        \"DIST_MAX_R\":8.3,       \"DIST_NBIN_R\":50,\n",
    "    \"DIST_MIN_PHI\":0,        \"DIST_MAX_PHI\":360,     \"DIST_NBIN_PHI\":1,\n",
    "    \"DIST_MIN_Z\":-2.0,       \"DIST_MAX_Z\":2.0,       \"DIST_NBIN_Z\":50,\n",
    "    \"DIST_MIN_PPA\":-1.3e-19, \"DIST_MAX_PPA\":1.3e-19, \"DIST_NBIN_PPA\":100,\n",
    "    \"DIST_MIN_PPE\":0,        \"DIST_MAX_PPE\":1.3e-19, \"DIST_NBIN_PPE\":50,\n",
    "    \"DIST_MIN_TIME\":0,       \"DIST_MAX_TIME\":1.0,    \"DIST_NBIN_TIME\":1,\n",
    "    \"DIST_MIN_CHARGE\":1,     \"DIST_MAX_CHARGE\":3,    \"DIST_NBIN_CHARGE\":1,\n",
    "})\n",
    "a5.data.create_input(\"opt\", **opt, desc=\"SLOWINGDOWN\")\n",
    "\n",
    "import subprocess\n",
    "subprocess.run([\"./../../build/ascot5_main\", \"--d=\\\"BEAMSD\\\"\"])\n",
    "print(\"Simulation complete\")"
   ]
  },
  {
   "cell_type": "markdown",
   "metadata": {},
   "source": [
    "AFSI is used via the ``Ascot`` object using the attribute ``afsi`` which has all the relevant methods.\n",
    "To use AFSI, we need to specify what reaction is that we are considering.\n",
    "To list possible reactions:"
   ]
  },
  {
   "cell_type": "code",
   "execution_count": null,
   "metadata": {},
   "outputs": [],
   "source": [
    "a5.afsi.reactions()"
   ]
  },
  {
   "cell_type": "markdown",
   "metadata": {},
   "source": [
    "To run AFSI on ``thermal`` mode, we need to specify $(R,z)$, and optionally $\\phi$, grid on which the distributions are calculated.\n",
    "Since both reactant populations are Maxwellian, there is no need to define velocity grids for those as AFSI can use the analytical distribution.\n",
    "Specifying the velocity grid for the products is required however.\n",
    "\n",
    "Once inputs are set, we can call ``thermal`` function that computes the product distributions for us."
   ]
  },
  {
   "cell_type": "code",
   "execution_count": null,
   "metadata": {},
   "outputs": [],
   "source": [
    "# Grid spanning the whole plasma\n",
    "rmin =  4.2; rmax = 8.2; nr = 50\n",
    "zmin = -2.0; zmax = 2.0; nz = 50\n",
    "\n",
    "# Run AFSI which creates a fusion alpha distribution\n",
    "a5.afsi.thermal(\n",
    "    \"DT_He4n\",\n",
    "    rmin, rmax, nr, zmin, zmax, nz,\n",
    "    minphi=0, maxphi=360, nphi=1, nmc=1000,\n",
    "    minppara=-1.3e-19, maxppara=1.3e-19, nppara=80,\n",
    "    minpperp=0, maxpperp=1.3e-19, npperp=40)"
   ]
  },
  {
   "cell_type": "markdown",
   "metadata": {},
   "source": [
    "The result is stored in the HDF5 file in a similar run group (found in ``a5.data``) as the ASCOT5 simulations are, and the group works in a similar manner.\n",
    "The group contains information on the magnetic field and plasma inputs that were used and provides methods to access the product distributions.\n",
    "However, now the distributions are called ``prod1`` and ``prod2`` instead of ``5d``, but they act exactly as a ``5d`` distribution would."
   ]
  },
  {
   "cell_type": "code",
   "execution_count": null,
   "metadata": {},
   "outputs": [],
   "source": [
    "# Convert to E-xi as then we can make dist more compact in momentum space\n",
    "alphadist = a5.data.active.getdist(\"prod1\", exi=True, ekin_edges=20, pitch_edges=10)\n",
    "alphadist.integrate(time=np.s_[:], charge=np.s_[:]) # Distribution must be 5D\n",
    "\n",
    "rzdist  = alphadist.integrate(copy=True, phi=np.s_[:], ekin=np.s_[:], pitch=np.s_[:])\n",
    "exidist = alphadist.integrate(copy=True, phi=np.s_[:], r=np.s_[:], z=np.s_[:])\n",
    "\n",
    "fig = plt.figure(figsize=(10,5))\n",
    "ax1 = fig.add_subplot(1,2,1)\n",
    "ax2 = fig.add_subplot(1,2,2)\n",
    "\n",
    "rzdist.plot(axes=ax1)\n",
    "exidist.plot(axes=ax2)\n",
    "\n",
    "plt.show()"
   ]
  },
  {
   "cell_type": "markdown",
   "metadata": {},
   "source": [
    "Next, we run the beam-thermal fusion between the deuterium beam (whose distribution was calculated earlier) and thermal deuterium.\n",
    "This time we use ``beamthermal`` function and provide the beam 5D function as an input.\n",
    "Note that this time we can't specify a cylindrical grid for the outputs, as the same grid is used as in the beam distribution.\n",
    "\n",
    "The results is again stored as a new run from which the data is read as usual.\n",
    "Take a note how the product distribution is strongly anisotropic; the product velocities consists of both the kinetic energy released in the reaction and the (beam) velocity that the reactants had."
   ]
  },
  {
   "cell_type": "code",
   "execution_count": null,
   "metadata": {
    "nbsphinx-thumbnail": {
     "tooltip": "This tooltip message was defined in cell metadata"
    }
   },
   "outputs": [],
   "source": [
    "beamdist = a5.data.BEAMSD.getdist(\"5d\")\n",
    "a5.afsi.beamthermal(\"DD_Tp\", beamdist, swap=True)\n",
    "\n",
    "alphadist = a5.data.active.getdist(\"prod1\", exi=True, ekin_edges=20, pitch_edges=10)\n",
    "rzdist  = alphadist.integrate(copy=True, phi=np.s_[:], ekin=np.s_[:], pitch=np.s_[:])\n",
    "exidist = alphadist.integrate(copy=True, phi=np.s_[:], r=np.s_[:], z=np.s_[:])\n",
    "\n",
    "fig = plt.figure(figsize=(10,5))\n",
    "ax1 = fig.add_subplot(1,2,1)\n",
    "ax2 = fig.add_subplot(1,2,2)\n",
    "\n",
    "rzdist.plot(axes=ax1)\n",
    "exidist.plot(axes=ax2)\n",
    "\n",
    "plt.show()"
   ]
  },
  {
   "cell_type": "markdown",
   "metadata": {},
   "source": [
    "Finally, we demonstrate the beam-beam fusion.\n",
    "Providing the ``beambeam`` function with just a single distribution calculates the fusion product for the beam interacting with itself.\n",
    "The other beam would be provided with ``beam2`` argument (which must have the same abscissae as the first beam distribution)."
   ]
  },
  {
   "cell_type": "code",
   "execution_count": null,
   "metadata": {},
   "outputs": [],
   "source": [
    "a5 = Ascot(\"ascot.h5\")\n",
    "beamdist = a5.data.BEAMSD.getdist(\"5d\")\n",
    "a5.afsi.beambeam(\"DD_Tp\", beamdist)\n",
    "\n",
    "alphadist = a5.data.active.getdist(\"prod1\", exi=True, ekin_edges=20, pitch_edges=10)\n",
    "alphadist.integrate(time=np.s_[:], charge=np.s_[:]) # Distribution must be 5D\n",
    "\n",
    "rzdist  = alphadist.integrate(copy=True, phi=np.s_[:], ekin=np.s_[:], pitch=np.s_[:])\n",
    "exidist = alphadist.integrate(copy=True, phi=np.s_[:], r=np.s_[:], z=np.s_[:])\n",
    "\n",
    "fig = plt.figure(figsize=(10,5))\n",
    "ax1 = fig.add_subplot(1,2,1)\n",
    "ax2 = fig.add_subplot(1,2,2)\n",
    "\n",
    "rzdist.plot(axes=ax1)\n",
    "exidist.plot(axes=ax2)\n",
    "\n",
    "plt.show()"
   ]
  },
  {
   "cell_type": "markdown",
   "metadata": {},
   "source": []
  }
 ],
 "metadata": {
  "language_info": {
   "name": "python"
  }
 },
 "nbformat": 4,
 "nbformat_minor": 4
}
