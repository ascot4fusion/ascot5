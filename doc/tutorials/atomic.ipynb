{
 "cells": [
  {
   "cell_type": "markdown",
   "metadata": {},
   "source": [
    "# Modelling CX and tracing neutrals\n",
    "\n",
    "This example shows how to include atomic reactions that change the charge state of the markers, and how to model neutrals.\n",
    "\n",
    "> **_NOTE:_**  This tutorial requires ADAS data to run.\n",
    "  Therefore the results won't be displayed on the online version.\n",
    "\n",
    "At its current state, the atomic physics in ASCOT5 enables simulation of neutrals and singly charged ions.\n",
    "Neutral can become ionized and ion can become neutral but it is not currently possible for ion to remain ion when its charge state changes.\n",
    "\n",
    "We begin by creating some test data that is not directly relevant for this tutorial."
   ]
  },
  {
   "cell_type": "code",
   "execution_count": null,
   "metadata": {},
   "outputs": [],
   "source": [
    "import numpy as np\n",
    "import unyt\n",
    "import matplotlib.pyplot as plt\n",
    "from a5py import Ascot\n",
    "\n",
    "a5 = Ascot(\"ascot.h5\", create=True)\n",
    "a5.data.create_input(\"bfield analytical iter circular\")\n",
    "a5.data.create_input(\"wall rectangular\")\n",
    "a5.data.create_input(\"E_TC\")\n",
    "a5.data.create_input(\"Boozer\")\n",
    "a5.data.create_input(\"MHD_STAT\")\n",
    "\n",
    "print(\"Inputs created\")"
   ]
  },
  {
   "cell_type": "markdown",
   "metadata": {},
   "source": [
    "As for the plasma and neutral data, pay attention to the following:\n",
    "\n",
    "- Plasma species must be fully ionized, i.e. `charge` and `znum` must match (partially ionized species have not been implemented yet).\n",
    "- The neutral species must be in the same order as the species in the plasma input (neutral data does not yet contain `anum` and `znum` fields so the ones in the plasma input are used instead).\n",
    "\n",
    "In this tutorial we have $^1_1$H plasma and neutrals."
   ]
  },
  {
   "cell_type": "code",
   "execution_count": null,
   "metadata": {},
   "outputs": [],
   "source": [
    "# Plasma data\n",
    "nrho   = 11\n",
    "rho    = np.linspace(0, 2, nrho).T\n",
    "edens  = 1e18 * np.ones((nrho, 1))\n",
    "etemp  = 1e3  * np.ones((nrho, 1))\n",
    "idens  = 1e18 * np.ones((nrho, 1))\n",
    "itemp  = 1e3  * np.ones((nrho, 1))\n",
    "\n",
    "pls = {\n",
    "    \"nrho\" : nrho, \"nion\" : 1, \"rho\" : rho,\n",
    "    \"anum\" : np.array([2]), \"znum\" : np.array([1]),\n",
    "    \"mass\" : np.array([1.007]), \"charge\" : np.array([1]),\n",
    "    \"edensity\" : edens, \"etemperature\" : etemp,\n",
    "    \"idensity\" : idens, \"itemperature\" : itemp}\n",
    "a5.data.create_input(\"plasma_1D\", **pls, desc=\"FLAT\")\n",
    "\n",
    "# Neutral data\n",
    "density = np.ones((11,1)) * 1e17\n",
    "temperature = np.ones((11,1)) * 1e3\n",
    "ntr = {\"rhomin\" : 0, \"rhomax\" : 10, \"nrho\" : 11, \"nspecies\" : 1,\n",
    "       \"anum\" : np.array([1]), \"znum\" : np.array([1]),\n",
    "       \"density\" : density, \"temperature\" : temperature,\n",
    "       \"maxwellian\" : 1}\n",
    "a5.data.create_input(\"N0_1D\", **ntr, desc=\"FLAT\")"
   ]
  },
  {
   "cell_type": "markdown",
   "metadata": {},
   "source": [
    "When generating the marker input, note that `anum` and `znum` fields specify the particle species whereas `charge` specifies the charge state.\n",
    "One can assume that the `mass` is same for all charge states and it stays fixed in the simulation.\n",
    "For this tutorial we create equal amounts of ions and neutrals."
   ]
  },
  {
   "cell_type": "code",
   "execution_count": null,
   "metadata": {},
   "outputs": [],
   "source": [
    "from a5py.ascot5io.marker import Marker\n",
    "mrk = Marker.generate(\"gc\", n=100, species=\"deuterium\")\n",
    "mrk[\"energy\"][:] = 1.0e4\n",
    "mrk[\"pitch\"][:]  = 0.99 - 1.98 * np.random.rand(100,)\n",
    "mrk[\"r\"][:]      = np.linspace(6.2, 7.2, 100)\n",
    "mrk[\"charge\"][:50] = 0\n",
    "mrk[\"charge\"][50:] = 1\n",
    "a5.data.create_input(\"gc\", **mrk)"
   ]
  },
  {
   "cell_type": "markdown",
   "metadata": {},
   "source": [
    "Atomic data is created using ADAS or Open-ADAS datasets."
   ]
  },
  {
   "cell_type": "code",
   "execution_count": null,
   "metadata": {},
   "outputs": [],
   "source": [
    "a5.data.create_input(\"import_adas\")"
   ]
  },
  {
   "cell_type": "markdown",
   "metadata": {},
   "source": [
    "Once generated, the atomic data can be interpolated via `ascotpy`.\n",
    "Now we can calculate the mean-free-time which in turn gives us a good estimate on what the simulation time-step should be."
   ]
  },
  {
   "cell_type": "code",
   "execution_count": null,
   "metadata": {},
   "outputs": [],
   "source": [
    "# First calculate velocity with physlib\n",
    "#import a5py.physlib as physlib\n",
    "from a5py import physlib\n",
    "gamma = physlib.gamma_energy(mrk[\"mass\"][0], mrk[\"energy\"][0])\n",
    "vnorm = physlib.vnorm_gamma(gamma)\n",
    "\n",
    "a5.input_init(bfield=True, plasma=True, neutral=True, asigma=True)\n",
    "sigmacx  = a5.input_eval_atomicsigma(\n",
    "    mrk[\"mass\"][0], mrk[\"anum\"][0], mrk[\"znum\"][0],\n",
    "    mrk[\"r\"][0], mrk[\"phi\"][0], mrk[\"z\"][0], mrk[\"time\"][0], vnorm,\n",
    "    ion=0, reaction=\"charge-exchange\")\n",
    "sigmabms = a5.input_eval_atomicsigma(\n",
    "    mrk[\"mass\"][0], mrk[\"anum\"][0], mrk[\"znum\"][0],\n",
    "    mrk[\"r\"][0], mrk[\"phi\"][0], mrk[\"z\"][0], mrk[\"time\"][0], vnorm,\n",
    "    ion=0, reaction=\"beamstopping\")\n",
    "a5.input_free()\n",
    "mft_cx  = 1.0 / (sigmacx * density[0]/unyt.m**3)\n",
    "mft_bms = 1.0 / (sigmabms * idens[0]/unyt.m**3)\n",
    "\n",
    "print(\"Mean free time: %.3e (CX) %.3e (BMS)\" % (mft_cx,mft_bms))"
   ]
  },
  {
   "cell_type": "markdown",
   "metadata": {},
   "source": [
    "Once atomic input data has been created, the physics are enabled from options with `ENABLE_ATOMIC=1`.\n",
    "However, consider setting `ENABLE_ATOMIC=2` when there is a possibility that the marker orbits are outside the separatrix where the temperature and density can be outside the data range in which the atomic data is given.\n",
    "When using `ENABLE_ATOMIC=2`, the cross sections are set to zero when extrapolating the data.\n",
    "Otherwise the simulation would terminate with an error.\n",
    "\n",
    "If you wish to terminate the simulation when a marker ionizes or when it becomes neutral, you can enable the end conditions `ENDCOND_IONIZED` and `ENDCOND_NEUTRAL`, respectively.\n",
    "\n",
    "When collecting distributions it is important to set the charge abscissa properly.\n",
    "The abscissa should cover all expected charge states and there should be exactly one bin for each charge state.\n",
    "\n",
    "Here we set simulation options for tracing markers for a fixed time with atomic reactions and Coulomb collisions enabled.\n",
    "We also collect distribution and orbit data.\n",
    "\n",
    "**Finally, it is important to note that the atomic reactions are implemented only for the gyro-orbit mode,** `SIM_MODE=1`, **and it is not possible at all to simulate neutrals in guiding center mode.**\n",
    "In `SIM_MODE=1`, the neutrals are traced according to their ballistic trajectories.\n",
    "However, the marker input can still be either particles or guiding centers as in the latter case the guiding center is transformed to particle coordinates using the zeroth order transformation (where the gyroradius $\\rho_g=0$) if the marker is a neutral.\n",
    "Same is done for the ini- and endstate but it is recommended to use the particle coordinates nevertheless."
   ]
  },
  {
   "cell_type": "code",
   "execution_count": null,
   "metadata": {},
   "outputs": [],
   "source": [
    "from a5py.ascot5io.options import Opt\n",
    "\n",
    "opt = Opt.get_default()\n",
    "opt.update({\n",
    "    # Simulation mode and end condition (use rho max as otherwise neutral escape from\n",
    "    # the plasma and become aborted since we don't have a proper wall)\n",
    "    \"SIM_MODE\":1, \"FIXEDSTEP_USE_USERDEFINED\":1, \"FIXEDSTEP_USERDEFINED\":1e-8,\n",
    "    \"ENDCOND_SIMTIMELIM\":1, \"ENDCOND_MAX_MILEAGE\":1e-4,\n",
    "    \"ENDCOND_RHOLIM\":1, \"ENDCOND_MAX_RHO\":1.0,\n",
    "    # Physics\n",
    "    \"ENABLE_ORBIT_FOLLOWING\":1, \"ENABLE_COULOMB_COLLISIONS\":1, \"ENABLE_ATOMIC\":1,\n",
    "    # Distribution output\n",
    "    \"ENABLE_DIST_RHO5D\":1,\n",
    "    \"DIST_MIN_RHO\":0.0,      \"DIST_MAX_RHO\":1.0,     \"DIST_NBIN_RHO\":50,\n",
    "    \"DIST_MIN_PHI\":0,        \"DIST_MAX_PHI\":360,     \"DIST_NBIN_PHI\":1,\n",
    "    \"DIST_MIN_THETA\":0.0,    \"DIST_MAX_THETA\":360,   \"DIST_NBIN_THETA\":1,\n",
    "    \"DIST_MIN_PPA\":-1.3e-19, \"DIST_MAX_PPA\":1.3e-19, \"DIST_NBIN_PPA\":100,\n",
    "    \"DIST_MIN_PPE\":0,        \"DIST_MAX_PPE\":1.3e-19, \"DIST_NBIN_PPE\":50,\n",
    "    \"DIST_MIN_TIME\":0,       \"DIST_MAX_TIME\":1.0,    \"DIST_NBIN_TIME\":1,\n",
    "    \"DIST_MIN_CHARGE\":-0.5,  \"DIST_MAX_CHARGE\":1.5,  \"DIST_NBIN_CHARGE\":2,\n",
    "    # Orbit output\n",
    "    \"ENABLE_ORBITWRITE\":1, \"ORBITWRITE_MODE\":1,\n",
    "    \"ORBITWRITE_INTERVAL\":1e-7, \"ORBITWRITE_NPOINT\":10**4,\n",
    "})\n",
    "a5.data.create_input(\"opt\", **opt, desc=\"TUTORIAL\")"
   ]
  },
  {
   "cell_type": "markdown",
   "metadata": {},
   "source": [
    "Now let us run the simulation:"
   ]
  },
  {
   "cell_type": "code",
   "execution_count": null,
   "metadata": {},
   "outputs": [],
   "source": [
    "import subprocess\n",
    "subprocess.run([\"./../../build/ascot5_main\"])\n",
    "print(\"Simulation completed\")"
   ]
  },
  {
   "cell_type": "markdown",
   "metadata": {},
   "source": [
    "In post-processing we can plot the final charge distribution as"
   ]
  },
  {
   "cell_type": "code",
   "execution_count": null,
   "metadata": {},
   "outputs": [],
   "source": [
    "a5 = Ascot(\"ascot.h5\")\n",
    "a5.data.active.plotstate_histogram(\"end charge\")"
   ]
  },
  {
   "cell_type": "markdown",
   "metadata": {},
   "source": [
    "The orbit data contain the marker charge at each time step.\n",
    "Here we verify that the energy has not changed while the marker was neutral since Coulomb collisions only affect charged particles (how well the plot below demonstrates this point depends on RNG)."
   ]
  },
  {
   "cell_type": "code",
   "execution_count": null,
   "metadata": {},
   "outputs": [],
   "source": [
    "a5.data.active.plotorbit_trajectory(\"mileage\", \"charge\", ids=[1, 51])\n",
    "a5.data.active.plotorbit_trajectory(\"mileage\", \"diff ekin\", ids=[1, 51])"
   ]
  },
  {
   "cell_type": "markdown",
   "metadata": {},
   "source": [
    "Distributions and moments can be obtained for each charge state separately when the charge abscissa was set properly.\n",
    "Here we plot the neutral and ion densities separately."
   ]
  },
  {
   "cell_type": "code",
   "execution_count": null,
   "metadata": {},
   "outputs": [],
   "source": [
    "dist = a5.data.active.getdist(\"rho5d\")\n",
    "# Integrate over all dimensions except rho and charge\n",
    "dist.integrate(phi=np.s_[:], theta=np.s_[:], ppar=np.s_[:], pperp=np.s_[:], time=np.s_[:])\n",
    "\n",
    "# Copy and slice charge at 0 and +1. Then integrate charge so that we can plot\n",
    "neutraldist = dist.slice(copy=True, charge=[0])\n",
    "dist.slice(charge=[1])\n",
    "\n",
    "fig, ax = plt.subplots()\n",
    "neutraldist.plot(axes=ax)\n",
    "dist.plot(axes=ax)\n",
    "plt.show()"
   ]
  },
  {
   "cell_type": "markdown",
   "metadata": {},
   "source": []
  }
 ],
 "metadata": {
  "language_info": {
   "name": "python"
  }
 },
 "nbformat": 4,
 "nbformat_minor": 4
}
