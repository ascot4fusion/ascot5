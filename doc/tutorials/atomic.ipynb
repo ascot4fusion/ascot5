{
 "cells": [
  {
   "cell_type": "markdown",
   "metadata": {},
   "source": [
    "# Modelling CX and tracing neutrals\n",
    "\n",
    "<img src='../../figures/template.png' alt='thumbnail' width='200'/>\n",
    "\n",
    "This example shows how to include atomic reactions that change the charge state of the markers, and how to model neutrals.\n",
    "\n",
    "At its current state, the atomic physics in ASCOT5 enables simulation of neutrals and singly charged ions.\n",
    "Neutral can become ionized and ion can become neutral but it is not currently possible for ion to remain ion when its charge state changes.\n",
    "\n",
    "We begin by creating some test data that is not directly relevant for this tutorial."
   ]
  },
  {
   "cell_type": "code",
   "execution_count": null,
   "metadata": {},
   "outputs": [],
   "source": [
    "import numpy as np\n",
    "from a5py import Ascot\n",
    "\n",
    "a5 = Ascot(\"ascot.h5\", create=True)\n",
    "a5.data.create_input(\"bfield analytical iter circular\")\n",
    "a5.data.create_input(\"wall rectangular\")\n",
    "a5.data.create_input(\"E_TC\")\n",
    "a5.data.create_input(\"Boozer\")\n",
    "a5.data.create_input(\"MHD_STAT\")\n",
    "\n",
    "print(\"Inputs created\")"
   ]
  },
  {
   "cell_type": "markdown",
   "metadata": {},
   "source": [
    "As for the plasma and neutral data, pay attention to the following:\n",
    "\n",
    "- Plasma species must be fully ionized, i.e. `charge` and `znum` must match (partially ionized species have not been implemented yet).\n",
    "- The neutral species must be in the same order as the species in the plasma input (neutral data does not yet contain `anum` and `znum` fields so the ones in the plasma input are used instead).\n",
    "\n",
    "In this tutorial we have $^1_1$H plasma and neutrals."
   ]
  },
  {
   "cell_type": "code",
   "execution_count": null,
   "metadata": {},
   "outputs": [],
   "source": [
    "# Plasma data\n",
    "nrho   = 11\n",
    "rho    = np.linspace(0, 2, nrho).T\n",
    "edens  = 1e19 * np.ones((nrho, 1))\n",
    "etemp  = 1e3  * np.ones((nrho, 1))\n",
    "idens  = 1e19 * np.ones((nrho, 1))\n",
    "itemp  = 1e3  * np.ones((nrho, 1))\n",
    "\n",
    "pls = {\n",
    "    \"nrho\" : nrho, \"nion\" : 1, \"rho\" : rho,\n",
    "    \"anum\" : np.array([1]), \"znum\" : np.array([1]),\n",
    "    \"mass\" : np.array([1.007]), \"charge\" : np.array([1]),\n",
    "    \"edensity\" : edens, \"etemperature\" : etemp,\n",
    "    \"idensity\" : idens, \"itemperature\" : itemp}\n",
    "a5.data.create_input(\"plasma_1D\", **pls, desc=\"FLAT\")\n",
    "\n",
    "# Neutral data\n",
    "density = np.ones((11,1)) * 1e17\n",
    "temperature = np.ones((11,1)) * 1e3\n",
    "ntr = {\"rhomin\" : 0, \"rhomax\" : 10, \"nrho\" : 11, \"nspecies\" : 1,\n",
    "       \"anum\" : np.array([1]), \"znum\" : np.array([1]),\n",
    "       \"density\" : density, \"temperature\" : temperature,\n",
    "       \"maxwellian\" : 1}\n",
    "a5.data.create_input(\"N0_1D\", **ntr, desc=\"FLAT\")"
   ]
  },
  {
   "cell_type": "markdown",
   "metadata": {},
   "source": [
    "When generating the marker input, note that `anum` and `znum` fields specify the particle species whereas `charge` specifies the charge state.\n",
    "One can assume that the `mass` is same for all charge states and it stays fixed in the simulation.\n",
    "For this tutorial we create equal amounts of ions and neutrals."
   ]
  },
  {
   "cell_type": "code",
   "execution_count": null,
   "metadata": {},
   "outputs": [],
   "source": [
    "mrk[\"charge\"][:50] = 0\n",
    "a5.data.create_input(\"gc\", **mrk)"
   ]
  },
  {
   "cell_type": "markdown",
   "metadata": {},
   "source": [
    "Atomic data is created using ADAS or Open-ADAS datasets."
   ]
  },
  {
   "cell_type": "code",
   "execution_count": null,
   "metadata": {},
   "outputs": [],
   "source": []
  },
  {
   "cell_type": "markdown",
   "metadata": {},
   "source": [
    "Once generated, the atomic data can be interpolated via `ascotpy`.\n",
    "Now we can calculate the mean-free-path which in turn gives us a good estimate on what the simulation time-step should be."
   ]
  },
  {
   "cell_type": "code",
   "execution_count": null,
   "metadata": {},
   "outputs": [],
   "source": []
  },
  {
   "cell_type": "markdown",
   "metadata": {},
   "source": [
    "Once atomic input data has been created, the physics are enabled from options with `ENABLE_ATOMIC=1`.\n",
    "However, consider setting `ENABLE_ATOMIC=2` when there is a possibility that the marker orbits are outside the separatrix where the temperature and density can be outside the data range in which the atomic data is given.\n",
    "When using `ENABLE_ATOMIC=2`, the cross sections are set to zero when extrapolating the data.\n",
    "Otherwise the simulation would terminate with an error.\n",
    "\n",
    "If you wish to terminate the simulation when a marker ionizes or when it becomes neutral, you can enable the end conditions `ENDCOND_IONIZED` and `ENDCOND_NEUTRAL`, respectively.\n",
    "\n",
    "When collecting distributions it is important to set the charge abscissa properly.\n",
    "The abscissa should cover all expected charge states and there should be exactly one bin for each charge state.\n",
    "\n",
    "Here we set simulation options for tracing markers for a fixed time with atomic reactions and Coulomb collisions enabled.\n",
    "We also collect distribution and orbit data.\n",
    "\n",
    "**Finally, it is important to note that the atomic reactions are implemented only for the gyro-orbit mode,** `SIM_MODE=1`, **and it is not possible at all to simulate neutrals in guiding center mode.**\n",
    "In `SIM_MODE=1`, the neutrals are traced according to their ballistic trajectories.\n",
    "However, the marker input can still be either particles or guiding centers as in the latter case the guiding center is transformed to particle coordinates using the zeroth order transformation (where the gyroradius $\\rho_g=0$) if the marker is a neutral.\n",
    "Same is done for the ini- and endstate but it is recommended to use the particle coordinates nevertheless."
   ]
  },
  {
   "cell_type": "code",
   "execution_count": null,
   "metadata": {},
   "outputs": [],
   "source": [
    "from a5py.ascot5io.options import Opt\n",
    "\n",
    "opt = Opt.get_default()\n",
    "opt.update({\n",
    "    # Simulation mode\n",
    "    \"SIM_MODE\":1,\n",
    "    # Setting max mileage above slowing-down time is a good safeguard to ensure\n",
    "    # simulation finishes even with faulty inputs. Same with the CPU time limit.\n",
    "    \"ENDCOND_SIMTIMELIM\":1, \"ENDCOND_MAX_MILEAGE\":0.5,\n",
    "    \"ENDCOND_CPUTIMELIM\":1, \"ENDCOND_MAX_CPUTIME\":1.0e1,\n",
    "    # The energy limit which separates a fast ion from thermal bulk is not well defined,\n",
    "    # but we usually use Emin = 2 x Tion as the limit. Setting also a fixed minimum energy\n",
    "    # is advised sine plasma temperature at the pedestal can be low.\n",
    "    \"ENDCOND_ENERGYLIM\":1, \"ENDCOND_MIN_ENERGY\":2.0e3, \"ENDCOND_MIN_THERMAL\":2.0,\n",
    "    # Physics\n",
    "    \"ENABLE_ORBIT_FOLLOWING\":1, \"ENABLE_COULOMB_COLLISIONS\":1,\n",
    "    # Distribution output\n",
    "    \"ENABLE_DIST_5D\":1,\n",
    "    \"DIST_MIN_R\":4.3,        \"DIST_MAX_R\":8.3,       \"DIST_NBIN_R\":50,\n",
    "    \"DIST_MIN_PHI\":0,        \"DIST_MAX_PHI\":360,     \"DIST_NBIN_PHI\":1,\n",
    "    \"DIST_MIN_Z\":-2.0,       \"DIST_MAX_Z\":2.0,       \"DIST_NBIN_Z\":50,\n",
    "    \"DIST_MIN_PPA\":-1.3e-19, \"DIST_MAX_PPA\":1.3e-19, \"DIST_NBIN_PPA\":100,\n",
    "    \"DIST_MIN_PPE\":0,        \"DIST_MAX_PPE\":1.3e-19, \"DIST_NBIN_PPE\":50,\n",
    "    \"DIST_MIN_TIME\":0,       \"DIST_MAX_TIME\":1.0,    \"DIST_NBIN_TIME\":1,\n",
    "    \"DIST_MIN_CHARGE\":1,     \"DIST_MAX_CHARGE\":3,    \"DIST_NBIN_CHARGE\":1,\n",
    "})\n",
    "a5.data.create_input(\"opt\", **opt, desc=\"SLOWINGDOWN\")"
   ]
  },
  {
   "cell_type": "markdown",
   "metadata": {},
   "source": [
    "Now let us run the simulation:"
   ]
  },
  {
   "cell_type": "code",
   "execution_count": null,
   "metadata": {},
   "outputs": [],
   "source": [
    "import subprocess\n",
    "subprocess.run([\"./../../build/ascot5_main\"])\n",
    "print(\"Simulation completed\")"
   ]
  },
  {
   "cell_type": "markdown",
   "metadata": {},
   "source": [
    "In post-processing we can plot the final charge distribution as"
   ]
  },
  {
   "cell_type": "code",
   "execution_count": null,
   "metadata": {},
   "outputs": [],
   "source": []
  },
  {
   "cell_type": "markdown",
   "metadata": {},
   "source": [
    "The orbit data contain the marker charge at each time step.\n",
    "Here we verify that the energy has not changed while the marker was neutral since Coulomb collisions only affect charged particles."
   ]
  },
  {
   "cell_type": "code",
   "execution_count": null,
   "metadata": {},
   "outputs": [],
   "source": []
  },
  {
   "cell_type": "markdown",
   "metadata": {},
   "source": [
    "Distributions and moments can be obtained for each charge state separately when the charge abscissa was set properly.\n",
    "Here we plot the neutral and ion densities separately."
   ]
  },
  {
   "cell_type": "code",
   "execution_count": null,
   "metadata": {},
   "outputs": [],
   "source": []
  },
  {
   "cell_type": "markdown",
   "metadata": {},
   "source": []
  }
 ],
 "metadata": {
  "language_info": {
   "name": "python"
  }
 },
 "nbformat": 4,
 "nbformat_minor": 4
}
