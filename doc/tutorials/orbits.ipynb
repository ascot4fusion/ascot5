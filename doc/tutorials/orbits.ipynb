{
 "cells": [
  {
   "cell_type": "markdown",
   "metadata": {},
   "source": [
    "# Visualizing orbits\n",
    "\n",
    "<img src='../../figures/orbits.png' alt='thumbnail' width='200'/>\n",
    "\n",
    "This example shows how to collect and visualize marker orbits.\n",
    "\n",
    "## Detailed description of the orbit collection options\n",
    "\n",
    "The orbit data collection is one of the diagnostics that can be active in any simulation.\n",
    "Simply put, it records the marker position in phase-space (and some other quantities) at fixed time intervals or when a marker crosses a specific surface.\n",
    "The latter is used to generate Poincaré plots, while the former can be used to evaluate orbit-averaged quantities or just to visualize orbits.\n",
    "In simulations with large number of markers $(\\gtrsim 10^4)$ the orbit data is rarely collected because it may use up a lot of memory and disk space.\n",
    "\n",
    "The orbit data collection is enabled in options by setting ``ENABLE_ORBITWRITE = 1``.\n",
    "The next option, ``ORBITWRITE_MODE``, selects whether the marker trajectory is recorded when **i)** a given amount of time has passed or **ii)** marker crosses a predetermined surface.\n",
    "The latter is used for Poincaré plots, so choose ``ORBITWRITE_MODE=1`` to collect the data in time intervals.\n",
    "The time interval is set by ``ORBITWRITE_INTERVAL`` which, if set to zero, collects the data at each integration time-step.\n",
    "\n",
    "> **_NOTE:_** The data is not collected exactly at ``ORBITWRITE_INTERVAL`` intervals, but on the first time step when at least the set amount of time has passed from the last time orbit data was recorded.\n",
    "If desired, the only way to collect the data at fixed intervals is to use a fixed time-step and choose ``ORBITWRITE_INTERVAL`` so that it is a multiple of the time-step.\n",
    "\n",
    "Next we have ``ORBITWRITE_NPOINT`` which sets a **maximum** number of points kept in record for each marker.\n",
    "Roughly speaking, there is a fixed-size array in simulation for each marker that has length equal to this value, which is then filled one slot at a time every time the marker position is recorded.\n",
    "If this array becomes full, then the earliest record is overwritten, i.e, the array contains last ``ORBITWRITE_NPOINT`` records.\n",
    "If the array is not full at the end of the marker's simulation, the unused slots are pruned before the data is written to disk.\n",
    "\n",
    "Preferably ``ORBITWRITE_NPOINT`` is equal to the simulation time divided by ``ORBITWRITE_INTERVAL`` as then all the recorded points are kept.\n",
    "One can of course choose to keep only the last $N$ values, which could be useful for debugging simulations or seeing how exactly markers ended up on the wall.\n",
    "Just keep in mind to not use a large value for ``ORBITWRITE_NPOINT`` in simulations with a large number of markers as that will easily eat all available RAM.\n",
    "It is a good practice to check how much data was allocated for the diagnostics when using the orbit collection.\n",
    "This value is printed at the beginning of the simulation after all inputs have been initialized.\n",
    "\n",
    "## Running a simulation where orbit data is being collected\n",
    "\n",
    "First, initialize a test case where markers can be traced:"
   ]
  },
  {
   "cell_type": "code",
   "execution_count": null,
   "metadata": {},
   "outputs": [],
   "source": [
    "import numpy as np\n",
    "from a5py import Ascot\n",
    "\n",
    "a5 = Ascot(\"ascot.h5\", create=True)\n",
    "a5.data.create_input(\"bfield analytical iter circular\")\n",
    "a5.data.create_input(\"wall rectangular\")\n",
    "a5.data.create_input(\"plasma_1D\")\n",
    "a5.data.create_input(\"E_TC\")\n",
    "a5.data.create_input(\"N0_1D\")\n",
    "a5.data.create_input(\"Boozer\")\n",
    "a5.data.create_input(\"MHD_STAT\")\n",
    "a5.data.create_input(\"asigma_loc\")\n",
    "\n",
    "print(\"Inputs created\")"
   ]
  },
  {
   "cell_type": "markdown",
   "metadata": {},
   "source": [
    "As for markers, we create two alpha particles, one of which will not be confined in the simulation (for demonstration purposes):"
   ]
  },
  {
   "cell_type": "code",
   "execution_count": null,
   "metadata": {},
   "outputs": [],
   "source": [
    "from a5py.ascot5io.marker import Marker\n",
    "mrk = Marker.generate(\"gc\", n=2, species=\"alpha\")\n",
    "mrk[\"energy\"][:] = 3.5e6\n",
    "\n",
    "# Passing particle in the core = confined\n",
    "mrk[\"ids\"][0]   = 1\n",
    "mrk[\"pitch\"][0] = 0.9\n",
    "mrk[\"r\"][0]     = 7.2\n",
    "\n",
    "# Banana on outward excursion near the edge = unconfined\n",
    "mrk[\"ids\"][1]   = 404\n",
    "mrk[\"pitch\"][1] = 0.5\n",
    "mrk[\"r\"][1]     = 8.1\n",
    "\n",
    "a5.data.create_input(\"gc\", **mrk)"
   ]
  },
  {
   "cell_type": "markdown",
   "metadata": {},
   "source": [
    "Now we create options where the orbit data collection is enabled, and the data is collected at each time-step.\n",
    "Since we only have two markers, we set ``ORBITWRITE_NPOINT`` large enough to hold all recorded values.\n",
    "As for the simulation, we trace markers in hybrid mode (again for demonstration purposes) and enable orbit-following and set maximum mileage and wall collisions as end conditions."
   ]
  },
  {
   "cell_type": "code",
   "execution_count": null,
   "metadata": {},
   "outputs": [],
   "source": [
    "from a5py.ascot5io.options import Opt\n",
    "\n",
    "opt = Opt.get_default()\n",
    "opt.update({\n",
    "    # Settings specific for this tutorial\n",
    "    \"SIM_MODE\":3, \"ENABLE_ADAPTIVE\":1,\n",
    "    \"ENDCOND_SIMTIMELIM\":1, \"ENDCOND_MAX_MILEAGE\":1e-5,\n",
    "    \"ENDCOND_WALLHIT\":1, \"ENDCOND_MAX_RHO\":1.0,\n",
    "    \"ENABLE_ORBIT_FOLLOWING\":1,\n",
    "    # Orbit diagnostics\n",
    "    \"ENABLE_ORBITWRITE\":1, \"ORBITWRITE_MODE\":1,\n",
    "    \"ORBITWRITE_INTERVAL\":0.0, \"ORBITWRITE_NPOINT\":10**4,\n",
    "})\n",
    "a5.data.create_input(\"opt\", **opt, desc=\"HYBRID\")"
   ]
  },
  {
   "cell_type": "markdown",
   "metadata": {},
   "source": [
    "Now run the simulation:"
   ]
  },
  {
   "cell_type": "code",
   "execution_count": null,
   "metadata": {},
   "outputs": [],
   "source": [
    "import subprocess\n",
    "subprocess.run([\"./../../build/ascot5_main\"])\n",
    "print(\"Simulation completed\")"
   ]
  },
  {
   "cell_type": "markdown",
   "metadata": {},
   "source": [
    "The orbit data is accessed by using the run group's ``getorbit`` method:"
   ]
  },
  {
   "cell_type": "code",
   "execution_count": null,
   "metadata": {},
   "outputs": [],
   "source": [
    "a5 = Ascot(\"ascot.h5\")\n",
    "\n",
    "# Retrieve mileage\n",
    "mil = a5.data.active.getorbit(\"ekin\")\n",
    "\n",
    "# Multiple quantities can be accessed simultaneously\n",
    "# (which is more efficient than accessing individually)\n",
    "r, z = a5.data.active.getorbit(\"r\", \"z\")\n",
    "\n",
    "# Data can be parsed by marker ID\n",
    "rho = a5.data.active.getorbit(\"rho\", ids=1)\n",
    "rho = a5.data.active.getorbit(\"rho\", ids=[1,404])\n",
    "\n",
    "# ...or by end condition\n",
    "rho = a5.data.active.getorbit(\"rho\", endcond=\"NOT WALL\")\n",
    "rho = a5.data.active.getorbit(\"rho\", endcond=[\"TLIM\", \"WALL\"])"
   ]
  },
  {
   "cell_type": "markdown",
   "metadata": {},
   "source": [
    "Some quantities are evaluated run-time and some of those requires access to input data, or otherwise exception is raised:"
   ]
  },
  {
   "cell_type": "code",
   "execution_count": null,
   "metadata": {},
   "outputs": [],
   "source": [
    "a5.input_init(bfield=True)\n",
    "psi = a5.data.active.getorbit(\"psi\", ids=404)\n",
    "a5.input_free(bfield=True)"
   ]
  },
  {
   "cell_type": "markdown",
   "metadata": {},
   "source": [
    "Orbits can also be plotted easily with the ``plotorbit_trajectory`` method:"
   ]
  },
  {
   "cell_type": "code",
   "execution_count": null,
   "metadata": {},
   "outputs": [],
   "source": [
    "a5.data.active.plotorbit_trajectory(\"r\", \"z\", endcond=\"TLIM\")\n",
    "a5.data.active.plotorbit_trajectory(\"mileage\", \"ekin\", ids=404)"
   ]
  },
  {
   "cell_type": "markdown",
   "metadata": {},
   "source": [
    "With the orbit data it is not possible to choose if the quantities are evaluated in particle or guiding-center coordinates with the reason being that only one these are stored.\n",
    "So which one?\n",
    "\n",
    "By default, the one corresponding to the simulation mode: particle coordinates in GO simulation and guiding-center coordinates in GC simulation.\n",
    "In hybrid mode, the stored quantity **corresponds to simulation mode that was active at the moment**.\n",
    "This is why there is a \"jump\" of 500 eV in energy in the plot above, which corresponds to time instant when the simulation changed from guiding center to hybrid.\n",
    "This is more clearly visible if we plot the orbit poloidal trajectory:"
   ]
  },
  {
   "cell_type": "code",
   "execution_count": null,
   "metadata": {},
   "outputs": [],
   "source": [
    "a5.data.active.plotorbit_trajectory(\"r\", \"z\", ids=404)"
   ]
  },
  {
   "cell_type": "markdown",
   "metadata": {},
   "source": [
    "It is possible to force the code to collect only the guiding center data (even in GO mode):"
   ]
  },
  {
   "cell_type": "code",
   "execution_count": null,
   "metadata": {},
   "outputs": [],
   "source": [
    "opt = a5.data.options.active.read()\n",
    "opt.update({\"RECORD_MODE\":1})\n",
    "\n",
    "a5.simulation_initinputs()\n",
    "a5.simulation_initoptions(**opt)\n",
    "\n",
    "mrk = a5.data.marker.active.read()\n",
    "a5.simulation_initmarkers(**mrk)\n",
    "\n",
    "vrun = a5.simulation_run(printsummary=False)\n",
    "\n",
    "vrun.plotorbit_trajectory(\"r\", \"z\")\n",
    "a5.simulation_free()"
   ]
  },
  {
   "cell_type": "markdown",
   "metadata": {},
   "source": []
  }
 ],
 "metadata": {
  "kernelspec": {
   "display_name": "feature9",
   "language": "python",
   "name": "feature9"
  },
  "language_info": {
   "codemirror_mode": {
    "name": "ipython",
    "version": 3
   },
   "file_extension": ".py",
   "mimetype": "text/x-python",
   "name": "python",
   "nbconvert_exporter": "python",
   "pygments_lexer": "ipython3",
   "version": "3.10.8"
  }
 },
 "nbformat": 4,
 "nbformat_minor": 4
}
