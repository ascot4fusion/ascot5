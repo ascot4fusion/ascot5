{
 "cells": [
  {
   "cell_type": "markdown",
   "metadata": {},
   "source": [
    "# Estimating losses with the Backward Monte Carlo scheme\n",
    "\n",
    "This example shows how to run BMC (Backward Monte Carlo) simulations.\n",
    "\n",
    "BMC is a program that can be thought as running ASCOT5 backwards in time."
   ]
  },
  {
   "cell_type": "code",
   "execution_count": null,
   "metadata": {},
   "outputs": [],
   "source": [
    "import numpy as np\n",
    "import unyt\n",
    "import matplotlib.pyplot as plt\n",
    "\n",
    "from a5py import Ascot\n",
    "\n",
    "a5 = Ascot(\"ascot.h5\", create=True)\n",
    "\n",
    "a5.data.create_input(\"bfield analytical iter circular\")\n",
    "a5.data.create_input(\"plasma flat\")\n",
    "a5.data.create_input(\"E_TC\")\n",
    "a5.data.create_input(\"N0_1D\")\n",
    "a5.data.create_input(\"Boozer\")\n",
    "a5.data.create_input(\"MHD_STAT\")\n",
    "a5.data.create_input(\"asigma_loc\")"
   ]
  },
  {
   "cell_type": "markdown",
   "metadata": {},
   "source": [
    "Wall"
   ]
  },
  {
   "cell_type": "code",
   "execution_count": null,
   "metadata": {},
   "outputs": [],
   "source": [
    "w2d = {\"nelements\":8,\n",
    "       \"r\":np.array([2.3, 2.3, -2.1, -2.1,  2.3,  2.3,  1.9, 1.9]) + 6.0,\n",
    "       \"z\":np.array([0.1, 2.1,  2.1, -2.1, -2.1, -0.1, -0.1, 0.1]),\n",
    "       \"flag\":np.array([[0,0,0,0,0,0,0,1]]).T}\n",
    "#w2d[\"r\"] = np.flip(w2d[\"r\"])\n",
    "#w2d[\"z\"] = np.flip(w2d[\"z\"])\n",
    "#w2d[\"flag\"] = np.flip(w2d[\"flag\"])\n",
    "a5.data.create_input(\"wall_2D\", **w2d)\n",
    "\n",
    "plt.plot(w2d[\"r\"], w2d[\"z\"])\n",
    "plt.show()"
   ]
  },
  {
   "cell_type": "markdown",
   "metadata": {},
   "source": [
    "Options"
   ]
  },
  {
   "cell_type": "code",
   "execution_count": null,
   "metadata": {},
   "outputs": [],
   "source": [
    "from a5py.ascot5io.options import Opt\n",
    "\n",
    "opt = Opt.get_default()\n",
    "opt.update({\n",
    "    #\n",
    "    \"BMC_TIMEDEPENDENT\":0,\n",
    "    #\n",
    "    \"BMC_ORBIT_SUBCYCLES\":10,\n",
    "    #\n",
    "    \"BMC_TIMESTEP\":1.0e-06, \"BMC_TSTART\":0, \"BMC_TSTOP\":1e-4,\n",
    "    #\"BMC_TIMESTEP\":1.0e-06, \"BMC_TSTART\":0, \"BMC_TSTOP\":1.1e-6,\n",
    "    #\n",
    "    \"BMC_MASS\":4.007, \"BMC_CHARGE\":2, \"BMC_ANUM\":4, \"BMC_ZNUM\":2,\n",
    "    # Distribution output\n",
    "    \"ENABLE_DIST_5D\":1,\n",
    "    \"DIST_MIN_R\":3.8,  \"DIST_MAX_R\":8.5, \"DIST_NBIN_R\":100,\n",
    "    \"DIST_MIN_Z\":-2.2, \"DIST_MAX_Z\":2.2, \"DIST_NBIN_Z\":100,\n",
    "    \"DIST_MIN_PHI\":0,        \"DIST_MAX_PHI\":360,     \"DIST_NBIN_PHI\":1,\n",
    "    \"DIST_MIN_PPA\":-0.1e-19, \"DIST_MAX_PPA\":0.1e-19, \"DIST_NBIN_PPA\":50,\n",
    "    \"DIST_MIN_PPE\":0,        \"DIST_MAX_PPE\":0.1e-19, \"DIST_NBIN_PPE\":50,\n",
    "    \"DIST_MIN_TIME\":0,       \"DIST_MAX_TIME\":1.0,    \"DIST_NBIN_TIME\":1,\n",
    "    \"DIST_MIN_CHARGE\":1.5,   \"DIST_MAX_CHARGE\":2.5,  \"DIST_NBIN_CHARGE\":1,\n",
    "})\n",
    "a5.data.create_input(\"opt\", **opt)"
   ]
  },
  {
   "cell_type": "markdown",
   "metadata": {},
   "source": [
    "Run"
   ]
  },
  {
   "cell_type": "code",
   "execution_count": null,
   "metadata": {},
   "outputs": [],
   "source": [
    "import subprocess\n",
    "subprocess.run([\"./../../build/bmc_main\", \"--d=\\\"BMC\\\"\"])\n",
    "#print(\"Simulation completed\")"
   ]
  },
  {
   "cell_type": "markdown",
   "metadata": {},
   "source": [
    "Read output"
   ]
  },
  {
   "cell_type": "code",
   "execution_count": null,
   "metadata": {},
   "outputs": [],
   "source": [
    "a5 = Ascot(\"ascot.h5\")\n",
    "dist = a5.data.BMC.getdist(\"5d\")\n",
    "dist.integrate(charge=np.s_[:], time=np.s_[:], phi=np.s_[:])\n",
    "\n",
    "dist1 = dist.integrate(ppar=np.s_[:], pperp=np.s_[:], copy=True)\n",
    "dist1._distribution = dist1.histogram()\n",
    "\n",
    "dist2 = dist.integrate(r=np.s_[:], z=np.s_[:], copy=True)\n",
    "dist2._distribution = dist2.histogram()\n",
    "\n",
    "fig = plt.figure(figsize=(7,5))\n",
    "ax1 = fig.add_subplot(1,2,1)\n",
    "ax2 = fig.add_subplot(1,2,2)\n",
    "\n",
    "dist1.plot(axes=ax1)\n",
    "dist2.plot(axes=ax2)\n",
    "\n",
    "idx = np.arange(w2d[\"r\"].size+1)\n",
    "idx[-1] = 0\n",
    "ax1.plot(w2d[\"r\"][idx], w2d[\"z\"][idx], color=\"white\")\n",
    "# ax2.set_aspect(\"equal\", adjustable=\"box\")\n",
    "# plt.colorbar(h, orientation=\"horizontal\")\n",
    "a5.input_init(bfield=True)\n",
    "a5.input_plotrhocontour(axes=ax1)\n",
    "a5.input_free()\n",
    "plt.show()"
   ]
  },
  {
   "cell_type": "markdown",
   "metadata": {},
   "source": [
    "Interpolate and create markers"
   ]
  },
  {
   "cell_type": "code",
   "execution_count": null,
   "metadata": {},
   "outputs": [],
   "source": [
    "from a5py.ascot5io.marker import Marker\n",
    "from a5py import physlib\n",
    "\n",
    "dist = a5.data.BMC.getdist(\"5d\")\n",
    "\n",
    "r = 5.0*unyt.m\n",
    "z = 0.0*unyt.m\n",
    "ppar  = -0.2e-19*unyt.kg*unyt.m/unyt.s\n",
    "pperp =  0.2e-19*unyt.kg*unyt.m/unyt.s\n",
    "\n",
    "dist.integrate(charge=np.s_[:], time=np.s_[:], phi=np.s_[:])\n",
    "dist._distribution = dist.histogram()\n",
    "print(dist.interpolate(r=r, z=z, ppar=ppar, pperp=pperp))\n",
    "\n",
    "mrk = Marker.generate(\"gc\", n=100, species=\"alpha\")\n",
    "\n",
    "pnorm = np.sqrt(ppar**2 + pperp**2)\n",
    "ekin  = physlib.energy_momentum(mrk[\"mass\"][0], pnorm)\n",
    "pitch = ppar / pnorm\n",
    "\n",
    "mrk[\"energy\"][:] = ekin\n",
    "mrk[\"pitch\"][:]  = pitch\n",
    "mrk[\"r\"][:]      = r\n",
    "mrk[\"z\"][:]      = z\n",
    "\n",
    "a5.data.create_input(\"gc\", desc=\"FMC\", activate=True, **mrk)"
   ]
  },
  {
   "cell_type": "markdown",
   "metadata": {},
   "source": [
    "Set simulation options and run"
   ]
  },
  {
   "cell_type": "code",
   "execution_count": null,
   "metadata": {},
   "outputs": [],
   "source": [
    "opt = Opt.get_default()\n",
    "opt.update({\n",
    "    # Simulation mode\n",
    "    \"SIM_MODE\":2, \"ENABLE_ADAPTIVE\":1,\n",
    "    # Setting max mileage above slowing-down time is a good safeguard to ensure\n",
    "    # simulation finishes even with faulty inputs. Same with the CPU time limit.\n",
    "    \"ENDCOND_SIMTIMELIM\":1, \"ENDCOND_MAX_MILEAGE\":1e-3, \"ENDCOND_WALLHIT\":1,\n",
    "    # Physics\n",
    "    \"ENABLE_ORBIT_FOLLOWING\":1, \"ENABLE_COULOMB_COLLISIONS\":1,\n",
    "})\n",
    "a5.data.create_input(\"opt\", desc=\"FMC\", activate=True, **opt)"
   ]
  },
  {
   "cell_type": "code",
   "execution_count": null,
   "metadata": {},
   "outputs": [],
   "source": [
    "import subprocess\n",
    "subprocess.run([\"./../../build/ascot5_main\", \"--d=\\\"FMC\\\"\"])\n",
    "print(\"Simulation completed\")"
   ]
  },
  {
   "cell_type": "markdown",
   "metadata": {},
   "source": [
    "Compare loss fraction to FILD to the BMC value"
   ]
  },
  {
   "cell_type": "code",
   "execution_count": null,
   "metadata": {},
   "outputs": [],
   "source": [
    "a5 = Ascot(\"ascot.h5\")\n",
    "#a5.data.active.getstate(\"ekin\", state=\"ini\").to(\"MeV\")\n",
    "a5.data.active.getstate(\"walltile\", state=\"end\")"
   ]
  },
  {
   "cell_type": "markdown",
   "metadata": {},
   "source": [
    "One can use BMC result for importance sampling."
   ]
  },
  {
   "cell_type": "markdown",
   "metadata": {},
   "source": []
  }
 ],
 "metadata": {
  "language_info": {
   "name": "python"
  }
 },
 "nbformat": 4,
 "nbformat_minor": 2
}
