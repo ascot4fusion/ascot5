{
 "cells": [
  {
   "cell_type": "markdown",
   "metadata": {},
   "source": [
    "# Simulating fast ion slowing-down process\n",
    "\n",
    "<img src='../../figures/slowingdown.png' alt='thumbnail' width='200'/>\n",
    "\n",
    "This example shows how to run a fast-ion slowing-down simulation which is the bread-and-butter for ASCOT5.\n",
    "\n",
    "We begin this example by generating some general input. For slowing-down simulations we need at least bfield and plasma inputs to contain real data:"
   ]
  },
  {
   "cell_type": "code",
   "execution_count": null,
   "metadata": {},
   "outputs": [],
   "source": [
    "import numpy as np\n",
    "from a5py import Ascot\n",
    "\n",
    "a5 = Ascot(\"ascot.h5\", create=True)\n",
    "\n",
    "# Use analytical field since it is fast to interpolate\n",
    "a5.data.create_input(\"bfield analytical iter circular\", desc=\"ANALYTICAL\")\n",
    "\n",
    "# DT-plasma\n",
    "nrho   = 101\n",
    "rho    = np.linspace(0, 2, nrho).T\n",
    "edens  = 2e21 * np.ones((nrho, 1))\n",
    "etemp  = 1e4  * np.ones((nrho, 1))\n",
    "idens  = 1e21 * np.ones((nrho, 2))\n",
    "itemp  = 1e4  * np.ones((nrho, 1))\n",
    "\n",
    "edens[rho>1, :] = 1\n",
    "idens[rho>1, :] = 1\n",
    "\n",
    "pls = {\n",
    "    \"nrho\" : nrho, \"nion\" : 2, \"rho\" : rho,\n",
    "    \"anum\" : np.array([2, 3]), \"znum\" : np.array([1, 1]),\n",
    "    \"mass\" : np.array([2.014, 3.016]), \"charge\" : np.array([1, 1]),\n",
    "    \"edensity\" : edens, \"etemperature\" : etemp,\n",
    "    \"idensity\" : idens, \"itemperature\" : itemp}\n",
    "a5.data.create_input(\"plasma_1D\", **pls, desc=\"FLATDT\")\n",
    "\n",
    "# These inputs are not relevant for this tutorial\n",
    "a5.data.create_input(\"wall rectangular\")\n",
    "a5.data.create_input(\"E_TC\")\n",
    "a5.data.create_input(\"N0_1D\")\n",
    "a5.data.create_input(\"Boozer\")\n",
    "a5.data.create_input(\"MHD_STAT\")\n",
    "a5.data.create_input(\"asigma_loc\")\n",
    "print(\"Inputs created\")"
   ]
  },
  {
   "cell_type": "markdown",
   "metadata": {},
   "source": [
    "Next we create alpha source distribution using AFSI, but one could use BBNBI5 to generate beam ions or some other tool."
   ]
  },
  {
   "cell_type": "code",
   "execution_count": null,
   "metadata": {},
   "outputs": [],
   "source": [
    "# Grid spanning the whole plasma\n",
    "rmin =  4.2; rmax = 8.2; nr = 50\n",
    "zmin = -2.0; zmax = 2.0; nz = 50\n",
    "\n",
    "# Run AFSI which creates a fusion alpha distribution\n",
    "a5.afsi.thermal(\n",
    "    1,\n",
    "    rmin, rmax, nr, zmin, zmax, nz,\n",
    "    minphi=0, maxphi=2*np.pi, nphi=1,\n",
    "    nmc=100, mult=1.0,\n",
    "    minppara=-1.3e-19, maxppara=1.3e-19, nppara=80,\n",
    "    minpperp=0, maxpperp=1.3e-19, npperp=40)\n",
    "\n",
    "# Convert to E-xi as then we can make dist more compact in momentum space\n",
    "alphadist = a5.data.active.getdist(\"prod1\", exi=True, ekin_edges=20, pitch_edges=10)\n",
    "alphadist.integrate(time=np.s_[:], charge=np.s_[:]) # Distribution must be 5D\n",
    "\n",
    "\n",
    "# Plot the distribution\n",
    "#rzdist  = alphadist.integrate(copy=True, phi=np.s_[:], ppar=np.s_[:], pperp=np.s_[:])\n",
    "rzdist  = alphadist.integrate(copy=True, phi=np.s_[:], ekin=np.s_[:], pitch=np.s_[:])\n",
    "exidist = alphadist.integrate(copy=True, phi=np.s_[:], r=np.s_[:], z=np.s_[:])\n",
    "\n",
    "fig = plt.figure()\n",
    "ax1 = fig.add_subplot(1,2,1)\n",
    "ax2 = fig.add_subplot(1,2,2)\n",
    "\n",
    "rzdist.plot(axes=ax1)\n",
    "exidist.plot(axes=ax2)\n",
    "\n",
    "plt.show()"
   ]
  },
  {
   "cell_type": "markdown",
   "metadata": {},
   "source": [
    "Create markers by initializing marker distribution from a flat radial profile, and assigning weights from the alpha birth distribution.\n",
    "Here we only initialize markers at the core to avoid losses.\n",
    "AFSI and marker generation are covered in separate tutorials."
   ]
  },
  {
   "cell_type": "code",
   "execution_count": null,
   "metadata": {},
   "outputs": [],
   "source": [
    "# Create marker distribution. Here we just initialize markers evenly in rho for convenience\n",
    "rho  = np.linspace(0, 0.5, 2)\n",
    "prob = 0.5 * np.ones((2,))\n",
    "a5.input_init(bfield=True)\n",
    "markerdist = a5.markergen.rhoto5d(\n",
    "    rho, prob, alphadist.abscissa_edges(\"r\"),\n",
    "    alphadist.abscissa_edges(\"phi\"),  alphadist.abscissa_edges(\"z\"),\n",
    "    alphadist.abscissa_edges(\"ekin\"), alphadist.abscissa_edges(\"pitch\"))\n",
    "a5.input_free()\n",
    "\n",
    "# Create markers and take weights from the alpha distribution\n",
    "mrk, mrkdist, prtdist = a5.markergen.generate(\n",
    "    markerdist, alphadist, 4.002*unyt.amu, 2.0*unyt.e, 4, 2, 10**3, minweight=1e-10)\n",
    "a5.data.create_input(\"gc\", **mrk, desc=\"ALPHAS\")\n",
    "\n",
    "# Plot the marker and particle distributions\n",
    "rzmrk  = mrkdist.integrate(copy=True, phi=np.s_[:], ekin=np.s_[:], pitch=np.s_[:])\n",
    "eximrk = mrkdist.integrate(copy=True, phi=np.s_[:], r=np.s_[:], z=np.s_[:])\n",
    "rzprt  = prtdist.integrate(copy=True, phi=np.s_[:], ekin=np.s_[:], pitch=np.s_[:])\n",
    "exiprt = prtdist.integrate(copy=True, phi=np.s_[:], r=np.s_[:], z=np.s_[:])\n",
    "\n",
    "fig = plt.figure()\n",
    "ax1 = fig.add_subplot(2,2,1)\n",
    "ax2 = fig.add_subplot(2,2,2)\n",
    "ax3 = fig.add_subplot(2,2,3)\n",
    "ax4 = fig.add_subplot(2,2,4)\n",
    "\n",
    "rzmrk.plot(axes=ax1)\n",
    "eximrk.plot(axes=ax2)\n",
    "rzprt.plot(axes=ax3)\n",
    "exiprt.plot(axes=ax4)\n",
    "\n",
    "plt.show()\n"
   ]
  },
  {
   "cell_type": "markdown",
   "metadata": {},
   "source": [
    "Now only options are missing.\n",
    "If the guiding-center approximation is valid, then using adaptive step is strongly recommended to accelerate the simulation.\n",
    "For other options, it is important to include energy limit as an end condition and activate orbit-following and Coulomb collisions in physics.\n",
    "Diagnostics can be whatever you like, though usually it makes little sense to collect orbit data.\n",
    "Here we collect 5D distribution which can be used to produce *the slowing-down distribution*."
   ]
  },
  {
   "cell_type": "code",
   "execution_count": null,
   "metadata": {},
   "outputs": [],
   "source": [
    "from a5py.ascot5io.options import Opt\n",
    "\n",
    "opt = Opt.get_default()\n",
    "opt.update({\n",
    "    # Simulation mode\n",
    "    \"SIM_MODE\":2, \"ENABLE_ADAPTIVE\":1,\n",
    "    # Setting max mileage above slowing-down time is a good safeguard to ensure\n",
    "    # simulation finishes even with faulty inputs. Same with the CPU time limit.\n",
    "    \"ENDCOND_SIMTIMELIM\":1, \"ENDCOND_MAX_MILEAGE\":0.5,\n",
    "    \"ENDCOND_CPUTIMELIM\":1, \"ENDCOND_MAX_CPUTIME\":1.0e1,\n",
    "    # The energy limit which separates a fast ion from thermal bulk is not well defined,\n",
    "    # but we usually use Emin = 2 x Tion as the limit. Setting also a fixed minimum energy\n",
    "    # is advised sine plasma temperature at the pedestal can be low.\n",
    "    \"ENDCOND_ENERGYLIM\":1, \"ENDCOND_MIN_ENERGY\":2.0e3, \"ENDCOND_MIN_THERMAL\":2.0,\n",
    "    # Physics\n",
    "    \"ENABLE_ORBIT_FOLLOWING\":1, \"ENABLE_COULOMB_COLLISIONS\":1,\n",
    "    # Distribution output\n",
    "    \"ENABLE_DIST_5D\":1,\n",
    "    \"DIST_MIN_R\":4.3,        \"DIST_MAX_R\":8.3,       \"DIST_NBIN_R\":50,\n",
    "    \"DIST_MIN_PHI\":0,        \"DIST_MAX_PHI\":360,     \"DIST_NBIN_PHI\":1,\n",
    "    \"DIST_MIN_Z\":-2.0,       \"DIST_MAX_Z\":2.0,       \"DIST_NBIN_Z\":50,\n",
    "    \"DIST_MIN_PPA\":-1.3e-19, \"DIST_MAX_PPA\":1.3e-19, \"DIST_NBIN_PPA\":100,\n",
    "    \"DIST_MIN_PPE\":0,        \"DIST_MAX_PPE\":1.3e-19, \"DIST_NBIN_PPE\":50,\n",
    "    \"DIST_MIN_TIME\":0,       \"DIST_MAX_TIME\":1.0,    \"DIST_NBIN_TIME\":1,\n",
    "    \"DIST_MIN_CHARGE\":1,     \"DIST_MAX_CHARGE\":3,    \"DIST_NBIN_CHARGE\":1,\n",
    "})\n",
    "a5.data.create_input(\"opt\", **opt, desc=\"SLOWINGDOWN\")"
   ]
  },
  {
   "cell_type": "markdown",
   "metadata": {},
   "source": [
    "Now we are ready to simulate.\n",
    "Usually slowing-down simulations are expensive (especially with 3D magnetic field) but this one runs in a PC in a few minutes or so."
   ]
  },
  {
   "cell_type": "code",
   "execution_count": null,
   "metadata": {},
   "outputs": [],
   "source": [
    "import subprocess\n",
    "subprocess.run([\"./../../build/ascot5_main\", \"--d=\\\"SDALPHA\\\"\"])\n",
    "print(\"Simulation completed\")"
   ]
  },
  {
   "cell_type": "markdown",
   "metadata": {},
   "source": [
    "Now the first thing to check in the results is that the markers actually slowed-down.\n",
    "Therefore we look at the end conditions, final energy, and mileage which gives us the slowing-down time."
   ]
  },
  {
   "cell_type": "code",
   "execution_count": null,
   "metadata": {},
   "outputs": [],
   "source": [
    "a5 = Ascot(\"ascot.h5\") # Re-read the data\n",
    "print(a5.data.active.getstate_markersummary())\n",
    "a5.data.active.plotstate_histogram(\"end ekin\")\n",
    "a5.data.active.plotstate_histogram(\"end mileage\")"
   ]
  },
  {
   "cell_type": "markdown",
   "metadata": {},
   "source": [
    "Looks reasonable!\n",
    "Now let us look at the slowing-down distribution."
   ]
  },
  {
   "cell_type": "code",
   "execution_count": null,
   "metadata": {},
   "outputs": [],
   "source": [
    "d = a5.data.active.getdist(\"5d\", exi=True, ekin_edges=np.linspace(0,5e6,40), pitch_edges=2)\n",
    "d.integrate(time=np.s_[:], charge=np.s_[:], phi=np.s_[:], r=np.s_[:], z=np.s_[:], pitch=np.s_[:])\n",
    "d.plot()"
   ]
  },
  {
   "cell_type": "markdown",
   "metadata": {},
   "source": [
    "One can note that there might be markers above the initial energy, i.e. some markers have actually gained energy!\n",
    "However, this \"up-scattering\" is fine because the collision operator contains a stochastic component and the main thing is that the whole population cools on average.\n",
    "And, as we checked earlier, there were no energetic markers left at the end of the simulation so all markers either slowed-down or were lost.\n",
    "\n",
    "Finally, it is a good idea to check the energy-pitch distribution as well."
   ]
  },
  {
   "cell_type": "code",
   "execution_count": null,
   "metadata": {},
   "outputs": [],
   "source": [
    "d = a5.data.active.getdist(\"5d\", exi=True, ekin_edges=20, pitch_edges=10)\n",
    "d.integrate(time=np.s_[:], charge=np.s_[:], phi=np.s_[:], r=np.s_[:], z=np.s_[:])\n",
    "d.plot()"
   ]
  },
  {
   "cell_type": "markdown",
   "metadata": {},
   "source": [
    "Here we want to verify that marker pitch has not accumulated in some point because the physics governs that the pitch scattering should make the pitch distribution close to even in the end.\n",
    "Initially there is little pitch scattering, since fast particles are usually born above the critical energy,\n",
    "$$v_\\mathrm{crit} = v_\\mathrm{th} \\left(\\frac{3 \\sqrt{\\pi}}{4}\\frac{m_e}{m_\\mathrm{ion}}\\right)^{1/3}.$$\n",
    "\n",
    "Above the critical energy we should see little pitch scattering as the fast ions mostly collide with electrons, but this changes below the critical energy as now the ion-ion collision frequency is higher than the electron-ion collision frequency.\n",
    "\n",
    "This concludes the tutorial.\n",
    "Here's a complementary fast-ion slowing-down density to brighten your day:"
   ]
  },
  {
   "cell_type": "code",
   "execution_count": null,
   "metadata": {},
   "outputs": [],
   "source": [
    "d = a5.data.active.getdist(\"5d\")\n",
    "d.integrate(time=np.s_[:], charge=np.s_[:], phi=np.s_[:], ppar=np.s_[:], pperp=np.s_[:])\n",
    "d.plot()"
   ]
  },
  {
   "cell_type": "markdown",
   "metadata": {},
   "source": []
  }
 ],
 "metadata": {
  "language_info": {
   "name": "python"
  }
 },
 "nbformat": 4,
 "nbformat_minor": 4
}
