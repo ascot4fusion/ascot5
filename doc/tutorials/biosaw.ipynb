{
 "cells": [
  {
   "cell_type": "markdown",
   "metadata": {},
   "source": [
    "# Creating 3D field from coil geometry with BioSaw\n",
    "\n",
    "<img src='../../figures/biosaw.png' alt='thumbnail' width='200'/>\n",
    "\n",
    "This example shows how to run BioSaw to compute (error) field from coils.\n",
    "\n",
    "BioSaw is a supporting tool that uses Biot-Savart law to compute 3D magnetic field input from a simple coil geometry represented by lines.\n",
    "It is used to calculate the toroidal field ripple due to finite number of TF coils or error fields produced by e.g. RMP coils.\n",
    "\n",
    "To create a B_3DS input, we first need a file that contains B_2DS data:"
   ]
  },
  {
   "cell_type": "code",
   "execution_count": null,
   "metadata": {},
   "outputs": [],
   "source": [
    "import numpy as np\n",
    "import unyt\n",
    "import matplotlib.pyplot as plt\n",
    "from a5py import Ascot\n",
    "\n",
    "a5 = Ascot(\"ascot.h5\", create=True)\n",
    "a5.data.create_input(\"bfield analytical iter circular\", splines=True, desc=\"AXISYMMETRIC\")"
   ]
  },
  {
   "cell_type": "markdown",
   "metadata": {},
   "source": [
    "We now want to include the toroidal field ripple into this field.\n",
    "We begin by defining geometry for a single coil."
   ]
  },
  {
   "cell_type": "code",
   "execution_count": null,
   "metadata": {},
   "outputs": [],
   "source": [
    "rad   = 3.0\n",
    "ang   = np.linspace(0, 2*np.pi, 40)\n",
    "coilx = rad * np.cos(ang) + 6.2\n",
    "coily = np.zeros(ang.shape)\n",
    "coilz = rad * np.sin(ang)\n",
    "coilxyz = np.array([coilx, coily, coilz])\n",
    "\n",
    "fig = plt.figure()\n",
    "ax = fig.add_subplot(1,1,1, projection=\"3d\")\n",
    "ax.plot(coilx, coily, coilz)\n",
    "\n",
    "plt.show()"
   ]
  },
  {
   "cell_type": "markdown",
   "metadata": {},
   "source": [
    "Next we fix the number of TF field coils and set the coil current.\n",
    "\n",
    "The number of TF coils is not given explicitly but it is dictated by the ``revolve`` argument.\n",
    "The field is calculated only once for a given coil, and then the field is rotated and added to get the total contribution from all TF coils.\n",
    "``revolve`` defines the number of toroidal *grid points* (not the toroidal angle) the field is revolved in each rotation until we have gone whole turn.\n",
    "So if there are e.g. 18 TF coils, the number of grid points must be divisible by 18 and ``revolve`` is the number of grid points divided by the number of coils.\n",
    "\n",
    "\n",
    "> **_NOTE:_** If the coils or their positions do not possess a toroidal symmetry, define the coil geometry for each coil explicitly and set N=1.\n",
    "\n",
    "The current can be given explicitly by ``current`` argument that sets the current in a single line segment.\n",
    "It can also be given indirectly, by setting what is the toroidal average of resulting $B_\\mathrm{phi}$ on the magnetic axis, and the ``current`` will be scaled accordingly.\n",
    "\n",
    "The BioSaw is run via the Ascot object:"
   ]
  },
  {
   "cell_type": "code",
   "execution_count": null,
   "metadata": {},
   "outputs": [],
   "source": [
    "# Note that the Rz grid can be defined explicitly, but if it is not given then same\n",
    "# is used as in the B_2DS data.\n",
    "b3d = a5.biosaw.addto2d(\n",
    "        coilxyz.T, phimin=0, phimax=360, nphi=180,\n",
    "        revolve=10, b0=5.3)\n",
    "\n",
    "a5.data.create_input(\"B_3DS\", **b3d, desc=\"TFRIPPLE\", activate=True)"
   ]
  },
  {
   "cell_type": "markdown",
   "metadata": {},
   "source": [
    "We can visualize the ripple to make sure everything looks right:"
   ]
  },
  {
   "cell_type": "code",
   "execution_count": null,
   "metadata": {},
   "outputs": [],
   "source": [
    "a5 = Ascot(\"ascot.h5\")\n",
    "rgrid = np.linspace(4.0,8.3,100) * unyt.m\n",
    "zgrid = np.linspace(-2,2,100) * unyt.m\n",
    "larmorrad = 0.01 # Use relevant larmor radius to plot the stochastic ripple region\n",
    "\n",
    "fig = plt.figure(figsize=(10,3))\n",
    "ax1 = fig.add_subplot(1,1,1)\n",
    "ax1.set_title(\"Ripple strength at OMP separatrix\")\n",
    "fig = plt.figure(figsize=(6,4))\n",
    "ax2 = fig.add_subplot(1,1,1)\n",
    "\n",
    "a5.input_init(bfield=True)\n",
    "a5.input_eval_ripple(rgrid, zgrid, larmorrad, plot=True, axes1=ax1, axes2=ax2)\n",
    "a5.input_plotrhocontour(linestyle=\"--\", color=\"black\", axes=ax2)\n",
    "a5.input_free()\n",
    "\n",
    "# Add legend\n",
    "from matplotlib.lines import Line2D\n",
    "from matplotlib.patches import Patch\n",
    "legend = [\n",
    "    Line2D([0], [0], color=\"black\", ls=\"--\", lw=2, label=\"Separatrix\"),\n",
    "    Line2D([0], [0], color=\"black\", lw=2, label=\"Ripple strength\"),\n",
    "    Patch(facecolor=\"C0\", alpha=0.5, label=\"Stochastic ripple region\"),\n",
    "    Patch(facecolor=\"C3\", alpha=0.5, label=\"Ripple well\"),\n",
    "]\n",
    "ax2.legend(handles=legend, loc=\"upper left\", bbox_to_anchor=(1,1))\n",
    "\n",
    "plt.show()"
   ]
  },
  {
   "cell_type": "markdown",
   "metadata": {},
   "source": [
    "The other case where BioSaw is used is to add a 3D peturbation to an already existing 3D field.\n",
    "This works in a similar way, except now the coil current must be set explicitly and we are not free to chose the cylindrical grid but has to use one that exists already."
   ]
  },
  {
   "cell_type": "code",
   "execution_count": null,
   "metadata": {},
   "outputs": [],
   "source": [
    "def verticalpart(pol1, pol2, phi):\n",
    "    rad   = 4.0\n",
    "    ang   = np.linspace(pol1.to(\"rad\"), pol2.to(\"rad\"), 20)*unyt.deg\n",
    "    r = rad * np.cos(ang) + 6.2\n",
    "    coilx = r * np.cos(phi)\n",
    "    coily = r * np.sin(phi)\n",
    "    coilz = rad * np.sin(ang)\n",
    "    return coilx, coily, coilz\n",
    "\n",
    "def horizontalpart(phi1, phi2, pol):\n",
    "    r = 6.2 + 4.0 * np.cos(pol)\n",
    "    phi = np.linspace(phi1.to(\"rad\"), phi2.to(\"rad\"), 10)\n",
    "    coilx = r * np.cos(phi)\n",
    "    coily = r * np.sin(phi)\n",
    "    coilz = 4.0 * np.sin(pol) * np.ones((10,))\n",
    "    return coilx, coily, coilz\n",
    "\n",
    "rmpx, rmpy, rmpz = verticalpart(30*unyt.deg, 50*unyt.deg, -20*unyt.deg)\n",
    "x, y, z = horizontalpart(-20*unyt.deg, 20*unyt.deg, 50*unyt.deg)\n",
    "rmpx = np.append(rmpx, x[1:])\n",
    "rmpy = np.append(rmpy, y[1:])\n",
    "rmpz = np.append(rmpz, z[1:])\n",
    "x, y, z = verticalpart(50*unyt.deg, 30*unyt.deg, 20*unyt.deg)\n",
    "rmpx = np.append(rmpx, x[1:])\n",
    "rmpy = np.append(rmpy, y[1:])\n",
    "rmpz = np.append(rmpz, z[1:])\n",
    "x, y, z = horizontalpart(20*unyt.deg, -20*unyt.deg, 30*unyt.deg)\n",
    "rmpx = np.append(rmpx, x[1:])\n",
    "rmpy = np.append(rmpy, y[1:])\n",
    "rmpz = np.append(rmpz, z[1:])\n",
    "\n",
    "fig = plt.figure()\n",
    "ax = fig.add_subplot(1,1,1, projection=\"3d\")\n",
    "rmpxyz = np.array([rmpx, rmpy, rmpz])\n",
    "ax.plot(coilxyz[0,:], coilxyz[1,:], coilxyz[2,:])\n",
    "ax.plot(rmpxyz[0,:], rmpxyz[1,:], rmpxyz[2,:])\n",
    "\n",
    "plt.show()\n",
    "\n",
    "b3d = a5.biosaw.addto3d(rmpxyz.T, revolve=90, current=30e4, b3d=a5.data.bfield.TFRIPPLE.read())\n",
    "\n",
    "a5.data.create_input(\"B_3DS\", **b3d, desc=\"RMP\", activate=True)"
   ]
  },
  {
   "cell_type": "markdown",
   "metadata": {},
   "source": [
    "Visualize the results with Poincaré plots:"
   ]
  },
  {
   "cell_type": "code",
   "execution_count": null,
   "metadata": {},
   "outputs": [],
   "source": [
    "a5 = Ascot(\"ascot.h5\")\n",
    "a5.data.create_input(\"wall_2D\")\n",
    "a5.data.create_input(\"plasma_1D\")\n",
    "a5.data.create_input(\"E_TC\")\n",
    "a5.data.create_input(\"N0_3D\")\n",
    "a5.data.create_input(\"Boozer\")\n",
    "a5.data.create_input(\"MHD_STAT\")\n",
    "a5.data.create_input(\"asigma_loc\")\n",
    "\n",
    "a5.simulation_initinputs()\n",
    "mrk = a5.data.create_input(\"marker poincare\", dryrun=True)\n",
    "a5.simulation_initmarkers(**mrk)\n",
    "opt = a5.data.create_input(\"options poincare\", maxrho=True, tor=[0], pol=[0], dryrun=True)\n",
    "a5.simulation_initoptions(**opt)\n",
    "vrun = a5.simulation_run(printsummary=False)\n",
    "vrun.plotorbit_poincare(\"tor 1\", connlen=True)\n",
    "vrun.plotorbit_poincare(\"pol 1\")\n",
    "a5.simulation_free()"
   ]
  },
  {
   "cell_type": "markdown",
   "metadata": {},
   "source": [
    "In the event that you wish to calculate the field due to coil(s) explicitly, without converting them to input, use ``a5.biosaw.calculate`` directly."
   ]
  },
  {
   "cell_type": "markdown",
   "metadata": {},
   "source": []
  }
 ],
 "metadata": {
  "language_info": {
   "name": "python"
  }
 },
 "nbformat": 4,
 "nbformat_minor": 4
}
