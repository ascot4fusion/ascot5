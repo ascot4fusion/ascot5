{
 "cells": [
  {
   "cell_type": "markdown",
   "metadata": {},
   "source": [
    "# Finding orbit resonances and evaluating orbit-averaged quantities\n",
    "\n",
    "In this tutorial, we will examine how the orbit diagnostics can be used to locate resonances and to evaluate orbit-averaged quantities.\n",
    "\n",
    "We begin by initializing the standard test case.\n",
    "Note that the field has to be axisymmetric in order to gain meaningful results."
   ]
  },
  {
   "cell_type": "code",
   "execution_count": null,
   "metadata": {},
   "outputs": [],
   "source": [
    "import numpy as np\n",
    "import unyt\n",
    "import matplotlib.pyplot as plt\n",
    "from a5py import Ascot\n",
    "\n",
    "a5 = Ascot(\"ascot.h5\", create=True)\n",
    "\n",
    "a5.data.create_input(\"bfield analytical iter circular\")\n",
    "a5.data.create_input(\"wall_2D\")\n",
    "a5.data.create_input(\"plasma_1D\")\n",
    "a5.data.create_input(\"E_TC\")\n",
    "a5.data.create_input(\"N0_1D\")\n",
    "a5.data.create_input(\"asigma_loc\")\n",
    "a5.data.create_input(\"Boozer\")\n",
    "a5.data.create_input(\"MHD_STAT\")\n",
    "\n",
    "print(\"Inputs created\")"
   ]
  },
  {
   "cell_type": "markdown",
   "metadata": {},
   "source": [
    "## Finding orbit resonances\n",
    "\n",
    "A particle is in a resonance with a magnetic perturbation when the following condition is met:\n",
    "\n",
    "$$\n",
    "\\omega = n \\omega_\\mathrm{tor} - p \\omega_\\mathrm{pol},\n",
    "$$\n",
    "\n",
    "where $p\\in\\{\\dots,-1,0,1,\\dots\\}$, $\\omega$ is the mode frequency (zero for static perturbations), $n$ the poloidal mode number, and $\\omega_\\mathrm{tor}$ and $\\omega_\\mathrm{pol}$ are the (fast) particle toroidal and poloidal transit frequencies, respectively.\n",
    "\n",
    "Orbit resonances are found by first populating the phase-space with markers of given species and then tracing those for several poloidal (and toroidal) orbits without collisions.\n",
    "\n",
    "There are templates readily available that can be used to generate suitable marker population and simulation options.\n",
    "This example creates 10 (radial) $\\times$ 20 (pitch) alpha particles with $E$ = 3.5 MeV that cover the radial grid from 0.3 to 1.0 and pitch from -1 to 1.\n",
    "The markers are simulated until they have either completed 12 toroidal or 6 poloidal transits.\n",
    "\n",
    "> **_NOTE:_**\n",
    "    One full revolution around the poloidal (or toroidal) angle is considered to be a single poloidal (toroidal) transit.\n",
    "    Since trapped particles don't complete a full poloidal rotation, for those a single poloidal transit begins when the marker bounces for the first time, and ends with the third bounce (when it has returned to its original banana tip point, *not in the position where it was launched*)."
   ]
  },
  {
   "cell_type": "code",
   "execution_count": null,
   "metadata": {},
   "outputs": [],
   "source": [
    "a5.input_init(bfield=True)",
    "mrk = a5.data.create_input(\"marker resonance\", species=\"alpha\", rhogrid=np.linspace(0.3, 1.0, 10),\n",
    "                           xigrid=np.linspace(-1, 1, 20), egrid=np.array([3.5e6])*unyt.eV, dryrun=True)\n",
    "opt = a5.data.create_input(\"options singleorbit\", ntor=12, npol=6, dryrun=True)",
    "a5.input_free()"
   ]
  },
  {
   "cell_type": "markdown",
   "metadata": {},
   "source": [
    "One can then run the simulation and post-process the results to find the orbit resonances.\n",
    "\n",
    "However, there is also a method that: initializes the markers and the options, runs the simulation, and post-processes the results.\n",
    "You only have to specify the grids and the marker species (and initialize other input data)."
   ]
  },
  {
   "cell_type": "code",
   "execution_count": null,
   "metadata": {},
   "outputs": [],
   "source": [
    "rho = np.linspace(0.1, 0.97, 100)\n",
    "xi  = 0.9\n",
    "energy = np.linspace(0.1, 3.5, 20) * 1e6\n",
    "\n",
    "a5.simulation_initinputs()\n",
    "a5.input_eval_orbitresonance(rho, xi, energy, \"alpha\", plot=True, n=4, p=7, omega=0.0)\n",
    "a5.simulation_free()"
   ]
  },
  {
   "cell_type": "markdown",
   "metadata": {},
   "source": [
    "The resonance can be visualized also in (rho, pitch) and (pitch, energy) bases.\n",
    "\n",
    "> **_NOTE:_**\n",
    "    This function performs poorly close to the magnetic axis as the current machinery doesn't separate potato orbits."
   ]
  },
  {
   "cell_type": "code",
   "execution_count": null,
   "metadata": {},
   "outputs": [],
   "source": [
    "a5.simulation_initinputs()\n",
    "\n",
    "rho = np.linspace(0.3, 0.97, 20)\n",
    "xi  = np.linspace(-1.0, 1.0, 50)\n",
    "energy = 1.0e6\n",
    "a5.input_eval_orbitresonance(rho, xi, energy, \"alpha\", plot=True, n=4, p=7, omega=0.0)\n",
    "\n",
    "rho = 0.9\n",
    "xi  = np.linspace(0.67, 1.0, 50)\n",
    "energy = np.linspace(0.1, 3.5) * 1e6\n",
    "a5.input_eval_orbitresonance(rho, xi, energy, \"alpha\", plot=True, n=4, p=7, omega=0.0)\n",
    "\n",
    "a5.simulation_free()"
   ]
  },
  {
   "cell_type": "markdown",
   "metadata": {},
   "source": [
    "## Evaluating orbit-averaged quantities\n",
    "\n",
    "Orbit-averaged quantity is a mean value evaluated along the orbit trajectory:\n",
    "\n",
    "$$\n",
    "x_\\mathrm{avg} \\equiv \\frac{1}{\\tau}\\int_0^\\tau x(r(t), z(t)) dt,\n",
    "$$\n",
    "\n",
    "where $x$ is the quantity to be averaged along the orbit trajectory $(r(t), z(t))$, and $\\tau$ is the poloidal transit time.\n",
    "\n",
    "This time we use templates and suitable options to trace a marker for a single poloidal orbit from which the orbit-averaged quantity can be calculated.\n"
   ]
  },
  {
   "cell_type": "code",
   "execution_count": null,
   "metadata": {},
   "outputs": [],
   "source": [
    "mrk = a5.data.create_input(\"marker resonance\", species=\"alpha\", rhogrid=np.array([0.9]),\n",
    "                           xigrid=np.array([0.8]), egrid=np.array([3.5e6])*unyt.eV, dryrun=True)\n",
    "opt = a5.data.create_input(\"options singleorbit\", ntor=10, npol=1, mode='prt', dryrun=True)\n",
    "\n",
    "# We modify the options template to collect several data points along the orbit\n",
    "# Remember to check that NPOINT value is sufficient so that the full orbit is\n",
    "# captured\n",
    "opt.update({\n",
    "    \"ORBITWRITE_MODE\":1,\n",
    "    \"ORBITWRITE_NPOINT\":1000,\n",
    "    \"ORBITWRITE_INTERVAL\":1e-7,\n",
    "})"
   ]
  },
  {
   "cell_type": "markdown",
   "metadata": {},
   "source": [
    "Run the simulation and visualize the orbit."
   ]
  },
  {
   "cell_type": "code",
   "execution_count": null,
   "metadata": {},
   "outputs": [],
   "source": [
    "a5.simulation_initinputs()\n",
    "a5.simulation_initoptions(**opt)\n",
    "a5.simulation_initmarkers(**mrk)\n",
    "vrun = a5.simulation_run(printsummary=False)\n",
    "\n",
    "vrun.plotorbit_trajectory('r', 'z')"
   ]
  },
  {
   "cell_type": "markdown",
   "metadata": {},
   "source": [
    "Now we can use these results to calculate the orbit averages."
   ]
  },
  {
   "cell_type": "code",
   "execution_count": null,
   "metadata": {},
   "outputs": [],
   "source": [
    "bphi, mu = vrun.getorbit('bphi', 'mu')\n",
    "t, r, z, bphi, avg = vrun.getorbit_average(bphi, ids=1)\n",
    "t, r, z,   mu, avg = vrun.getorbit_average(mu, ids=1)\n",
    "\n",
    "fig = plt.figure()\n",
    "ax1 = fig.add_subplot(2,1,1)\n",
    "ax2 = fig.add_subplot(2,1,2)\n",
    "\n",
    "print(r.shape,bphi.shape)\n",
    "ax1.scatter(r, z, c=bphi, cmap='viridis')\n",
    "\n",
    "ax2.plot(t, mu)\n",
    "ax2.plot(t[[0,-1]], [avg, avg])\n",
    "\n",
    "plt.show()\n",
    "\n",
    "a5.simulation_free()"
   ]
  },
  {
   "cell_type": "markdown",
   "metadata": {},
   "source": []
  }
 ],
 "metadata": {
  "language_info": {
   "name": "python"
  }
 },
 "nbformat": 4,
 "nbformat_minor": 2
}
