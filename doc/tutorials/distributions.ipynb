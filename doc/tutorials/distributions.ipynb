{
 "cells": [
  {
   "cell_type": "markdown",
   "metadata": {},
   "source": [
    "# Dealing with distributions\n",
    "\n",
    "<img src='../../figures/distributions.png' alt='thumbnail' width='200'/>\n",
    "\n",
    "## Notes about distributions and moments in ASCOT5\n",
    "\n",
    "ASCOT5 is a kinetic code that solves the Fokker-Planck equation indirectly by tracing weighted markers that form the test particle distribution function.\n",
    "Therefore distribution (histograms), which ASCOT5 collects and which approximate the distribution function, can be considered as the main output of the code.\n",
    "In this example we show how to collect and post-process the distributions.\n",
    "\n",
    "The distribution function in ASCOT5 is represented by N-dimensional histograms that divide the entire (preferably) possible phase-space into a finite grid.\n",
    "Every time a marker is advanced in a simulation, the code finds the correct bin in the histogram and increments that by marker weight times time-step length.\n",
    "We implicitly assume that the marker weight is in units of ``particles/s`` meaning that the markers represent a constant particle source e.g. alpha particle birth rate.\n",
    "The collected distribution therefore is *a steady-state distribution* and it has units of ``particles``.\n",
    "\n",
    "The distribution function contains all information there is to know about a physical system.\n",
    "Often the distribution function itself is of little interest, and the interesting quantities are the moments of the distribution.\n",
    "While the distribution function is collected during the simulation, the moments are calculated in post-processing.\n",
    "\n",
    "> **_NOTE:_** The resolution of the distribution histogram directly affects the accuracy of the calculated moment(s).\n",
    "> It is therefore advised to allocate as much memory for the distribution that is available and can be reasonably post-processed.\n",
    "\n",
    "ASCOT5 can be used to collect following distributions, which can be collected simultaneously in a simulation:\n",
    "\n",
    "- ``5D`` $(R,\\phi,z,p_\\parallel,p_\\perp)$\n",
    "- ``rho5D`` $(\\rho,\\theta,\\phi,p_\\parallel,p_\\perp)$\n",
    "- ``6D`` $(R,\\phi,z,p_R,p_\\phi,p_z)$\n",
    "- ``rho6D`` $(\\rho,\\theta,\\phi,p_R,p_\\phi,p_z)$\n",
    "- ``COM`` $(E_\\mathrm{kin},P_\\mathrm{ctor},\\mu)$\n",
    "\n",
    "``5D`` and ``rho5D`` are the default distributions and also the ones that should be used in all guiding-center and hybrid simulations.\n",
    "Both distributions can be used in post-processing to evaluate moments of the distribution, but the difference between these two is that only ``rho5D`` can be used to evaluate 1D quantities.\n",
    "\n",
    "``6D`` and ``rho6D`` cannot be used to evaluate moments.\n",
    "They are to be used only in gyro-orbit simulations where the particle distribution on itself is of interest: e.g. for marker sampling.\n",
    "\n",
    "``COM`` (constant-of-motion) distribution collects the data in kinetic energy, canonical toroidal angular momentum, and magnetic moment coordinates.\n",
    "It cannot be used to compute moments and it is used to provide input from ASCOT5 to other codes.\n",
    "\n",
    "All distributions except for ``COM`` also have additional abscissae in time and charge.\n",
    "Usually these are of little intereset, but make sure to set the charge abscissa properly so that it has a single bin for each expected charge state as otherwise the moments cannot be computed properly.\n",
    "\n",
    "> **_Summary:_** Use ``5D`` or ``rho5D`` distribution for guiding center simulations and in any simulations where you wish to calculate moments in post-processing.\n",
    "> For computing 1D profiles and moments, use ``rho5D``.\n",
    "> Use ``6D`` or ``rho6D`` in gyro-orbit simulations when the particle distribution is of specific interest.\n",
    "> If you need the ``COM`` distribution, you'll know it.\n",
    "\n",
    "## Collecting and plotting distributions\n",
    "\n",
    "Let's begin by setting up a test case that mimics alpha particle slowing down:"
   ]
  },
  {
   "cell_type": "code",
   "execution_count": null,
   "metadata": {},
   "outputs": [],
   "source": [
    "import numpy as np\n",
    "import matplotlib.pyplot as plt\n",
    "from a5py import Ascot\n",
    "\n",
    "a5 = Ascot(\"ascot.h5\", create=True)\n",
    "a5.data.create_input(\"bfield analytical iter circular\")\n",
    "a5.data.create_input(\"plasma flat\", density=1e21)\n",
    "a5.data.create_input(\"wall_2D\")\n",
    "a5.data.create_input(\"E_TC\")\n",
    "a5.data.create_input(\"N0_1D\")\n",
    "a5.data.create_input(\"Boozer\")\n",
    "a5.data.create_input(\"MHD_STAT\")\n",
    "a5.data.create_input(\"asigma_loc\")\n",
    "\n",
    "from a5py.ascot5io.marker import Marker\n",
    "nmrk = 1000\n",
    "mrk = Marker.generate(\"gc\", n=nmrk, species=\"alpha\")\n",
    "mrk[\"energy\"][:] = 3.5e6\n",
    "mrk[\"pitch\"][:]  = 0.99 - 1.98 * np.random.rand(nmrk,)\n",
    "mrk[\"r\"][:]      = 4.5 + 3 * np.random.rand(nmrk,)\n",
    "a5.data.create_input(\"gc\", **mrk)\n",
    "\n",
    "from a5py.ascot5io.options import Opt\n",
    "opt = Opt.get_default()\n",
    "opt.update({\n",
    "    \"SIM_MODE\":2, \"ENABLE_ADAPTIVE\":1,\n",
    "    \"ENDCOND_ENERGYLIM\":1, \"ENDCOND_MIN_ENERGY\":2.0e3, \"ENDCOND_MIN_THERMAL\":2.0,\n",
    "    \"ENABLE_ORBIT_FOLLOWING\":1, \"ENABLE_COULOMB_COLLISIONS\":1,\n",
    "})\n",
    "\n",
    "print(\"Inputs created\")"
   ]
  },
  {
   "cell_type": "markdown",
   "metadata": {},
   "source": [
    "The principle of setting up distribution data collection is the same for all distributions, so here we only collect ``5D`` and ``rho5D`` as those will be used to calculate moments later on.\n",
    "Distributions are very memory intensive so while multiple distributions can be collected simultaneously, it is not always feasible to do so."
   ]
  },
  {
   "cell_type": "code",
   "execution_count": null,
   "metadata": {},
   "outputs": [],
   "source": [
    "opt.update({\n",
    "    # Distribution output\n",
    "    \"ENABLE_DIST_5D\":1, \"ENABLE_DIST_RHO5D\":1,\n",
    "    # (R,z) abscissae for the 5D distribution\n",
    "    \"DIST_MIN_R\":4.3,  \"DIST_MAX_R\":8.3, \"DIST_NBIN_R\":50,\n",
    "    \"DIST_MIN_Z\":-2.0, \"DIST_MAX_Z\":2.0, \"DIST_NBIN_Z\":50,\n",
    "    # (rho, theta) abscissae for the rho5D distribution. Most of the time a single\n",
    "    # theta slot is sufficient but please verify it in your case.\n",
    "    \"DIST_MIN_RHO\"  :0, \"DIST_MAX_RHO\"  :1.0, \"DIST_NBIN_RHO\"  :100,\n",
    "    \"DIST_MIN_THETA\":0, \"DIST_MAX_THETA\":360, \"DIST_NBIN_THETA\":1,\n",
    "    # Single phi slot since this is not a stellarator.\n",
    "    # These values are shared between other distributions\n",
    "    \"DIST_MIN_PHI\":0,        \"DIST_MAX_PHI\":360,     \"DIST_NBIN_PHI\":1,\n",
    "    # The momentum abscissae are shared by 5D distributions\n",
    "    \"DIST_MIN_PPA\":-1.3e-19, \"DIST_MAX_PPA\":1.3e-19, \"DIST_NBIN_PPA\":100,\n",
    "    \"DIST_MIN_PPE\":0,        \"DIST_MAX_PPE\":1.3e-19, \"DIST_NBIN_PPE\":50,\n",
    "    # One time slot, the span doesn't matter as long as it covers the whole simulation time\n",
    "    \"DIST_MIN_TIME\":0,       \"DIST_MAX_TIME\":1.0,    \"DIST_NBIN_TIME\":1,\n",
    "    # One charge slot exactly at q=2 since we are simulating alphas\n",
    "    \"DIST_MIN_CHARGE\":1.5,   \"DIST_MAX_CHARGE\":2.5,    \"DIST_NBIN_CHARGE\":1,\n",
    "})\n",
    "a5.data.create_input(\"opt\", **opt)"
   ]
  },
  {
   "cell_type": "markdown",
   "metadata": {},
   "source": [
    "Now run the simulation."
   ]
  },
  {
   "cell_type": "code",
   "execution_count": null,
   "metadata": {},
   "outputs": [],
   "source": [
    "import subprocess\n",
    "subprocess.run([\"./../../build/ascot5_main\", \"--d=\\\"SDALPHA\\\"\"])\n",
    "print(\"Simulation completed\")"
   ]
  },
  {
   "cell_type": "markdown",
   "metadata": {},
   "source": [
    "Distributions are accessed via ``getdist`` method that returns a ``DistData`` object which contains methods for additional processing and plotting.\n",
    "The data can be sliced, integrated, and interpolated.\n",
    "For plotting, the distribution must be reduced to 2D or 1D first."
   ]
  },
  {
   "cell_type": "code",
   "execution_count": null,
   "metadata": {},
   "outputs": [],
   "source": [
    "a5 = Ascot(\"ascot.h5\")\n",
    "dist = a5.data.active.getdist(\"5d\")\n",
    "\n",
    "print(\"List of abscissae:\")\n",
    "print(dist.abscissae)\n",
    "\n",
    "# Abscissa values (bin center points)\n",
    "dist.abscissa(\"r\");\n",
    "# Bin edges\n",
    "dist.abscissa_edges(\"r\");\n",
    "# Value of the distribution function\n",
    "dist.distribution();\n",
    "# Phase-space volume of bin elements\n",
    "dist.phasespacevolume();\n",
    "# Number of particles per bin (= distribution x phasespacevolume)\n",
    "dist.histogram();\n",
    "\n",
    "# Perform linear interpolation on R at the given value\n",
    "dist.interpolate(r=6.6*unyt.m);\n",
    "\n",
    "# Take a slice by giving <name of the abscissa>=<indices to be sliced>\n",
    "dist.slice(r=np.s_[1:-1])\n",
    "\n",
    "# Slicing and integrating modifies the distribution object, unless copy=True is given\n",
    "dist.integrate(phi=np.s_[:], charge=np.s_[:], time=np.s_[:])\n",
    "\n",
    "rzdist = dist.integrate(copy=True, ppar=np.s_[:], pperp=np.s_[:])\n",
    "dist.integrate(r=np.s_[:], z=np.s_[:], pperp=np.s_[:])\n",
    "\n",
    "rzdist.plot()\n",
    "dist.plot()"
   ]
  },
  {
   "cell_type": "markdown",
   "metadata": {},
   "source": [
    "Note that the units of the distribution, $f$, remain consistent when the operations above are used.\n",
    "\n",
    "The momentum space in 5D distributions can also be converted to energy and pitch, $(E_\\mathrm{kin},\\xi)$, which can be more convenient to use.\n",
    "The resulting ``DistData`` object is no different, except that it can't be used to evaluate moments.\n",
    "Setting ``plotexi=True`` visualizes the transformation: the top plot shows the original momentum space with the new grid overlayed, the second plot shows the distribution after rebinning, and the third shows the final distribution in the new basis."
   ]
  },
  {
   "cell_type": "code",
   "execution_count": null,
   "metadata": {},
   "outputs": [],
   "source": [
    "distexi = a5.data.active.getdist(\"5d\", ekin_edges=10, pitch_edges=10, exi=True, plotexi=True)\n",
    "\n",
    "# Integrate over all dimensions to get the total particle number\n",
    "distexi.integrate(r=np.s_[:],phi=np.s_[:],z=np.s_[:],ekin=np.s_[:],pitch=np.s_[:],\n",
    "                  charge=np.s_[:],time=np.s_[:])\n",
    "dist = a5.data.active.getdist(\"5d\")\n",
    "dist.integrate(r=np.s_[:],phi=np.s_[:],z=np.s_[:],ppar=np.s_[:],pperp=np.s_[:],\n",
    "               charge=np.s_[:],time=np.s_[:])\n",
    "print(\"Particle numbers are %e and %e\" % (dist.histogram(), distexi.histogram()))"
   ]
  },
  {
   "cell_type": "markdown",
   "metadata": {},
   "source": [
    "The conversion basically \"re-bins\" the histogram thus preserving the total particle number.\n",
    "The resolution of the new momentum space should be similar to the one in $(p_\\parallel,p_\\perp)$.\n",
    "If it is significantly higher, \"holes\" can appear in the distribution."
   ]
  },
  {
   "cell_type": "code",
   "execution_count": null,
   "metadata": {},
   "outputs": [],
   "source": [
    "distexi = a5.data.active.getdist(\"5d\", ekin_edges=50, pitch_edges=50, exi=True)\n",
    "distexi.integrate(r=np.s_[:],phi=np.s_[:],z=np.s_[:],charge=np.s_[:],time=np.s_[:])\n",
    "distexi.plot()"
   ]
  },
  {
   "cell_type": "markdown",
   "metadata": {},
   "source": [
    "## Moments\n",
    "\n",
    "Moments are computed from the ``DistData`` object, so it is possible to process the data before it is passed to ``getdist_moments`` which computes the moments.\n",
    "The result is a ``DistMoment`` object:"
   ]
  },
  {
   "cell_type": "code",
   "execution_count": null,
   "metadata": {},
   "outputs": [],
   "source": [
    "# Evaluate moment by giving the distribution and specifying what moment is to be evaluated\n",
    "dist = a5.data.active.getdist(\"5d\")\n",
    "mom2d = a5.data.active.getdist_moments(dist, \"density\")\n",
    "\n",
    "# Moment object integrates over all momentum space (and time and charge) so that in the end\n",
    "# it stores the data in 3D spatial grid and it records physical volume and poloidal area of each bin\n",
    "mom2d.volume;\n",
    "mom2d.area;\n",
    "\n",
    "# Grid center (R,phi,z coordinates)\n",
    "mom2d.rc;\n",
    "mom2d.phic;\n",
    "mom2d.zc;\n",
    "\n",
    "# The value is stored as an ordinate and accessed like this\n",
    "# This returns (nr,nphi,nz) matrix.\n",
    "mom2d.ordinate(\"density\");\n",
    "\n",
    "# Multiple moments can be evaluated simultaneously\n",
    "mom2d = a5.data.active.getdist_moments(dist, \"density\", \"chargedensity\")\n",
    "\n",
    "# Single object can store multiple moments, which can be listed like this\n",
    "print(\"Stored moments\")\n",
    "print(mom2d.list_ordinates())\n",
    "\n",
    "# All available distributions and moments that can be calculated\n",
    "a5.data.active.getdist_list();\n",
    "\n",
    "# Evaluating some distributions requires interpolating input data\n",
    "a5.input_init(bfield=True)\n",
    "a5.data.active.getdist_moments(dist, \"parallelcurrent\")\n",
    "a5.input_free()"
   ]
  },
  {
   "cell_type": "markdown",
   "metadata": {},
   "source": [
    "``DistMoment`` behaves differently depending on whether it was calculated from ``5d`` or ``rho5d`` distribution.\n",
    "The abscissae are different and for ``5d`` one can take a toroidal average of the moment and for ``rho5d`` both toroidal and poloidal averages are possible.\n",
    "The average values are used when plotting the moments."
   ]
  },
  {
   "cell_type": "code",
   "execution_count": null,
   "metadata": {},
   "outputs": [],
   "source": [
    "dist = a5.data.active.getdist(\"5d\")\n",
    "mom2d = a5.data.active.getdist_moments(dist, \"density\")\n",
    "\n",
    "# Evaluating moments from rho5d always requires bfield initialization so\n",
    "# that (rho,theta) can be mapped to (r,z)\n",
    "dist = a5.data.active.getdist(\"rho5d\")\n",
    "a5.input_init(bfield=True)\n",
    "mom1d = a5.data.active.getdist_moments(dist, \"density\")\n",
    "a5.input_free()\n",
    "\n",
    "# Moment objects have different abscissae\n",
    "mom1d.rho;\n",
    "mom1d.theta;\n",
    "mom1d.phi;\n",
    "mom2d.r;\n",
    "mom2d.phi;\n",
    "mom2d.z;\n",
    "\n",
    "# Poloidal average only valid for moments calculated from rho5d\n",
    "mom2d.ordinate(\"density\", toravg=True);\n",
    "mom1d.ordinate(\"density\", toravg=True, polavg=True);\n",
    "\n",
    "fig = plt.figure(figsize=(8,4))\n",
    "ax1 = fig.add_subplot(1,2,1)\n",
    "ax2 = fig.add_subplot(1,2,2)\n",
    "\n",
    "mom2d.plot(\"density\", axes=ax1)\n",
    "mom1d.plot(\"density\", axes=ax2)\n",
    "\n",
    "plt.tight_layout()\n",
    "plt.show()"
   ]
  },
  {
   "cell_type": "markdown",
   "metadata": {},
   "source": [
    "Distribution resolution must be chosen carefully since moments are calculated in post-processing and there is a loss of information when the markers are binned to the histogram.\n",
    "Running even a short simulation with different distribution settings helps finding the correct values.\n",
    "\n",
    "Other possible source of error is the volume calculation, for moments computed from ``rho5d``, which is also done in post-processing.\n",
    "There are two methods to compute the volume and it is always good to check that those agree."
   ]
  },
  {
   "cell_type": "code",
   "execution_count": null,
   "metadata": {},
   "outputs": [],
   "source": [
    "a5.input_init(bfield=True)\n",
    "# Divide volume into prisms and sum them\n",
    "mom1 = a5.data.active.getdist_moments(dist, \"density\", volmethod=\"prism\")\n",
    "# Calculate volume using Monte Carlo method\n",
    "mom2 = a5.data.active.getdist_moments(dist, \"density\", volmethod=\"mc\")\n",
    "a5.input_free()\n",
    "\n",
    "print(np.sum(mom1.volume))\n",
    "print(np.sum(mom2.volume))"
   ]
  },
  {
   "cell_type": "markdown",
   "metadata": {},
   "source": []
  }
 ],
 "metadata": {
  "language_info": {
   "name": "python"
  }
 },
 "nbformat": 4,
 "nbformat_minor": 4
}
