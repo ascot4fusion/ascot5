{
 "cells": [
  {
   "cell_type": "markdown",
   "metadata": {},
   "source": [
    "# Dealing with distributions\n",
    "\n",
    "<img src='../../figures/template.png' alt='thumbnail' width='200'/>\n",
    "\n",
    "This example shows how to collect and process particle distributions.\n"
   ]
  },
  {
   "cell_type": "code",
   "execution_count": null,
   "metadata": {},
   "outputs": [],
   "source": [
    "import numpy as np\n",
    "from a5py import Ascot\n",
    "\n",
    "a5 = Ascot(\"ascot.h5\", create=True)\n",
    "\n",
    "print(\"Inputs created\")"
   ]
  }
 ],
 "metadata": {
  "kernelspec": {
   "display_name": "ascot5",
   "language": "python",
   "name": "ascot5"
  },
  "language_info": {
   "codemirror_mode": {
    "name": "ipython",
    "version": 3
   },
   "file_extension": ".py",
   "mimetype": "text/x-python",
   "name": "python",
   "nbconvert_exporter": "python",
   "pygments_lexer": "ipython3",
   "version": "3.11.3"
  }
 },
 "nbformat": 4,
 "nbformat_minor": 4
}
