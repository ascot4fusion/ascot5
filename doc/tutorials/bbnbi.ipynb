{
 "cells": [
  {
   "cell_type": "markdown",
   "metadata": {},
   "source": [
    "# Modelling neutral beam injection with BBNBI\n",
    "\n",
    "<img src='../../figures/template.png' alt='thumbnail' width='200'/>\n",
    "\n",
    "This example shows how to generate beam ions with BBNBI5.\n"
   ]
  },
  {
   "cell_type": "code",
   "execution_count": null,
   "metadata": {},
   "outputs": [],
   "source": [
    "import numpy as np\n",
    "import matplotlib.pyplot as plt\n",
    "from a5py import Ascot\n",
    "\n",
    "a5 = Ascot(\"ascot.h5\", create=True)\n",
    "\n",
    "# Use analytical field since it is fast to interpolate\n",
    "a5.data.create_input(\"bfield analytical iter circular\", desc=\"ANALYTICAL\")\n",
    "\n",
    "nrho  = 101\n",
    "rho   = np.linspace(0, 2, nrho).T\n",
    "prof  = (1.0 - rho**(3.0/2))**3\n",
    "edens = 2e21 * prof\n",
    "etemp = 1e4  * np.ones((nrho, 1))\n",
    "idens = 1e21 * np.reshape(prof,(nrho,1))\n",
    "itemp = 1e4  * np.ones((nrho, 1))\n",
    "\n",
    "edens[rho>=1] = 1\n",
    "idens[rho>=1] = 1\n",
    "\n",
    "plt.plot(rho,edens)\n",
    "\n",
    "pls = {\n",
    "    \"nrho\" : nrho, \"nion\" : 1, \"rho\" : rho,\n",
    "    \"anum\" : np.array([2]), \"znum\" : np.array([1]),\n",
    "    \"mass\" : np.array([2.014]), \"charge\" : np.array([1]),\n",
    "    \"edensity\" : edens, \"etemperature\" : etemp,\n",
    "    \"idensity\" : idens, \"itemperature\" : itemp}\n",
    "a5.data.create_input(\"plasma_1D\", **pls, desc=\"FLATDT\")\n",
    "\n",
    "from a5py.ascot5io.wall import wall_3D\n",
    "rad  = 2.0\n",
    "pol  = np.linspace(0, 2*np.pi, 181)[:-1]\n",
    "wall = {\"nelements\":180,\n",
    "        \"r\":6.2 + rad*np.cos(pol), \"z\":0.0 + rad*np.sin(pol)}\n",
    "wall = wall_3D.convert_wall_2D(180, **wall)\n",
    "a5.data.create_input(\"wall_3D\", **wall, desc=\"ROTATED\")\n",
    "\n",
    "from a5py.ascot5io.options import Opt\n",
    "\n",
    "opt = Opt.get_default()\n",
    "opt.update({\n",
    "    # Distribution output\n",
    "    \"ENABLE_DIST_5D\":1,\n",
    "    \"DIST_MIN_R\":4.3,        \"DIST_MAX_R\":8.3,       \"DIST_NBIN_R\":50,\n",
    "    \"DIST_MIN_PHI\":0,        \"DIST_MAX_PHI\":360,     \"DIST_NBIN_PHI\":1,\n",
    "    \"DIST_MIN_Z\":-2.0,       \"DIST_MAX_Z\":2.0,       \"DIST_NBIN_Z\":50,\n",
    "    \"DIST_MIN_PPA\":-1.3e-19, \"DIST_MAX_PPA\":1.3e-19, \"DIST_NBIN_PPA\":100,\n",
    "    \"DIST_MIN_PPE\":0,        \"DIST_MAX_PPE\":1.3e-19, \"DIST_NBIN_PPE\":50,\n",
    "    \"DIST_MIN_TIME\":0,       \"DIST_MAX_TIME\":1.0,    \"DIST_NBIN_TIME\":1,\n",
    "    \"DIST_MIN_CHARGE\":1,     \"DIST_MAX_CHARGE\":3,    \"DIST_NBIN_CHARGE\":1,\n",
    "})\n",
    "a5.data.create_input(\"opt\", **opt, desc=\"SLOWINGDOWN\")\n",
    "\n",
    "from a5py.ascot5io.nbi  import NBI\n",
    "inj = NBI.generate(r=8.0, phi=0.0, z=0.0, tanrad=-6.0, focallen=1.0,\n",
    "                   dgrid=[0.23, 0.52], nbeamlet=1, anum=2, znum=1,\n",
    "                   mass=2.0141, energy=1e6, efrac=[1.0, 0.0, 0.0],\n",
    "                   power=1e6, tilt=0.1,\n",
    "                   div=[np.deg2rad(0.95)/2, np.deg2rad(0.95)/2])\n",
    "a5.data.create_input(\"nbi\", **{\"ninj\":1, \"injectors\":[inj]},\n",
    "                     desc=\"INJECTORS\")\n",
    "\n",
    "print(\"Inputs created\")"
   ]
  },
  {
   "cell_type": "markdown",
   "metadata": {},
   "source": [
    "jyjy"
   ]
  },
  {
   "cell_type": "code",
   "execution_count": null,
   "metadata": {},
   "outputs": [],
   "source": [
    "import subprocess\n",
    "subprocess.run([\"./../../build/bbnbi5\", \"--d=\\\"BEAMS\\\"\"])\n",
    "print(\"Simulation completed\")"
   ]
  },
  {
   "cell_type": "markdown",
   "metadata": {},
   "source": []
  },
  {
   "cell_type": "code",
   "execution_count": null,
   "metadata": {},
   "outputs": [],
   "source": []
  },
  {
   "cell_type": "markdown",
   "metadata": {},
   "source": []
  }
 ],
 "metadata": {
  "language_info": {
   "name": "python"
  }
 },
 "nbformat": 4,
 "nbformat_minor": 4
}
