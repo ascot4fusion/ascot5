{
 "cells": [
  {
   "cell_type": "markdown",
   "metadata": {},
   "source": [
    "# Modelling neutral beam injection with BBNBI\n",
    "\n",
    "<img src='../../figures/template.png' alt='thumbnail' width='200'/>\n",
    "\n",
    "This example shows how to generate beam ions with BBNBI5.\n"
   ]
  },
  {
   "cell_type": "code",
   "execution_count": null,
   "metadata": {},
   "outputs": [],
   "source": [
    "import numpy as np\n",
    "from a5py import Ascot\n",
    "\n",
    "a5 = Ascot(\"ascot.h5\", create=True)\n",
    "\n",
    "print(\"Inputs created\")"
   ]
  }
 ],
 "metadata": {
  "language_info": {
   "name": "python"
  }
 },
 "nbformat": 4,
 "nbformat_minor": 4
}
