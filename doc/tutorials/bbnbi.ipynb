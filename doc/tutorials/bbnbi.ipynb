{
 "cells": [
  {
   "cell_type": "markdown",
   "metadata": {},
   "source": [
    "# Modelling neutral beam injection with BBNBI\n",
    "\n",
    "This example shows how to generate beam ions with BBNBI5.\n",
    "\n",
    "In order to run BBNBI, you'll need to compile it separately with ``make bbnbi5`` and the resulting binary will be in the ``build`` folder.\n",
    "Once that is done, we initialize some test data.\n",
    "BBNBI requires magnetic field, plasma, neutral, wall, and atomic data to be present.\n",
    "\n",
    "> **_NOTE:_** Currently atomic data is not used even though it is required; it is a placeholder for future development.\n",
    "\n",
    "Here we use spline interpolated magnetic field and 3D wall to demonstrate specific aspects of BBNBI."
   ]
  },
  {
   "cell_type": "code",
   "execution_count": null,
   "metadata": {},
   "outputs": [],
   "source": [
    "import numpy as np\n",
    "import unyt\n",
    "import matplotlib.pyplot as plt\n",
    "from a5py import Ascot\n",
    "\n",
    "a5 = Ascot(\"ascot.h5\", create=True)\n",
    "\n",
    "# Use splines for a more realistic case\n",
    "a5.data.create_input(\"bfield analytical iter circular\", splines=True,\n",
    "                     desc=\"SPLINE2D\")\n",
    "\n",
    "nrho  = 101\n",
    "rho   = np.linspace(0, 2, nrho).T\n",
    "prof  = (1.0 - rho**(3.0/2))**3\n",
    "edens = 2e20 * prof\n",
    "etemp = 1e4  * np.ones((nrho, 1))\n",
    "idens = 1e20 * np.reshape(prof,(nrho,1))\n",
    "itemp = 1e4  * np.ones((nrho, 1))\n",
    "\n",
    "edens[rho>=1] = 1\n",
    "idens[rho>=1] = 1\n",
    "\n",
    "pls = {\n",
    "    \"nrho\" : nrho, \"nion\" : 1, \"rho\" : rho,\n",
    "    \"anum\" : np.array([2]), \"znum\" : np.array([1]),\n",
    "    \"mass\" : np.array([2.014]), \"charge\" : np.array([1]),\n",
    "    \"edensity\" : edens, \"etemperature\" : etemp,\n",
    "    \"idensity\" : idens, \"itemperature\" : itemp}\n",
    "a5.data.create_input(\"plasma_1D\", **pls, desc=\"FLATDT\")\n",
    "\n",
    "from a5py.ascot5io.wall import wall_3D\n",
    "rad  = 2.1\n",
    "pol  = np.linspace(0, 2*np.pi, 180)\n",
    "wall = {\"nelements\":180,\n",
    "        \"r\":6.2 + rad*np.cos(pol), \"z\":0.0 + rad*np.sin(pol)}\n",
    "wall = wall_3D.convert_wall_2D(180, **wall)\n",
    "a5.data.create_input(\"wall_3D\", **wall, desc=\"ROTATED\")\n",
    "\n",
    "a5.data.create_input(\"N0_1D\")\n",
    "a5.data.create_input(\"asigma_loc\")\n",
    "\n",
    "print(\"Inputs created\")"
   ]
  },
  {
   "cell_type": "markdown",
   "metadata": {},
   "source": [
    "One input that is entirely BBNBI specific is the NBI input that contains a bundle of injectors.\n",
    "The injector data defines the geometry of the injectory, the injected species, its energy (distribution), and power.\n",
    "Often one does not need to specify the geometry as the data already exists.\n",
    "\n",
    "> **_NOTE:_** Injector specifications exists for the following machines: ITER, JET, ASDEX Upgrade, MAST-U, JT-60SA, NSTX, and TCV.\n",
    "              These cannot be shared publicly within the ASCOT5 repository, so please contact the maintainers to gain access to the data.\n",
    "\n",
    "For this tutorial, we use the method ``a5py.ascot5io.nbi.NBI.generate`` which creates a simplified injector."
   ]
  },
  {
   "cell_type": "code",
   "execution_count": null,
   "metadata": {},
   "outputs": [],
   "source": [
    "from a5py.ascot5io.nbi  import NBI\n",
    "inj = NBI.generate(r=10.0, phi=10.0, z=0.0, tanrad=-6.0, focallen=1.0,\n",
    "                   dgrid=[0.23, 0.52], nbeamlet=1, anum=2, znum=1,\n",
    "                   mass=2.0141, energy=1e6, efrac=[1.0, 0.0, 0.0],\n",
    "                   power=1e6, tilt=0.1,\n",
    "                   div=[np.deg2rad(0.95)/2, np.deg2rad(0.95)/2])\n",
    "a5.data.create_input(\"nbi\", **{\"ninj\":1, \"injectors\":[inj]},\n",
    "                     desc=\"INJECTORS\")"
   ]
  },
  {
   "cell_type": "markdown",
   "metadata": {},
   "source": [
    "BBNBI shares some of the options with the main program.\n",
    "Mainly the distribution output settings (which are optional)."
   ]
  },
  {
   "cell_type": "code",
   "execution_count": null,
   "metadata": {},
   "outputs": [],
   "source": [
    "from a5py.ascot5io.options import Opt\n",
    "\n",
    "opt = Opt.get_default()\n",
    "opt.update({\n",
    "    \"ENABLE_DIST_5D\":1,\n",
    "    \"DIST_MIN_R\":4.3,        \"DIST_MAX_R\":8.3,       \"DIST_NBIN_R\":50,\n",
    "    \"DIST_MIN_PHI\":0,        \"DIST_MAX_PHI\":360,     \"DIST_NBIN_PHI\":1,\n",
    "    \"DIST_MIN_Z\":-2.0,       \"DIST_MAX_Z\":2.0,       \"DIST_NBIN_Z\":50,\n",
    "    \"DIST_MIN_PPA\":-1.3e-19, \"DIST_MAX_PPA\":1.3e-19, \"DIST_NBIN_PPA\":100,\n",
    "    \"DIST_MIN_PPE\":0,        \"DIST_MAX_PPE\":1.3e-19, \"DIST_NBIN_PPE\":50,\n",
    "    \"DIST_MIN_TIME\":0,       \"DIST_MAX_TIME\":1.0,    \"DIST_NBIN_TIME\":1,\n",
    "    \"DIST_MIN_CHARGE\":0.5,   \"DIST_MAX_CHARGE\":1.5,  \"DIST_NBIN_CHARGE\":1,\n",
    "})\n",
    "a5.data.create_input(\"opt\", **opt, desc=\"BEAMDEPOSITION\")"
   ]
  },
  {
   "cell_type": "markdown",
   "metadata": {},
   "source": [
    "To run a simulation, BBNBI works in a similar fashion as ``ascot5_main``.\n",
    "One notable difference is that BBNBI is not MPI parallelized.\n",
    "The total number of markers to be injected from all injectors is given as a command line parameter."
   ]
  },
  {
   "cell_type": "code",
   "execution_count": null,
   "metadata": {},
   "outputs": [],
   "source": [
    "import subprocess\n",
    "subprocess.run([\"./../../build/bbnbi5\", \"--n=10000\", \"--d=\\\"BEAMS\\\"\"])\n",
    "print(\"Simulation completed\")"
   ]
  },
  {
   "cell_type": "markdown",
   "metadata": {},
   "source": [
    "The results are stored as a (BBNBI) run group that can be accessed via ``Ascot`` object.\n",
    "Data and methods related to marker state, wall loads, and distributions are accessible.\n",
    "Note that this run does not have a separate ini and endstate but just a single state that corresponds to the marker final position."
   ]
  },
  {
   "cell_type": "code",
   "execution_count": null,
   "metadata": {},
   "outputs": [],
   "source": [
    "from a5py import Ascot\n",
    "a5 = Ascot(\"ascot.h5\")\n",
    "r, z = a5.data.active.getstate(\"r\", \"z\", mode=\"prt\")\n",
    "\n",
    "fig, ax = plt.subplots()\n",
    "ax.scatter(r, z)\n",
    "plt.show()"
   ]
  },
  {
   "cell_type": "markdown",
   "metadata": {},
   "source": [
    "The plot above shows that some of the markers were not ionized but instead continued until they hit the wall on the opposite end, i.e., they became *shinethrough*.\n",
    "We can visualize the shinethrough with the same methods as are used to plot the wall loads."
   ]
  },
  {
   "cell_type": "code",
   "execution_count": null,
   "metadata": {},
   "outputs": [],
   "source": [
    "a5.input_init(bfield=True)\n",
    "a5.data.active.plotwall_torpol()\n",
    "a5.input_free()"
   ]
  },
  {
   "cell_type": "markdown",
   "metadata": {},
   "source": [
    "If distributions were collected, we can plot the beam deposition.\n",
    "Keep in mind that this is not a steady-state distribution but instead it shows the birth rate of beam ions."
   ]
  },
  {
   "cell_type": "code",
   "execution_count": null,
   "metadata": {},
   "outputs": [],
   "source": [
    "dist = a5.data.active.getdist(\"5d\")\n",
    "dist.integrate(phi=np.s_[:], ppar=np.s_[:], pperp=np.s_[:], charge=np.s_[:], time=np.s_[:])\n",
    "dist.plot()"
   ]
  },
  {
   "cell_type": "markdown",
   "metadata": {},
   "source": [
    "One can use either the above distribution to generate markers for the slowing down simulation (using the ``MarkerGenerator`` class) or use the ionized markers directly:"
   ]
  },
  {
   "cell_type": "code",
   "execution_count": null,
   "metadata": {},
   "outputs": [],
   "source": [
    "ids = a5.data.active.getstate(\"ids\", endcond=\"IONIZED\")\n",
    "mrk = a5.data.active.getstate_markers(\"gc\", ids=ids)\n",
    "print(mrk[\"n\"])\n",
    "print(mrk[\"charge\"])"
   ]
  },
  {
   "cell_type": "markdown",
   "metadata": {},
   "source": []
  }
 ],
 "metadata": {
  "language_info": {
   "name": "python"
  }
 },
 "nbformat": 4,
 "nbformat_minor": 4
}
