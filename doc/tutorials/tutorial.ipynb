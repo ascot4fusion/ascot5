{
 "cells": [
  {
   "cell_type": "markdown",
   "metadata": {},
   "source": [
    "# Introduction\n",
    "\n",
    "This example gives a general overview on how to pre- and postprocess ASCOT5 simulations.\n",
    "\n",
    "1. <a href='#stepbystep'>First simulation: step-by-step</a>\n",
    "2. <a href='#contents'>Contents of the HDF5 file</a>\n",
    "3. <a href='#ascotpy'>Python interface to libascot.so</a>\n",
    "4. <a href='#inputgen'>Input generation</a>\n",
    "5. <a href='#postprocess'>Post processing</a>\n",
    "6. <a href='#simulation'>Live simulations</a>"
   ]
  },
  {
   "cell_type": "markdown",
   "metadata": {},
   "source": [
    "<a id='stepbystep'></a>"
   ]
  },
  {
   "cell_type": "markdown",
   "metadata": {},
   "source": [
    "## First simulation: step-by-step\n",
    "\n",
    "Go to `ascot5/doc/tutorials` folder and type `ipython3` to begin this tutorial. Then repeat these steps:\n",
    "\n",
    "1. All pre- and post-processing is done via `Ascot` object.\n",
    "To create a new ASCOT5 data file, use `create=True`."
   ]
  },
  {
   "cell_type": "code",
   "execution_count": null,
   "metadata": {},
   "outputs": [],
   "source": [
    "import numpy as np\n",
    "from a5py import Ascot\n",
    "\n",
    "a5 = Ascot(\"ascot.h5\", create=True)\n",
    "print(\"File created\")"
   ]
  },
  {
   "cell_type": "markdown",
   "metadata": {},
   "source": [
    "2. The following lines initialize test data. We will go through the input generation in detail later."
   ]
  },
  {
   "cell_type": "code",
   "execution_count": null,
   "metadata": {},
   "outputs": [],
   "source": [
    "# Use pre-existing template to create some input data\n",
    "a5.data.create_input(\"options tutorial\")\n",
    "a5.data.create_input(\"bfield analytical iter circular\")\n",
    "a5.data.create_input(\"wall rectangular\")\n",
    "a5.data.create_input(\"plasma flat\")\n",
    "\n",
    "# Create electric field and markers by giving input parameters explicitly\n",
    "from a5py.ascot5io.marker import Marker\n",
    "mrk = Marker.generate(\"gc\", n=100, species=\"alpha\")\n",
    "mrk[\"energy\"][:] = 3.5e6\n",
    "mrk[\"pitch\"][:]  = 0.99 - 1.98 * np.random.rand(100,)\n",
    "mrk[\"r\"][:]      = np.linspace(6.2, 8.2, 100)\n",
    "a5.data.create_input(\"gc\", **mrk)\n",
    "a5.data.create_input(\"E_TC\", exyz=np.array([0,0,0])) # Zero electric field\n",
    "\n",
    "# Create dummy input for the rest\n",
    "a5.data.create_input(\"N0_3D\")\n",
    "a5.data.create_input(\"Boozer\")\n",
    "a5.data.create_input(\"MHD_STAT\")\n",
    "a5.data.create_input(\"asigma_loc\")\n",
    "print(\"Inputs initialized\")"
   ]
  },
  {
   "cell_type": "markdown",
   "metadata": {},
   "source": [
    "3. **EITHER** close the ipython session and edit options on terminal (opens a text editor):\n",
    "\n",
    "   `a5editoptions ascot.h5`\n",
    "\n",
    "   Scroll down to \"End conditions\" and set `ENDCOND_MAX_MILEAGE = 0.5e-2`. Save and close the editor. When prompted, set \"Fast\" as a description.\n",
    "\n",
    "   **OR** set the options in ipython:"
   ]
  },
  {
   "cell_type": "code",
   "execution_count": null,
   "metadata": {},
   "outputs": [],
   "source": [
    "name = a5.data.options.active.new(ENDCOND_MAX_MILEAGE=0.5e-2, desc=\"Fast\")\n",
    "a5.data.options[name].activate()\n",
    "print(\"Options updated\")"
   ]
  },
  {
   "cell_type": "markdown",
   "metadata": {},
   "source": [
    "4. Now execute `ascot5_main` which should take less than 10 seconds.\n",
    "    \n",
    "   **EITHER** in terminal:\n",
    "   \n",
    "   `./../../build/ascot5_main --d=\"Hello world!\"`\n",
    "\n",
    "   **OR** in ipython:"
   ]
  },
  {
   "cell_type": "code",
   "execution_count": null,
   "metadata": {},
   "outputs": [],
   "source": [
    "import subprocess\n",
    "subprocess.run([\"./../../build/ascot5_main\", \"--d=\\\"Hello world!\\\"\"])\n",
    "print(\"Simulation completed\")"
   ]
  },
  {
   "cell_type": "markdown",
   "metadata": {},
   "source": [
    "5. Open `ipython` again to read the data and plot marker endstates.\n",
    "\n",
    "   Hint: You can add the line `from a5py import Ascot` to your ipython config file (`~/.ipython/profile_default/ipython_config.py`) so that it is automatically called in beginning of every ipython session:\n",
    "\n",
    "   <pre>\n",
    "        c = get_config()\n",
    "        c.InteractiveShellApp.exec_lines = [\n",
    "            '%load_ext autoreload',\n",
    "            '%autoreload 2',\n",
    "            'import numpy as np',\n",
    "            'import scipy',\n",
    "            'import matplotlib as mpl',\n",
    "            'import matplotlib.pyplot as plt',\n",
    "            'from a5py import Ascot',\n",
    "        ]\n",
    "   </pre>"
   ]
  },
  {
   "cell_type": "code",
   "execution_count": null,
   "metadata": {},
   "outputs": [],
   "source": [
    "from a5py import Ascot\n",
    "import numpy as np\n",
    "import matplotlib.pyplot as plt\n",
    "\n",
    "a5 = Ascot(\"ascot.h5\")\n",
    "a5.data.ls(show=True) # Print summary of the data within this file\n",
    "mil = a5.data.active.getstate(\"mileage\", state=\"end\") # How much time passed for each marker\n",
    "print(\"Average mileage: %0.5f\" % (np.mean(mil)))\n",
    "\n",
    "# Plots markers' final (R, z) coordinates and wall contour\n",
    "ax = plt.figure().add_subplot(1,1,1)\n",
    "a5.data.active.plotstate_scatter(\"end r\", \"end z\", axes=ax)\n",
    "plt.show(block=False)"
   ]
  },
  {
   "cell_type": "markdown",
   "metadata": {},
   "source": [
    "6. That's it! Now you have prepared inputs, ran ASCOT5, and accessed the simulation output.\n",
    "\n",
    "   For actual simulations each step is more involving, but the basic premise was illustrated here. ASCOT5 development aims to integrate most input generation and post-processing tools so that they can be accessed via an `Ascot` object. Therefore, it is a good idea to always check from the documentation if there is an existing tool available.\n",
    "\n",
    "   Next in this tutorial, we will go through each step in detail. However, don't forget to try ASCOT5 GUI for fast and easy access to the data (type `a5gui ascot.h5` in terminal to open it)."
   ]
  },
  {
   "cell_type": "markdown",
   "metadata": {},
   "source": [
    "<a id='contents'></a>"
   ]
  },
  {
   "cell_type": "markdown",
   "metadata": {},
   "source": [
    "## Contents of the HDF5 file\n",
    "\n",
    "ASCOT5 stores the data in a HDF5 file.\n",
    "The file contains **all** inputs necessary to (re)run the simulation and the simulation output.\n",
    "The format supports multiple inputs and multiple outputs so that all data relevant for a single study can be stored in a single file (but remember to make backups!).\n",
    "To separate inputs and simulations from one another, each input and each simulation is assigned a quasi-unique identifier (QID) which is string of ten numbers from 0-10.\n",
    "\n",
    "How exactly the data is stored in a file is not relevant, as the data is accessed via `Ascot` object.\n",
    "Or to be more precise, the contents of the file is accessed and modified via `Ascot.data` attribute which is an `Ascot5IO` object.\n",
    "\n",
    "The contents of the file can be quickly viewed with `ls()` method (GUI is also very good for this purpose)."
   ]
  },
  {
   "cell_type": "code",
   "execution_count": null,
   "metadata": {},
   "outputs": [],
   "source": [
    "# In ipython terminal:\n",
    "from a5py import Ascot\n",
    "a5 = Ascot(\"ascot.h5\")\n",
    "info = a5.data.ls()"
   ]
  },
  {
   "cell_type": "markdown",
   "metadata": {},
   "source": [
    "The `data` attribute provides a *treeview* of the contents.\n",
    "At the top level are *input parent groups*, e.g. `bfield`, and *result groups*.\n",
    "Each input parent group contains all inputs in that category, e.g. `bfield` contains every magnetic field input.\n",
    "The one that is going to be used in a simulation is marked with an *active* flag.\n",
    "Again, `ls()` method can be used to view the contents of input parent groups."
   ]
  },
  {
   "cell_type": "code",
   "execution_count": null,
   "metadata": {},
   "outputs": [],
   "source": [
    "info = a5.data.options.ls()"
   ]
  },
  {
   "cell_type": "markdown",
   "metadata": {},
   "source": [
    "As can be seen, each input has a QID (the quasi-unique identifier), date when it was created, user-given description, and name that has a format \\<inputtype\\>_\\<qid\\>.\n",
    "Note that when we used `a5editoptions` to modify options, the old options were preserved.\n",
    "\n",
    "Objects representing the inputs can be accessed via their name, qid, or tag which is the first word in the description.\n",
    "Both attribute-like and dictionary-like referencing is supported."
   ]
  },
  {
   "cell_type": "code",
   "execution_count": null,
   "metadata": {},
   "outputs": [],
   "source": [
    "# These all point to same object (note that this cell fails if commented lines are uncommented without using proper QID)\n",
    "#a5.data.options.q1234567890       # Ref by QID, note \"q\" prefix\n",
    "a5.data.options.FAST               # Ref by tag, note that it is always all caps, no special symbols allowed and max 10 characters\n",
    "#a5.data.options.Opt_1234567890    # Ref by name\n",
    "a5.data.options.active             # Ref to options input that is currently active and will be used in the next simulation\n",
    "#a5.data[\"options\"][\"q1234567890\"] # Dictionary-like access"
   ]
  },
  {
   "cell_type": "markdown",
   "metadata": {},
   "source": [
    "Each input object (as well as result group) has methods to access its meta data and alter the description (and, hence, tag).\n",
    "The inbut objects don't read the actual data when `Ascot` object is initialized to keep it light-weight.\n",
    "The `read` method reads the raw data from the HDF5 file but for post-processing purposes there are better tools which are introduced later."
   ]
  },
  {
   "cell_type": "code",
   "execution_count": null,
   "metadata": {},
   "outputs": [],
   "source": [
    "a5.data.options.active.get_qid()\n",
    "a5.data.options.active.get_date()\n",
    "a5.data.options.active.get_name()\n",
    "\n",
    "a5.data.options.active.set_desc(\"New tag\")\n",
    "# The tag was updated\n",
    "a5.data.options.NEW.get_desc()\n",
    "a5.data.options.active.activate() # Set group as active\n",
    "#a5.data.options.active.destroy() # This would remove the data from the HDF5 file\n",
    "a5.data.options.active.read()"
   ]
  },
  {
   "cell_type": "markdown",
   "metadata": {},
   "source": [
    "Most of what has been said is true for the result groups as well.\n",
    "Result groups also hold direct references to inputs.\n",
    "Again, `ls()` shows overview of the group's contents."
   ]
  },
  {
   "cell_type": "code",
   "execution_count": null,
   "metadata": {},
   "outputs": [],
   "source": [
    "a5.data.HELLO.get_desc() # Recall we set run description ascot5_main --d=\"Hello world!\"\n",
    "a5.data.HELLO.bfield.get_desc() # Inputs used in a run can be referenced like this\n",
    "info = a5.data.HELLO.ls(show=True)"
   ]
  },
  {
   "cell_type": "markdown",
   "metadata": {},
   "source": [
    "This concludes the tutorial on how the file is organized and accessed.\n",
    "For input generation and post-processing, the `Ascot` object, its `data` attribute, and the result groups are mostly relevant."
   ]
  },
  {
   "cell_type": "markdown",
   "metadata": {},
   "source": [
    "<a id='ascotpy'></a>"
   ]
  },
  {
   "cell_type": "markdown",
   "metadata": {},
   "source": [
    "## Python interface to libascot.so\n",
    "\n",
    "Many of the Python tools in `a5py` make use of the `libascot.so` shared library that provides direct access to same functions that `ascot5_main` uses to trace markers and interpolate inputs.\n",
    "The `Ascot` object automatically initializes the interface to `libascot` via `ascotpy` package provided that the library has been compiled.\n",
    "\n",
    "However, inputs must be initialized and freed manually. Here's an example on how to initialize magnetic field input."
   ]
  },
  {
   "cell_type": "code",
   "execution_count": null,
   "metadata": {},
   "outputs": [],
   "source": [
    "from a5py import Ascot\n",
    "\n",
    "a5 = Ascot(\"ascot.h5\") # Use the same file as in the previous tutorials\n",
    "a5.input_init(bfield=True) # Initialize active bfield input\n",
    "\n",
    "# To initialize specific input, provide its QID as a string. Since a bfield is already initialized,\n",
    "# use switch=True to switch input or else exception is raised.\n",
    "#a5.input_init(bfield=\"1234567890\", switch=True)\n",
    "\n",
    "a5.input_initialized() # Shows what inputs are currently initialized"
   ]
  },
  {
   "cell_type": "markdown",
   "metadata": {},
   "source": [
    "Routines that require the Python interface will raise an exception if required input has not been initialized before the routine was called.\n",
    "Since magnetic field is now initialized, we can safely interpolate and plot it.\n",
    "Once you no longer need the specific data, you can deallocate it to free some memory.\n",
    "Note that marker and options input cannot be initialized (here).\n",
    "\n",
    "You can ignore the warnings below.\n",
    "They just inform you in what units the functions expect the arguments to be in.\n",
    "The units in ``a5py`` are implemented via ``unyt`` package; see the documentation for details."
   ]
  },
  {
   "cell_type": "code",
   "execution_count": null,
   "metadata": {},
   "outputs": [],
   "source": [
    "import matplotlib.pyplot as plt\n",
    "\n",
    "psi, rho = a5.input_eval(6.2, 0, 0, 0, \"psi\", \"rho\")\n",
    "print(\"psi = %.2f, rho = %.2f\" % (psi, rho))\n",
    "\n",
    "ax = plt.figure().add_subplot(1,1,1)\n",
    "a5.input_plotrz(np.linspace(4,8,50), np.linspace(-4, 4, 100), \"psi\", axes=ax)\n",
    "plt.show(block=False)\n",
    "\n",
    "a5.input_free(bfield=True) # Deallocates just the magnetic field input\n",
    "a5.input_free()            # Deallocates all inputs (except markers and options)"
   ]
  },
  {
   "cell_type": "markdown",
   "metadata": {},
   "source": [
    "<a id='inputgen'></a>"
   ]
  },
  {
   "cell_type": "markdown",
   "metadata": {},
   "source": [
    "## Input generation\n",
    "\n",
    "ASCOT5 is modular when it comes to inputs.\n",
    "Several different implementations of magnetic field, electric field, etc. exist.\n",
    "When planning a study, check from the documentation (see `a5py.ascot5io`) what kind of inputs would serve you and what kind of data those need.\n",
    "The required data is listed in the `write_hdf5` function corresponding to that input.\n",
    "\n",
    "Once that is decided, there are two ways to proceed.\n",
    "Templates for different kind of inputs can be found in `a5py.templates`.\n",
    "Some of the templates import data from external sources, e.g. EQDSK, to ASCOT5 and using those is strongly recommended.\n",
    "\n",
    "If no suitable template exists, one must generate the arguments for the `write_hdf5` function themselves.\n",
    "\n",
    "Running `ascot5_main` requires that all input parents (`bfield`, `efield`, `plasma`, `wall`, `neutral`, `boozer`, `mhd`, `marker`, `options`) have at least one input present.\n",
    "Some of these are actually rarely used in a simulation and for those it is sufficient to provide dummy data.\n",
    "\n",
    "No matter how or what input is created, all is done via `create_input` method."
   ]
  },
  {
   "cell_type": "code",
   "execution_count": null,
   "metadata": {},
   "outputs": [],
   "source": [
    "from a5py import Ascot\n",
    "a5 = Ascot(\"ascot.h5\")\n",
    "\n",
    "# Call explicitly E_TC.write_hdf5 function that requires exyz as a parameter\n",
    "a5.data.create_input(\"E_TC\", exyz=np.array([0,0,0]), activate=True, desc=\"Zero electric field\")\n",
    "\n",
    "# Use template\n",
    "a5.data.create_input(\"bfield analytical iter circular\")"
   ]
  },
  {
   "cell_type": "markdown",
   "metadata": {},
   "source": [
    "<a id='postprocess'></a>"
   ]
  },
  {
   "cell_type": "markdown",
   "metadata": {},
   "source": [
    "## Post-processing\n",
    "\n",
    "Simulations are post-processed by using the corresponding run group in `data`.\n",
    "Run groups provide access to the data, supports evaluation of quantities derived from the data, and host many routines to export or plot the data."
   ]
  },
  {
   "cell_type": "code",
   "execution_count": null,
   "metadata": {},
   "outputs": [],
   "source": [
    "from a5py import Ascot\n",
    "a5 = Ascot(\"ascot.h5\")\n",
    "\n",
    "# Get final (R,z) coordinates of all markers that hit the wall\n",
    "r,z = a5.data.active.getstate(\"r\", \"z\", state=\"end\", endcond=\"wall\", ids=None)\n",
    "\n",
    "# Plot (time, energy) of confined marker orbits\n",
    "ax = plt.figure().add_subplot(1,1,1)\n",
    "a5.data.active.plotorbit_trajectory(\"time\", \"ekin\", endcond=\"not wall\", axes=ax)\n",
    "plt.show(block=False)\n",
    "\n",
    "# Summarize simulation\n",
    "a5.data.active.getstate_markersummary()\n",
    "\n",
    "# Visualize losses\n",
    "\n",
    "# Etc... see the documentation of RunGroup for details"
   ]
  },
  {
   "cell_type": "markdown",
   "metadata": {},
   "source": [
    "<a id='simulation'></a>"
   ]
  },
  {
   "cell_type": "markdown",
   "metadata": {},
   "source": [
    "## Live simulations"
   ]
  },
  {
   "cell_type": "markdown",
   "metadata": {},
   "source": [
    "The Python interface to `libascot.so` provides a way to run simulations directly from Python.\n",
    "These \"live\" simulations are equivalent to those run via `ascot5_main` except that the markers, options, and results are not stored in the HDF5 file.\n",
    "These simulations are convenient to use, but the main intention is to use them for post-processing or light simulations on a desktop.\n",
    "\n",
    "Running live simulations requires that you have the inputs (excluding markers and options) present in the HDF5 file."
   ]
  },
  {
   "cell_type": "code",
   "execution_count": null,
   "metadata": {},
   "outputs": [],
   "source": [
    "from a5py import Ascot\n",
    "a5 = Ascot(\"ascot.h5\")\n",
    "\n",
    "# This method initializes and \"packs\" inputs in a single array. No input data can be freed while the\n",
    "# data is packed.\n",
    "a5.simulation_initinputs()\n",
    "\n",
    "# Marker input can be anything but here we just use the on ascot.h5\n",
    "mrk = a5.data.marker.active.read()\n",
    "a5.simulation_initmarkers(**mrk)\n",
    "\n",
    "# Options input can also be anything but here we just use the on ascot.h5\n",
    "opt = a5.data.options.active.read()\n",
    "a5.simulation_initoptions(**opt)\n",
    "\n",
    "print(\"Input initialized\")"
   ]
  },
  {
   "cell_type": "markdown",
   "metadata": {},
   "source": [
    "Running the live simulation returns a `VirtualRun` object which in many ways behaves similarly as the `RunGroup` introduced earlier."
   ]
  },
  {
   "cell_type": "code",
   "execution_count": null,
   "metadata": {},
   "outputs": [],
   "source": [
    "vrun = a5.simulation_run()\n",
    "\n",
    "# Get final (R,z) coordinates of all markers that hit the wall\n",
    "r, z = vrun.getstate(\"r\", \"z\", state=\"end\", endcond=\"wall\", ids=None)\n",
    "print(r,z)\n",
    "\n",
    "# Plot (time, energy) of confined marker orbits\n",
    "ax = plt.figure().add_subplot(1,1,1)\n",
    "vrun.plotorbit_trajectory(\"time\", \"ekin\", endcond=\"not wall\", axes=ax)\n",
    "plt.show(block=True)\n",
    "\n",
    "# Summarize simulation\n",
    "vrun.getstate_markersummary()\n",
    "\n",
    "# Visualize losses\n",
    "\n",
    "# Etc... see the documentation of RunGroup for details"
   ]
  },
  {
   "cell_type": "markdown",
   "metadata": {},
   "source": [
    "To rerun the code, free the simulation output.\n",
    "Once it is freed, the previous `VirtualRun` becomes an empty shell and it is no longer usable.\n",
    "Once you have had enough fun, the markers should be freed and inputs unpacked and deallocated."
   ]
  },
  {
   "cell_type": "code",
   "execution_count": null,
   "metadata": {},
   "outputs": [],
   "source": [
    "a5.simulation_free(diagnostics=True)\n",
    "a5.simulation_run()\n",
    "\n",
    "a5.simulation_free(inputs=True, markers=True, diagnostics=True)"
   ]
  },
  {
   "cell_type": "markdown",
   "metadata": {},
   "source": [
    "## Need help?\n",
    "\n",
    "1. Ask in our ASCOT5 Slack channel.\n",
    "\n",
    "2. If you have an issue to report, use the GitHub issue tracker.\n",
    "   For bugs, state which version/branch you are using and try to provide the HDF5 file.\n",
    "\n",
    "3. Join one of our \"weekly\" meetings to present your research and discuss any issues."
   ]
  },
  {
   "cell_type": "markdown",
   "metadata": {},
   "source": []
  }
 ],
 "metadata": {
  "kernelspec": {
   "display_name": "ascot5",
   "language": "python",
   "name": "ascot5"
  },
  "language_info": {
   "codemirror_mode": {
    "name": "ipython",
    "version": 3
   },
   "file_extension": ".py",
   "mimetype": "text/x-python",
   "name": "python",
   "nbconvert_exporter": "python",
   "pygments_lexer": "ipython3",
   "version": "3.11.3"
  }
 },
 "nbformat": 4,
 "nbformat_minor": 4
}
