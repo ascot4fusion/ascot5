{
 "cells": [
  {
   "cell_type": "markdown",
   "metadata": {},
   "source": [
    "# Generating markers\n",
    "\n",
    "This tutorial illustrates the different ways marker input is created.\n",
    "\n",
    "## Generating markers explicitly\n",
    "\n",
    "The straight-forward way to initialize markers is to just fill the marker dictionary with proper data.\n",
    "Marker input can either consist of particles, guiding centers, or field lines, but the input does not necessarily have to correspond to the simulation mode.\n",
    "It is perfectly fine to use particle input for a guiding-center simulation and vice-versa.\n",
    "The only real limitation is that field line input can only be used in field line simulations.\n",
    "\n",
    "> **_NOTE:_** When particle or guiding center input is used in a field line simulation, the field lines to be traced are initialized at the (particle's) guiding center position.\n",
    "\n",
    "You can find the information on what data is required to initialize a specific type of marker in the description of the corresponding ``write_hdf5`` function.\n",
    "A more convenient way is to use ``a5py.ascot5io.marker.Marker.generate`` to create an empty template that already contains the relevant arrays where you only need to replace the dummy values with actual data:"
   ]
  },
  {
   "cell_type": "code",
   "execution_count": null,
   "metadata": {},
   "outputs": [],
   "source": [
    "import numpy as np\n",
    "import matplotlib.pyplot as plt\n",
    "import unyt\n",
    "from a5py.ascot5io.marker import Marker\n",
    "mrk = Marker.generate(\"gc\", n=100)\n",
    "mrk[\"energy\"][:] = 3.5e6\n",
    "mrk[\"pitch\"][:]  = 0.99 - 1.98 * np.random.rand(100,)\n",
    "mrk[\"r\"][:]      = np.linspace(6.2, 8.2, 100)"
   ]
  },
  {
   "cell_type": "markdown",
   "metadata": {},
   "source": [
    "It is strongly recommended that the marker input consists of a single species, i.e., ``mass``, ``anum``, and ``znum`` should be identical for all markers.\n",
    "``generate`` can be used to fill these fields automatically by specifying the particle species.\n",
    "By default the markers are assumed to be fully ionized, but you can change the charge at will."
   ]
  },
  {
   "cell_type": "code",
   "execution_count": null,
   "metadata": {},
   "outputs": [],
   "source": [
    "mrk = Marker.generate(\"gc\", n=100, species=\"alpha\")\n",
    "print(mrk[\"anum\"][0], mrk[\"znum\"][0], mrk[\"mass\"][0], mrk[\"charge\"][0])\n",
    "mrk[\"energy\"][:] = 3.5e6\n",
    "mrk[\"pitch\"][:]  = 0.99 - 1.98 * np.random.rand(100,)\n",
    "mrk[\"r\"][:]      = np.linspace(6.2, 8.2, 100)\n",
    "mrk[\"charge\"][:] = 1"
   ]
  },
  {
   "cell_type": "markdown",
   "metadata": {},
   "source": [
    "## Generating markers from end state\n",
    "\n",
    "You may want to create a new marker input from the endstate of a previous simulation.\n",
    "Common cases where this is done is when the markers met the CPUMAX end condition or they were traced as guiding centers to separatrix and the simulation is continued in gyro-orbit mode to model wall loads accurately.\n",
    "\n",
    "To demonstrate how this can be done, we first run a simple simulation with the previously generated markers:"
   ]
  },
  {
   "cell_type": "code",
   "execution_count": null,
   "metadata": {},
   "outputs": [],
   "source": [
    "from a5py import Ascot\n",
    "\n",
    "a5 = Ascot(\"ascot.h5\", create=True)\n",
    "\n",
    "a5.data.create_input(\"gc\", **mrk)\n",
    "a5.data.create_input(\"bfield analytical iter circular\", desc=\"ANALYTICAL\")\n",
    "a5.data.create_input(\"wall rectangular\")\n",
    "a5.data.create_input(\"E_TC\")\n",
    "a5.data.create_input(\"N0_1D\")\n",
    "a5.data.create_input(\"Boozer\")\n",
    "a5.data.create_input(\"MHD_STAT\")\n",
    "a5.data.create_input(\"asigma_loc\")\n",
    "\n",
    "# DT-plasma will be needed later in this tutorial\n",
    "nrho  = 101\n",
    "rho   = np.linspace(0, 2, nrho).T\n",
    "prof  = (1.0 - rho**(3.0/2))**3\n",
    "prof  = (rho<=1)*(1.0 - rho**(3.0/2))**3 + 1e-6\n",
    "edens = 2e21 * prof\n",
    "etemp = 1e4  * np.ones((nrho, 1))\n",
    "idens = 1e21 * np.tile(prof,(2,1)).T\n",
    "itemp = 1e4  * np.ones((nrho, 1))\n",
    "\n",
    "edens[rho>=1]   = 1\n",
    "idens[rho>=1,:] = 1\n",
    "\n",
    "pls = {\n",
    "    \"nrho\" : nrho, \"nion\" : 2, \"rho\" : rho,\n",
    "    \"anum\" : np.array([2, 3]), \"znum\" : np.array([1, 1]),\n",
    "    \"mass\" : np.array([2.014, 3.016]), \"charge\" : np.array([1, 1]),\n",
    "    \"edensity\" : edens, \"etemperature\" : etemp,\n",
    "    \"idensity\" : idens, \"itemperature\" : itemp}\n",
    "a5.data.create_input(\"plasma_1D\", **pls, desc=\"DT\")\n",
    "\n",
    "from a5py.ascot5io.options import Opt\n",
    "opt = Opt.get_default()\n",
    "opt.update({\n",
    "    \"SIM_MODE\":2, \"ENABLE_ADAPTIVE\":1, \"ENABLE_ORBIT_FOLLOWING\":1,\n",
    "    \"ENDCOND_SIMTIMELIM\":1, \"ENDCOND_MAX_MILEAGE\":1e-5,\n",
    "    \"ENDCOND_RHOLIM\":1, \"ENDCOND_MAX_RHO\":0.9,\n",
    "})\n",
    "a5.data.create_input(\"opt\", **opt, desc=\"SHORT\")\n",
    "\n",
    "import subprocess\n",
    "subprocess.run([\"./../../build/ascot5_main\", \"--d=\\\"BEAMSD\\\"\"])\n",
    "print(\"Simulation complete\")"
   ]
  },
  {
   "cell_type": "markdown",
   "metadata": {},
   "source": [
    "Now that the simulation is complete, we can read the data and generate the input with simply:"
   ]
  },
  {
   "cell_type": "code",
   "execution_count": null,
   "metadata": {},
   "outputs": [],
   "source": [
    "a5 = Ascot(\"ascot.h5\")\n",
    "mrk = a5.data.active.getstate_markers(\"gc\")\n",
    "print(mrk[\"n\"])"
   ]
  },
  {
   "cell_type": "markdown",
   "metadata": {},
   "source": [
    "Since endstate contains both particle and guiding center coordinates, one can freely choose which type of input to create.\n",
    "Note that this function supports pruning markers by their ID and, hence, their end condition:"
   ]
  },
  {
   "cell_type": "code",
   "execution_count": null,
   "metadata": {},
   "outputs": [],
   "source": [
    "ids = a5.data.active.getstate(\"ids\", endcond=\"RHOMAX\")\n",
    "mrk = a5.data.active.getstate_markers(\"gc\", ids=ids)\n",
    "print(mrk[\"n\"])\n",
    "print(mrk[\"ids\"])"
   ]
  },
  {
   "cell_type": "markdown",
   "metadata": {},
   "source": [
    "## Generating markers that represent physical populations\n",
    "\n",
    "The supporting tools AFSI and BBNBI can generate a particle source for slowing-down simulations of fast ions.\n",
    "These tools produce 5D distributions from which markers can be sampled using ``MarkerGenerator``.\n",
    "To illustrate how it is used, we first create test data with AFSI:"
   ]
  },
  {
   "cell_type": "code",
   "execution_count": null,
   "metadata": {},
   "outputs": [],
   "source": [
    "# Grid spanning the whole plasma\n",
    "rmin =  4.2; rmax = 8.2; nr = 50\n",
    "zmin = -2.0; zmax = 2.0; nz = 50\n",
    "\n",
    "# AFSI run\n",
    "a5.afsi.thermal(\n",
    "    \"DT_He4n\",\n",
    "    rmin, rmax, nr, zmin, zmax, nz,\n",
    "    minphi=0, maxphi=2*np.pi, nphi=1, nmc=1000,\n",
    "    minppara=-1.3e-19, maxppara=1.3e-19, nppara=80,\n",
    "    minpperp=0, maxpperp=1.3e-19, npperp=40)"
   ]
  },
  {
   "cell_type": "markdown",
   "metadata": {},
   "source": [
    "A ``MarkerGenerator`` can be found in ``markergen`` attribute in ``Ascot``.\n",
    "Supplying the 5D distribution, which can also be from BBNBI or from any other source, to its ``generate`` method along with the species` information creates a marker input with requested amount of markers:"
   ]
  },
  {
   "cell_type": "code",
   "execution_count": null,
   "metadata": {},
   "outputs": [],
   "source": [
    "# The input must be a 5D distribution (which is what AFSI calculates)\n",
    "alphadist = a5.data.active.getdist(\"prod1\")\n",
    "\n",
    "# \"Extra\" dimensions (time and charge) must be removed first\n",
    "alphadist.integrate(time=np.s_[:], charge=np.s_[:])\n",
    "\n",
    "# Generate markers\n",
    "nmrk   = 10**6\n",
    "anum   = 4\n",
    "znum   = 2\n",
    "mass   = 4.014*unyt.amu\n",
    "charge = 2.0*unyt.e\n",
    "mrk = a5.markergen.generate(nmrk, mass, charge, anum, znum, alphadist)\n",
    "\n",
    "# Plot\n",
    "fig = plt.figure()\n",
    "ax1 = fig.add_subplot(1,2,1)\n",
    "ax1.scatter(mrk[\"r\"], mrk[\"z\"])\n",
    "\n",
    "ax2 = fig.add_subplot(1,2,2)\n",
    "ax2.scatter(mrk[\"pitch\"], mrk[\"energy\"])\n",
    "ax2.set_xlim(-1, 1)\n",
    "ax2.set_ylim(0, 6e6)\n",
    "plt.show()"
   ]
  },
  {
   "cell_type": "markdown",
   "metadata": {},
   "source": [
    "The generator works also when the momentum distribution is in $(E,\\xi)$ basis.\n",
    "It also calculates the distribution of generated markers (with and without weights) so that these can be compared to the inputs."
   ]
  },
  {
   "cell_type": "code",
   "execution_count": null,
   "metadata": {},
   "outputs": [],
   "source": [
    "# Repeat the above example but with Exi distribution\n",
    "alphadist = a5.data.active.getdist(\n",
    "    \"prod1\", exi=True, ekin_edges=20, pitch_edges=10)\n",
    "alphadist.integrate(time=np.s_[:], charge=np.s_[:])\n",
    "\n",
    "# Generate markers\n",
    "nmrk   = 10**6\n",
    "anum   = 4\n",
    "znum   = 2\n",
    "mass   = 4.014*unyt.amu\n",
    "charge = 2.0*unyt.e\n",
    "mrk, mrkdist, prtdist = a5.markergen.generate(\n",
    "    nmrk, mass, charge, anum, znum, alphadist, return_dists=True)\n",
    "\n",
    "# Plot\n",
    "mrkdist_rz  = mrkdist.integrate(ekin=np.s_[:], pitch=np.s_[:], phi=np.s_[:], copy=True)\n",
    "mrkdist_exi = mrkdist.integrate(r=np.s_[:], z=np.s_[:], phi=np.s_[:], copy=True)\n",
    "\n",
    "fig = plt.figure()\n",
    "ax1 = fig.add_subplot(1,2,1)\n",
    "mrkdist_rz.plot(axes=ax1)\n",
    "\n",
    "ax2 = fig.add_subplot(1,2,2)\n",
    "mrkdist_exi.plot(axes=ax2)\n",
    "plt.show()"
   ]
  },
  {
   "cell_type": "markdown",
   "metadata": {},
   "source": [
    "However, the markers that are created this way have all (almost) equal weights, i.e. the markers themselves have the same distribution as the alpha particles that are born.\n",
    "This might be undesirable if for example one is interested in wall loads: most alphas are born in the core and thus simulating those is just a waste of CPU time since they are unlikely to contribute to the losses.\n",
    "\n",
    "A better way is to have a separate distribution from which markers are sampled, and use the alpha particle birth distribution (or any other particle distribution) only to assign correct weights for the markers.\n",
    "To make a crude illustration of this idea, we define a marker distribution that is uniform in space, and reject markers whose weight is below some threshold.\n",
    "This way we get a distribution of markers that is uniform in space (inside the separatrix) and still represents the alpha particle population as a whole when weights (now non-identical) are included."
   ]
  },
  {
   "cell_type": "code",
   "execution_count": null,
   "metadata": {},
   "outputs": [],
   "source": [
    "# 5D (Exi) distribution of alphas\n",
    "alphadist = a5.data.active.getdist(\n",
    "    \"prod1\", exi=True, ekin_edges=20, pitch_edges=10)\n",
    "alphadist.integrate(time=np.s_[:], charge=np.s_[:])\n",
    "\n",
    "# Construct a 5D distribution that is uniform\n",
    "markerdist = alphadist._copy()\n",
    "markerdist._distribution[:] = 1\n",
    "\n",
    "# Generate markers\n",
    "nmrk   = 10**6\n",
    "anum   = 4\n",
    "znum   = 2\n",
    "mass   = 4.014*unyt.amu\n",
    "charge = 2.0*unyt.e\n",
    "mrk, mrkdist, prtdist = a5.markergen.generate(\n",
    "    nmrk, mass, charge, anum, znum, alphadist, markerdist=markerdist,\n",
    "    return_dists=True, minweight=1)\n",
    "\n",
    "# Plot both the distribution of markers and distribution of\n",
    "# particles (markers with weights)\n",
    "mrkdist_rz  = mrkdist.integrate(ekin=np.s_[:], pitch=np.s_[:], phi=np.s_[:], copy=True)\n",
    "mrkdist_exi = mrkdist.integrate(r=np.s_[:], z=np.s_[:], phi=np.s_[:], copy=True)\n",
    "prtdist_rz  = prtdist.integrate(ekin=np.s_[:], pitch=np.s_[:], phi=np.s_[:], copy=True)\n",
    "prtdist_exi = prtdist.integrate(r=np.s_[:], z=np.s_[:], phi=np.s_[:], copy=True)\n",
    "\n",
    "fig = plt.figure()\n",
    "ax1 = fig.add_subplot(2,2,1)\n",
    "mrkdist_rz.plot(axes=ax1)\n",
    "\n",
    "ax2 = fig.add_subplot(2,2,3)\n",
    "prtdist_rz.plot(axes=ax2)\n",
    "\n",
    "ax3 = fig.add_subplot(2,2,2)\n",
    "mrkdist_exi.plot(axes=ax3)\n",
    "\n",
    "ax4 = fig.add_subplot(2,2,4)\n",
    "prtdist_exi.plot(axes=ax4)\n",
    "plt.show()"
   ]
  },
  {
   "cell_type": "markdown",
   "metadata": {},
   "source": [
    "Specifying the marker distribution explicitly is not convenient, which is why there is a tool that converts a 1D profile to a 3D distribution.\n",
    "This still leaves one with the freedom to choose the momentum distribution as they wish.\n",
    "Here we use a rho profile that peaks towards the edge:"
   ]
  },
  {
   "cell_type": "code",
   "execution_count": null,
   "metadata": {},
   "outputs": [],
   "source": [
    "# 5D (Exi) distribution of alphas\n",
    "alphadist = a5.data.active.getdist(\n",
    "    \"prod1\", exi=True, ekin_edges=20, pitch_edges=10)\n",
    "alphadist.integrate(time=np.s_[:], charge=np.s_[:])\n",
    "\n",
    "# Generate markerdist from a rho profile\n",
    "rho  = np.linspace(0, 1, 100)\n",
    "prob = np.ones((100,))\n",
    "prob = (1.0+rho)**3\n",
    "\n",
    "a5.input_init(bfield=True)\n",
    "markerdist = a5.markergen.rhoto5d(\n",
    "    rho, prob, alphadist.abscissa_edges(\"r\"),\n",
    "    alphadist.abscissa_edges(\"phi\"), alphadist.abscissa_edges(\"z\"),\n",
    "    alphadist.abscissa_edges(\"ekin\"), alphadist.abscissa_edges(\"pitch\"))\n",
    "a5.input_free()\n",
    "\n",
    "# Generate markers\n",
    "nmrk   = 10**6\n",
    "anum   = 4\n",
    "znum   = 2\n",
    "mass   = 4.014*unyt.amu\n",
    "charge = 2.0*unyt.e\n",
    "mrk, mrkdist, prtdist = a5.markergen.generate(\n",
    "    nmrk, mass, charge, anum, znum, alphadist, markerdist=markerdist,\n",
    "    return_dists=True, minweight=1)\n",
    "\n",
    "# Plot both the distribution of markers and distribution of\n",
    "# particles (markers with weights)\n",
    "mrkdist_rz  = mrkdist.integrate(ekin=np.s_[:], pitch=np.s_[:], phi=np.s_[:], copy=True)\n",
    "mrkdist_exi = mrkdist.integrate(r=np.s_[:], z=np.s_[:], phi=np.s_[:], copy=True)\n",
    "prtdist_rz  = prtdist.integrate(ekin=np.s_[:], pitch=np.s_[:], phi=np.s_[:], copy=True)\n",
    "prtdist_exi = prtdist.integrate(r=np.s_[:], z=np.s_[:], phi=np.s_[:], copy=True)\n",
    "\n",
    "fig = plt.figure()\n",
    "ax1 = fig.add_subplot(2,2,1)\n",
    "mrkdist_rz.plot(axes=ax1)\n",
    "\n",
    "ax2 = fig.add_subplot(2,2,3)\n",
    "prtdist_rz.plot(axes=ax2)\n",
    "\n",
    "ax3 = fig.add_subplot(2,2,2)\n",
    "mrkdist_exi.plot(axes=ax3)\n",
    "\n",
    "ax4 = fig.add_subplot(2,2,4)\n",
    "prtdist_exi.plot(axes=ax4)\n",
    "plt.show()"
   ]
  },
  {
   "cell_type": "markdown",
   "metadata": {},
   "source": []
  }
 ],
 "metadata": {
  "language_info": {
   "name": "python"
  }
 },
 "nbformat": 4,
 "nbformat_minor": 4
}
