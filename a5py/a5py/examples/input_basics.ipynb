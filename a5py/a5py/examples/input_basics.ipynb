{
 "cells": [
  {
   "cell_type": "markdown",
   "metadata": {},
   "source": [
    "**version 5.3**\n",
    "\n",
    "# Input basics\n",
    "\n",
    "This example shows the basics of input generation using the low level IO package `ascot5io`.\n",
    "\n",
    "1. <a href='#bfield'>Magnetic and electric field</a>\n",
    "2. <a href='#markers'>Markers</a>\n",
    "3. <a href='#options'>Options</a>\n",
    "4. <a href='#wall'>Wall</a>\n",
    "5. <a href='#other'>Other inputs</a>\n",
    "\n",
    "### Necessary imports"
   ]
  },
  {
   "cell_type": "code",
   "execution_count": 1,
   "metadata": {},
   "outputs": [],
   "source": [
    "import numpy as np\n",
    "from a5py.ascot5io.ascot5 import Ascot"
   ]
  },
  {
   "cell_type": "markdown",
   "metadata": {},
   "source": [
    "<a id='bfield'></a>"
   ]
  },
  {
   "cell_type": "markdown",
   "metadata": {},
   "source": [
    "## Magnetic and electric field\n",
    "\n",
    "Having valid magnetic and electric field inputs is necessary for all ASCOT5 simulations. There are several different magnetic field input types to choose from, but the one most commonly used is `B_2DS` which represents axisymmetric tokamak field interpolated using bicubic splines.\n",
    "\n",
    "In `B_2DS` module, the magnetic field poloidal component is evaluated from the poloidal flux as\n",
    "\n",
    "$$B_R = -\\frac{1}{R}\\frac{\\partial\\psi}{\\partial z} \\qquad B_z = \\frac{1}{R}\\frac{\\partial\\psi}{\\partial R}$$\n",
    "\n",
    "and the toroidal component is given as an input. The poloidal flux is in addition used to evaluate the normalized poloidal flux which is used as a flux coordinate. \n",
    "\n",
    "**Note**\n",
    "It is possible to give also the poloidal component separately, but in this case it is summed to the components calculated from the poloidal flux so this possibility is rarely used. If one insists on giving the poloidal components explicitly, one can avoid double counting by multiplying the poloidal flux with a small number but be cautious here as something might break.\n",
    "\n",
    "There are higher level tools that read EQDSK and write it as a `B_2DS` input (see `a5py/preprocessing/eqdsk2input.py`) but here the point is to demonstrate the lower level tools. Before demonstration, we need to create suitable data using the analytical model (see `B_GS` if you wish to learn the details):"
   ]
  },
  {
   "cell_type": "code",
   "execution_count": null,
   "metadata": {},
   "outputs": [],
   "source": [
    "import a5py.ascot5io.B_GS as B_GS\n",
    "\n",
    "# ITER-like but circular equilibrium\n",
    "psi_mult  = 200\n",
    "R0        = 6.2\n",
    "z0        = 0\n",
    "Bphi0     = 5.3\n",
    "psi_coeff = np.array([ 2.218e-02, -1.288e-01, -4.177e-02, -6.227e-02,\n",
    "                       6.200e-03, -1.205e-03, -3.701e-05,  0,\n",
    "                       0,          0,          0,          0,         -0.155])\n",
    "\n",
    "Rmin = 4; Rmax = 8.5; nR = 120; zmin = -4; zmax = 4; nz = 200;\n",
    "B_GS.write_hdf5_B_2DS(\"input_basics.h5\", R0, z0, Bphi0, psi_mult,\n",
    "                      psi_coeff, Rmin, Rmax, nR, zmin, zmax, nz, desc=\"Data\")"
   ]
  },
  {
   "cell_type": "markdown",
   "metadata": {},
   "source": [
    "These commands construct an ITER-like magnetic field using the analytical model. The analytical model is then evaluated at the grid points and written as `B_2DS` field in the example file \"input.basics.h5\".\n",
    "\n",
    "Now to demonstrate what data `B_2DS` actually requires, we read the data we just wrote and rewrite it."
   ]
  },
  {
   "cell_type": "code",
   "execution_count": 3,
   "metadata": {},
   "outputs": [
    {
     "data": {
      "text/plain": [
       "'B_2DS_3036893075'"
      ]
     },
     "execution_count": 3,
     "metadata": {},
     "output_type": "execute_result"
    }
   ],
   "source": [
    "import a5py.ascot5io.B_2DS as B_2DS\n",
    "\n",
    "h5 = Ascot(\"input_basics.h5\")\n",
    "data = h5.bfield[\"Data\"].read()\n",
    "\n",
    "B_2DS.write_hdf5(\n",
    "    \"input_basics.h5\",                                   # Filename\n",
    "    axisr=data[\"axisr\"], axisz=data[\"axisz\"],            # Magnetic axis R,z coordinates\n",
    "    psi0=data[\"psi0\"], psi1=data[\"psi1\"],                # Psi value at the axis and at the separatrix\n",
    "    nr=data[\"nr\"], rmin=data[\"rmin\"], rmax=data[\"rmax\"], # R coordinates which define the R,z grid\n",
    "    nz=data[\"nz\"], zmin=data[\"zmin\"], zmax=data[\"zmax\"], # z coordinates which define the R,z grid\n",
    "    psi=data[\"psi\"],                                     # Tabulated poloidal flux at the R,z grid points\n",
    "    bphi=data[\"bphi\"],                                   # Tabulated toroidal field at the R,z grid points\n",
    "    br=data[\"br\"], bz=data[\"bz\"],                        # Poloidal field components but these are usually set to zero\n",
    "    desc=\"Samedata\"                                      # Description / name of the data\n",
    ")"
   ]
  },
  {
   "cell_type": "markdown",
   "metadata": {},
   "source": [
    "There are couple of things that are worth pointing out. There is not a general rule how dense the R,z grid should be. One measure of the field quality is (numerical) divergence. However, the 2D field is guaranteed to be divergence free in the absence of explicitly given $B_\\mathrm{pol}$ ($\\partial_\\phi B_\\phi = 0$ and $B_\\mathrm{pol}$ is calculated from $\\psi$). Other way to validate the grid is to vary the grid resolution and simulate some particles collisionlessly to see if there is artificial transport.\n",
    "\n",
    "A common issue is that some particles near the axis are aborted. If this happens, it is probably because the square root of the normalized poloidal flux, $\\rho$, has become imaginary. This can be fixed by adding some padding to `psi0` value."
   ]
  },
  {
   "cell_type": "markdown",
   "metadata": {},
   "source": [
    "It is common in cases where ASCOT5 is used that the electric field plays no important part. The easy way then to include the electric field is to use the `E_TC` input (Trivial Cartesian electric field), which defines an electric field with constant xyz components, and set all components to zero:"
   ]
  },
  {
   "cell_type": "code",
   "execution_count": 4,
   "metadata": {},
   "outputs": [
    {
     "data": {
      "text/plain": [
       "'E_TC_2706624175'"
      ]
     },
     "execution_count": 4,
     "metadata": {},
     "output_type": "execute_result"
    }
   ],
   "source": [
    "import a5py.ascot5io.E_TC as E_TC\n",
    "\n",
    "E_TC.write_hdf5(\"input_basics\", exyz=np.array([0, 0, 0]), desc=\"ZeroEfield\")"
   ]
  },
  {
   "cell_type": "code",
   "execution_count": null,
   "metadata": {},
   "outputs": [],
   "source": []
  }
 ],
 "metadata": {
  "kernelspec": {
   "display_name": "Python 3",
   "language": "python",
   "name": "python3"
  },
  "language_info": {
   "codemirror_mode": {
    "name": "ipython",
    "version": 3
   },
   "file_extension": ".py",
   "mimetype": "text/x-python",
   "name": "python",
   "nbconvert_exporter": "python",
   "pygments_lexer": "ipython3",
   "version": "3.6.9"
  }
 },
 "nbformat": 4,
 "nbformat_minor": 4
}
